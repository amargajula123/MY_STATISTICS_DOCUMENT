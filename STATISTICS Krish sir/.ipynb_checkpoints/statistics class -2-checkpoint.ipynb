{
 "cells": [
  {
   "cell_type": "code",
   "execution_count": null,
   "id": "fe881abe",
   "metadata": {},
   "outputs": [],
   "source": [
    "why Z-score need ?\n",
    "\n",
    "    with the help of Z-score we will be understand \n",
    "    how many SD that particuler number folls away or\n",
    "    bellow from the mean \n",
    "    \n",
    "    NOTE : Right \"Z-table\" will give you/show value from \n",
    "        \"mean\" to the 'SD' that your looking for that area\n",
    "        it will give \n",
    "        \n",
    "           Left \"Z-table\" will give you/show value from \n",
    "        body end to till 'SD' that you are looking for or\n",
    "        curv from left(0.5)+ to 'SD' that you are looking for\n",
    "        it will give\n",
    "    \n",
    "                           xi - µ\n",
    "                Z-score = --------\n",
    "                             σ\n",
    "            \n",
    "            z table link :=  https://www.ztable.net/\n",
    "                \n",
    " {IQ} : Stats interview question       \n",
    "    \n",
    "    \n",
    "    \n",
    "    \n",
    "    \n",
    "                     0.25 away from\n",
    "                     the mean z \n",
    "                     tlb value is\n",
    "                     |0.25|                 here µ = 4\n",
    "    --|----|----|----|----.---|----|---|  σ = 1 \n",
    "      1    2    3    4          5    6   7\n",
    "        \n",
    "     in this Dstribution where does 4.25 fall ?\n",
    "    \n",
    "    how many Standard Deviation 4.25 fall fram the mean ?\n",
    "\n",
    "               xi - µ     4.25-4 \n",
    "    Z-score = -------- = -------- = 0.25\n",
    "                 σ           1\n",
    "        \n",
    "        Z-score = 0.25\n",
    "        \n",
    "        \n",
    "        \n",
    "        \n",
    "        \n",
    "        \n",
    "                       ,   \n",
    "    --|----|----|----|-.---|----|---|        \n",
    "      1    2    3    4     5    6    7\n",
    "        \n",
    "{IQ} := what persentage of scores fall above 4.25 ?\n",
    "    \n",
    "               xi - µ     4.25-4 \n",
    "    Z-score = -------- = -------- = 0.25\n",
    "                 σ           1    \n",
    "        \n",
    "        tolal curve = 1 like 0.5 left side \n",
    "                             0.5 right side\n",
    "                      total=------\n",
    "                               1\n",
    "                    \n",
    "                 if \"z score\" value is \"possitive\"\n",
    "                 then u move to use  \"v+\"\n",
    "                 Z-score table  if value is \n",
    "                 \"nagative\" use \"-ve\" Table\n",
    "                    \n",
    "                 so here value is possive so \n",
    "                \n",
    "  z -table link : https://www.statisticshowto.com/tables/z-table/              \n",
    "                \n",
    "                left side value =0.5\n",
    "                Z-score         =0.25 after seing z table \n",
    "                                      value is 0.5987\n",
    "                    \n",
    "                 Z-score=0.25 after seing z table mean to 1SD \n",
    "                                      value is 0.0987  \n",
    "                    \n",
    "                    z table value =  0.0987\n",
    "                    \n",
    "                    here 0.5 + 0.0987 = 0.5987\n",
    "                    \n",
    "                \"total curv\" - 0.5987 => 1 - 0.5987 = 0.4013 = 40.13%\n",
    "                      \n",
    "                    \n",
    "      <----0.5987----->              \n",
    "                       ,   \n",
    "    --|----|----|----|-.---|----|---|        \n",
    "      1    2    3    4    5    6    7                    \n",
    "                    \n",
    "          fall above 4.25 = 1 - 0.5987 = 0.4013 = 40.13%\n",
    "                \n",
    "  {IQ} :=\n",
    "    in indian avarage iq is 100 with a standard\n",
    "    diviation of 15 what is the persentage of the\n",
    "    population would you expect to have an IQ lower \n",
    "    then 85 \n",
    "    \n",
    "    \n",
    "    \n",
    "                    |0.15855\n",
    "                    |z-tbl |\n",
    "                    |value |\n",
    "    --|------|------|------|-----|------|------|----\n",
    "      55     70     85    100    115   130     145 \n",
    "                    <---------0.65866---------->\n",
    "        \n",
    "        \n",
    "                   85-100      -15\n",
    "        Z-scrore =--------  =  ----- = -1 check -1 in Z-table\n",
    "                     15         15   \n",
    "                the z table -1 value = 0.15866\n",
    "                \n",
    "    if i need \"tail\" aria so subtract--> \n",
    "              \n",
    "        1 - 0.15866 =  0.84134\n",
    "    \n",
    "                               0.5 - 0.84134 = -0.34134= 34.13%\n",
    "                     ------>   0.5 - 0.15866 = 0.34134 = 34.13%\n",
    "                               0.5 + 0.15866 = 0.65866 = 34.13%\n",
    "            \n",
    "    do this same problem greater then 100 lesser then 125\n",
    "    \n",
    "                   125-100      25\n",
    "        Z-scrore =--------  =  ----- = 1.6666 check 1.66 in Z-table\n",
    "                     15         15 \n",
    "            \n",
    "            \n",
    "            \n",
    "            \n",
    "      |<-------0.9515-------------->|      \n",
    "      |                    0.4515,  |\n",
    "                           1.666away| \n",
    "                           |from the|  \n",
    "                           | mean   |\n",
    "    --|------|------|------|-----|--.----|------|----\n",
    "      55     70     85    100    115    130     145             \n",
    "                           <-0.4515--><---4.8%-->\n",
    "            \n",
    "            \n",
    "                                     \n",
    "                           0.5 - 0.4515 = 0.048499 = 4.8%\n",
    "                  the z table 1.66 value = 0.9515\n",
    "                  the z table 1.66 value = 0.4515 --> only the mean area\n",
    "                     \n",
    "                            'of curv' + 'z table value'\n",
    "                                  0.5 + 0.4515 = 0.9515\n",
    "                                  1 - 0.9515 = 0.0485 = 4.8%\n",
    "                            \n",
    "                                0.5 - 0.9515 = 0.4515 => \n",
    "                                \n",
    "                                \n",
    "                    \n",
    "                                0.5 - 0.4515 = 0.0485 = 4.8%\n",
    "########################################################################################                        \n",
    "P_value :=\n",
    "    P_value bassically says most of the times what is the \n",
    "    probability with respect to p_value for that experiment\n",
    "    \n",
    "    \n",
    "    \n",
    "        \n",
    "        \n",
    "    ex : Space bar key\n",
    "        P = 0.8=80% this can deter mine the probabulity\n",
    "        out of all 100 touches the no.of touches is 80\n",
    "        \n",
    "        {g}\n",
    "        \n",
    "        \n",
    "        \n",
    "        \n",
    "        P = 0.4=40% this can deter mine the probabulity\n",
    "        out of all 100 touches the no.of this 40 times\n",
    "        \n",
    "        \n",
    "   So that you have to combine\n",
    "      1 . Hypothesis_testing\n",
    "      2 . Confidence Interwell  \n",
    "      3 . Significance Value\n",
    "    \n",
    "     NOTE := \n",
    "            always remember we will be running Hypothesis_testing\n",
    "            Confidence Interwell Significance Value P_value\n",
    "            together\n",
    "        \n",
    "  ***Hypothesis_testing***  \n",
    "\n",
    "  Ex : coin TEST : test whether the coin is a fair coin or\n",
    "            not by performimng 100 tosses\n",
    "            \n",
    "            probabulity(head) = 0.5\n",
    "            probabulity(Tail) = 0.5\n",
    "            \n",
    "        when do you think a coin is the faire coin\n",
    "        Ans :=\n",
    "             when the probabulity of \"head\" = 0.5\n",
    "             when the probabulity of \"Tail\" = 0.5  \n",
    "            P(H) = 0.5 P(T) = 0.5 if you have this condition\n",
    "            the coin is fair coin\n",
    "            \n",
    " Note :=always remember when ever we do \"Hypothesis_testing\"\n",
    "        we do have type 1 and type 2 Error\n",
    "        we do have  \"Null_Hypothesis\"(H0) & \"Alternate_Hypothesis\"(H1)   \n",
    "            \n",
    "     Hypothesis_testing_steps :=\n",
    "    \n",
    "        1. null hypothesis(H0) ---> says coin is fair we denote this as H0 \n",
    "        \n",
    "        Ex : a criminal he made some crime he goes to\n",
    "            the cort by defult the cort will say that\n",
    "            his not guilty untill proved\n",
    "            \n",
    "        2.Alternet Hypothesis(H1) ---> we bassically say \n",
    "          coin is not fair it is denoted as (H1)\n",
    "        \n",
    "        3.we have to define some significants values before \n",
    "          this we will be perform some Experiments. with \n",
    "          this Experiments to prove where the coin is fair\n",
    "          coin is not faire \n",
    "            \n",
    "         4.Based on the experiment Reject or accept the\n",
    "           Null hypothesis.\n",
    "            \n",
    "         after 100 tosess i find 50 time tail }   \n",
    "                                  &           }---> coin is fair\n",
    "                          i find 50 time head }\n",
    "                        \n",
    "                          i find 60 time tail }   \n",
    "                                  &           }---> coin is fair\n",
    "                          i find 40 time head }\n",
    "                        \n",
    "                          i find 30 time tail }   \n",
    "                                  &           }---> coin is fair or not\n",
    "                          i find 70 time head }\n",
    "                        \n",
    "                        so here we have to use\n"
   ]
  },
  {
   "cell_type": "markdown",
   "id": "fbc18138",
   "metadata": {},
   "source": [
    "# Finding Confidence Interwell"
   ]
  },
  {
   "cell_type": "code",
   "execution_count": null,
   "id": "f213a971",
   "metadata": {},
   "outputs": [],
   "source": [
    "            1,Confidence Interwell , \n",
    "            2,Significance Value\n",
    "NOTE:=\n",
    "    Based on Significance Value we derive Confidence Interwell\n",
    "        \n",
    "  IMP : \n",
    "      Point Estimation :\n",
    "            the value of any \"statistics\" that estimates\n",
    "            the value of a \"parameter\" is called Point\n",
    "            Estimate\n",
    "  so how do we specify => Sample_mean(x̄)          \n",
    "     how do we specify => Population_mean(µ)\n",
    "      \n",
    "        Ex : Sample_mean(x̄) ----> Population_mean(µ)\n",
    "            \n",
    "     \"Sample_mean\" is a point estimate of this \"Population_mean\"\n",
    "        \n",
    "lets say µ =3 Sample_mean(x̄) =3.5 it can be 2.5 , 4.5 ,2.1 b-coz its sample\n",
    "        \n",
    "        \n",
    "note :=\n",
    "    whenever we talk about \"point estimate\" we basically\n",
    "    talking about sample_mean \n",
    "    \n",
    "     \n",
    "        Point Estimate ± Margin of Error\n",
    "\n",
    "    \n",
    "    C.I formula :=\n",
    "             Point Estimate ± Margin of Error # margin of eorror for it can be greter lesoe equal    \n",
    "            \n",
    "        ******************************            \n",
    "        1,Confidence Interwell :=\n",
    "******************************\n",
    "       Confidence Interwell bassically says that i will be\n",
    "    specify some range B/w this range if the value falls with\n",
    "    in this then i am going to concider this accepted\n",
    "       Confidence Interwell is defined by Domine Experties  \n",
    "    for different Problem statements\n",
    "    \n",
    "    Ex:\n",
    "        for health care \n",
    "        covide vacsine test\n",
    "        \n",
    "        here your error should be very less \n",
    "        \n",
    "    lets say just concider \"Significance Value\"(α) =0.05\n",
    "        \n",
    "           just say \"Significance Value\"(α) = 0.05\n",
    "            \n",
    "            \n",
    "            \n",
    "            \n",
    "            \n",
    "                   the values with in this range          here reject the\n",
    "                    i Accept the Null hypothesys          null HYpothesys\n",
    "                      95%  Confidence Interwell       here coin is not fair \n",
    "regioun= 0.025|        here coin is fair             |regioun= 0.025\n",
    "              --|----|-----|-----|-----|-----|-----|--\n",
    "                20   30    40    50    60    70    80\n",
    "        \n",
    "         \"Confidence Interwell\" (CI) = 1-0.025-0.025\n",
    "                                     = 0.95 = 95%\n",
    "with the help of significancce value i heve to set up 2 religiuns\n",
    "becoz per soppose if iam tossing a coine i may be get 90 times\n",
    "head and it may be get 10 times head so i have to set up margin\n",
    "using this significance value \n",
    "                \n",
    "                \n",
    "           just say \"Significance Value(\"α) = 0.45 \n",
    "        \n",
    "                  the values with in this range         here reject the\n",
    "                  i Accept the Null hypothesys          null HYpothesys\n",
    "                         55%   CI                       here coin is not fair \n",
    "regioun= 0.225|          here coin is fair           |regioun= 0.225\n",
    "              --|----|-----|-----|-----|-----|-----|--\n",
    "                20   30    40    50    60    70    80\n",
    "        \n",
    "             \"Confidence Interwell\"(CI) =  1-0.225-0.225\n",
    "                                        =  0.55 = 55%\n",
    "                \n",
    "{IQ} :=\n",
    "       there is a Bank A for this bank A they have an ATM in Location A\n",
    "       Location B ten km for form Location A   \n",
    "        \n",
    "        Task of data analist as that Based on the data\n",
    "        whether in Location B ATM should be open or not\n",
    "        \n",
    "        \n",
    "        \n",
    "here reject the     the values with in this range         here reject the\n",
    "null HYpothesys     i Accept the Null hypothesys          null HYpothesys\n",
    "                                                      \n",
    "                |          here coin is fair           |regioun= 0.025\n",
    "                --|----|-----|-----|-----|-----|-----|--\n",
    "                 20   30    40    50    60    70    80        \n",
    "         \n",
    "\n",
    "            \n",
    "{IQ} on the quant exam test of cat exam ,the standar deviation\n",
    "     is known to be 100.A sample of 25 test takers has mean of\n",
    "    520 score.constract a 95% C.I about the mean ? \n",
    "    \n",
    "    Ans :\n",
    "                Population SD  σ = 100\n",
    "                               n = 25\n",
    "                               x̄ = 520\n",
    "                             C.I = 95%      \n",
    "\"Significance Value\"(α) = 1-0.95 = 0.05 \n",
    "\n",
    "\n",
    "\n",
    "\n",
    "\n",
    "\n",
    "\n",
    "\n",
    "    0.025|             95% fall here           |0.025\n",
    "       ------|------|------|------|------|-------\n",
    "                          520 \n",
    "            remember this points here\n",
    "            \n",
    "            \n",
    "            1 .Population and SD is given  so we\n",
    "               bassically use Z- Table  or Z- score \n",
    "            2. when we use this Z score table\n",
    "               and this fomula ?\n",
    "               the sample size will be greater then n>30\n",
    "               u can use this formula\n",
    "                \n",
    "            Point Estimate ± Margin of Error\n",
    "            \n",
    "@Formula_of_to_find_out_Confidence_interwell := \n",
    "        \n",
    "        if your Population SD is given and when\n",
    "        your Sample size is greater then n>30\n",
    "          \n",
    "                   Point Estimate ± Margin of Error\n",
    "                \n",
    "                [ Point Estiamte = x̄]\n",
    "                           σ  \n",
    "             := x̄ ± Zα/2 ----  \n",
    "                          √n \n",
    "                     σ \n",
    "         ---->     ----    this turm will define our \n",
    "                    √n    Standard Error\n",
    "            \n",
    "                             σ \n",
    "Lwower Fence C.I = x̄ - Zα/2 ---- = Z0.05/2 =Z 0.025\n",
    "                             √n\n",
    "                                    =  1 - 0.025 = 0.9750\n",
    "                                   see the 0.9750 in Left z table we choosing left all side \n",
    "                                     = 1.96\n",
    "                \n",
    "                \n",
    "                --|---------------------|--\n",
    "                -1.96                  1.96                 \n",
    "                \n",
    "                                          100\n",
    "        Lwower Fence C.I  = 520 - (1.96)* ---   = 480.8    \n",
    "                                          √25\n",
    "            \n",
    " \n",
    "                                      σ \n",
    "        @higher Fence C.I = x̄ + Zα/2 ----\n",
    "                                      √n\n",
    "            \n",
    "                                  100\n",
    "        higher Fence C.I  = 520 + --- * (1.96)  = 559.2   \n",
    "                                  √25   \n",
    "            \n",
    "            \n",
    "                    accept null hypothesis\n",
    "                               95%                 here  reject null hypothesys\n",
    "            ---|----------------|----------------|---\n",
    "              480.8            520              559.2 \n",
    "                \n",
    "                if SD = 80\n",
    "                Lwower Fence C.I = 488.64\n",
    "                higher Fence C.I = 551.36\n",
    "                \n",
    "                \n",
    "{IQ}  \" T_test problem\"\n",
    "     on the quant test CAT exam a sample of 25 test \n",
    "     takers has a mean of 520 with a sample satandard\n",
    "     deviation of  80 . constract 95% C.I about the mean ? \n",
    "\n",
    "ANS :=remember whenever the population standard diviation\n",
    "      is not given you move to use T-test table\n",
    "    \n",
    "  sample standerd diviation S  = 80\n",
    "                             x̄ = 520\n",
    "                           C.I = 95%    \n",
    "Significance Value(α) = 1-0.95 = 0.05 , n=25\n",
    "\n",
    "here Population SD is not given so we use \"T-test\"\n",
    "\n",
    "        Point Estimate ± Margin of Error\n",
    "                                         \n",
    "                        S \n",
    "       C.I  = x̄ ± tα/2 ----  --> this will be my standerd error\n",
    "                        √n \n",
    "                \n",
    "             during this \"t-test\" you need to know\n",
    "            \n",
    "             1. Degree of freedom = n-1 = 25-1 = 24\n",
    "                \n",
    "what is degree of freedom ?\n",
    "        degree of freeedom says that how many possible \n",
    "        options you have \n",
    "           EX : there are 3 chairs \n",
    "                \n",
    "                             S \n",
    "Lwower Fence C.I = x̄ - tα/2 ---- = t0.05/2 = t 0.025\n",
    "                             √n  \n",
    "    \n",
    "                   ---->  t0.05/2 = t0.025  \n",
    "                          check this degree of freedom \n",
    "                          24 and t 0.025 in t table \n",
    "                          the value is 2.064    \n",
    "    \n",
    "                        80 \n",
    "             C.I = x̄ - ---- *(t 0.025)= \n",
    "                       √24 \n",
    "                \n",
    "                          80 \n",
    "Lwower Fence C.I = 520 - ----*(2.064) = 486.976 \n",
    "                          √24 \n",
    "\n",
    "                          80 \n",
    "higher Fence C.I = 520 + ----*(2.064) = 553.024 \n",
    "                           √24     \n",
    "                    \n",
    "                    \n",
    "        -|-----------------|-------------------|-            \n",
    "     486.976              520                553.024\n",
    "    \n",
    " higher Fence C.I = 520 + 2.064 *(80/√25) = 553.024\n",
    "                    \n",
    "                    \n",
    "    Lwower Fence C.I  = 486.976               \n",
    "    higher Fence C.I  = 553.024\n",
    "    "
   ]
  },
  {
   "cell_type": "markdown",
   "id": "cdcd4b7b",
   "metadata": {},
   "source": [
    "# Type 1 and Type 2 Error"
   ]
  },
  {
   "cell_type": "code",
   "execution_count": null,
   "id": "d713aeb0",
   "metadata": {},
   "outputs": [],
   "source": [
    "Note :=always remember when ever we do \"Hypothesis_testing\"\n",
    "        we do have type 1 and type 2 Error\n",
    "        we do have  Null_H ypothesis(H0) &\n",
    "        Ailternate Hypothesis(H1)\n",
    "        \n",
    "        Null_Hypothesis(H0) -----------> coin is fair\n",
    "        Alternate Hypothesis(H1) ------>coin is not fair\n",
    "        \n",
    "Reality check:=\n",
    "    here Null hypothesis is True or Null hypothesis is False\n",
    "  \n",
    "from experiment we make some decisions {decision is done based on experiment}\n",
    "Decision Rule:\n",
    "    Eithere Null hypothesis is True or Null hypothesis is False\n",
    "    Null hypothesis is False we accept the Atternate\n",
    "    hypothesis \n",
    "    \n",
    "    @Uotcome_1:=\n",
    "        we reject the Null hypothesis when in reality\n",
    "        if it is False\n",
    "       \n",
    "    @Outcome_2:=\n",
    "        we reject the Null hypothesis when in reality it is\n",
    "        true ---> this is caled type 1 error\n",
    "        \n",
    "        Ex:=the cort proved a person is not innocent but\n",
    "            reality he is not innocent\n",
    "            \n",
    "    @Outcome_3:=\n",
    "        we Accept the Null hypothesis when in reality it is \n",
    "        False this is called type 2 error\n",
    "        \n",
    "    @Outcome_4:=\n",
    "        we Accept the Null hypothesis when in reality\n",
    "        it is True\n",
    "        \n",
    "           P      N\n",
    "        |------|------|\n",
    "        |      |      | \n",
    "      T | Tp   |  TN  | \n",
    "        |------|------|\n",
    "      F | Fp   |  FN  |--->type 2 error\n",
    "        |      |      |\n",
    "        |------|------|\n",
    "           |\n",
    "           |---> type 1 error "
   ]
  },
  {
   "cell_type": "markdown",
   "id": "13e0101d",
   "metadata": {},
   "source": [
    "#  1 Tail and 2 Tail test"
   ]
  },
  {
   "cell_type": "code",
   "execution_count": null,
   "id": "fcb5a1af",
   "metadata": {},
   "outputs": [],
   "source": [
    "1 Tail and 2 Tail test :=\n",
    "    \n",
    "    \n",
    "    Ex :=A collages in karnataka has an 85% plasements\n",
    "        rate A new collage was recently opened and it\n",
    "        was found that a sample of 150 students had a\n",
    "        placement rate of 88% with a standard diviation\n",
    "        of 4% does this collage has a different placement\n",
    "        rate ?\n",
    "        \n",
    "        this become a 2 tail test\n",
    "        b-coz we checking different\n",
    "        plcement rate it can be less then 85 \n",
    "        it can be greater then 85\n",
    "        \n",
    "just concider  S.V(α)  = 0.05       \n",
    "Significance Value(α)  = 0.05 = 95% --> C.I=95%\n",
    "\n",
    " 0.025%  |            95% C.I          |  0.025% this is calle\n",
    "      ---|--------------|--------------|---    2 tail test\n",
    "                       85% \n",
    "      whever we want to say this collage has a \n",
    "      defferent placement rate it can be either increse\n",
    "      either decsrise this called as 2 Taile test\n",
    "\n",
    "Does  this collage have a placement rate Greater \n",
    "then 85% \n",
    "\n",
    "            95%       |  5% 95+5 here this is 1 tail test \n",
    " -----------|---------|-----\n",
    "           85%\n",
    "\n",
    "    does this collage placement rate less then 85% \n",
    "    then this is called 1 Taile test  \n",
    "    \n",
    "5%  here this 95+5 5% |        95%          \n",
    " is 1 tail test   ----|---------|--------------\n",
    "                             85%    \n",
    "    \n",
    "After 3rd SD  whateverver data it can be trited as an OUtliers    "
   ]
  },
  {
   "cell_type": "code",
   "execution_count": 1,
   "id": "3cc8f09d",
   "metadata": {},
   "outputs": [],
   "source": [
    "import seaborn as sns\n",
    "import numpy as np\n",
    "import matplotlib.pyplot as plt\n",
    "%matplotlib inline \n",
    "# this line used for displying graph with in the note book itself "
   ]
  },
  {
   "cell_type": "code",
   "execution_count": 2,
   "id": "6822f5ea",
   "metadata": {},
   "outputs": [],
   "source": [
    "import statistics # here we have mean midian mode so import it "
   ]
  },
  {
   "cell_type": "code",
   "execution_count": 2,
   "id": "00c885a6",
   "metadata": {
    "scrolled": true
   },
   "outputs": [
    {
     "data": {
      "text/plain": [
       "['anagrams',\n",
       " 'anscombe',\n",
       " 'attention',\n",
       " 'brain_networks',\n",
       " 'car_crashes',\n",
       " 'diamonds',\n",
       " 'dots',\n",
       " 'dowjones',\n",
       " 'exercise',\n",
       " 'flights',\n",
       " 'fmri',\n",
       " 'geyser',\n",
       " 'glue',\n",
       " 'healthexp',\n",
       " 'iris',\n",
       " 'mpg',\n",
       " 'penguins',\n",
       " 'planets',\n",
       " 'seaice',\n",
       " 'taxis',\n",
       " 'tips',\n",
       " 'titanic',\n",
       " 'anagrams',\n",
       " 'anagrams',\n",
       " 'anscombe',\n",
       " 'anscombe',\n",
       " 'attention',\n",
       " 'attention',\n",
       " 'brain_networks',\n",
       " 'brain_networks',\n",
       " 'car_crashes',\n",
       " 'car_crashes',\n",
       " 'diamonds',\n",
       " 'diamonds',\n",
       " 'dots',\n",
       " 'dots',\n",
       " 'dowjones',\n",
       " 'dowjones',\n",
       " 'exercise',\n",
       " 'exercise',\n",
       " 'flights',\n",
       " 'flights',\n",
       " 'fmri',\n",
       " 'fmri',\n",
       " 'geyser',\n",
       " 'geyser',\n",
       " 'glue',\n",
       " 'glue',\n",
       " 'healthexp',\n",
       " 'healthexp',\n",
       " 'iris',\n",
       " 'iris',\n",
       " 'mpg',\n",
       " 'mpg',\n",
       " 'penguins',\n",
       " 'penguins',\n",
       " 'planets',\n",
       " 'planets',\n",
       " 'seaice',\n",
       " 'seaice',\n",
       " 'taxis',\n",
       " 'taxis',\n",
       " 'tips',\n",
       " 'tips',\n",
       " 'titanic',\n",
       " 'titanic',\n",
       " 'anagrams',\n",
       " 'anscombe',\n",
       " 'attention',\n",
       " 'brain_networks',\n",
       " 'car_crashes',\n",
       " 'diamonds',\n",
       " 'dots',\n",
       " 'dowjones',\n",
       " 'exercise',\n",
       " 'flights',\n",
       " 'fmri',\n",
       " 'geyser',\n",
       " 'glue',\n",
       " 'healthexp',\n",
       " 'iris',\n",
       " 'mpg',\n",
       " 'penguins',\n",
       " 'planets',\n",
       " 'seaice',\n",
       " 'taxis',\n",
       " 'tips',\n",
       " 'titanic']"
      ]
     },
     "execution_count": 2,
     "metadata": {},
     "output_type": "execute_result"
    }
   ],
   "source": [
    "sns.get_dataset_names()"
   ]
  },
  {
   "cell_type": "code",
   "execution_count": 3,
   "id": "56c8a036",
   "metadata": {},
   "outputs": [],
   "source": [
    "df1 = sns.load_dataset('iris')"
   ]
  },
  {
   "cell_type": "code",
   "execution_count": 4,
   "id": "932c8048",
   "metadata": {},
   "outputs": [
    {
     "data": {
      "text/html": [
       "<div>\n",
       "<style scoped>\n",
       "    .dataframe tbody tr th:only-of-type {\n",
       "        vertical-align: middle;\n",
       "    }\n",
       "\n",
       "    .dataframe tbody tr th {\n",
       "        vertical-align: top;\n",
       "    }\n",
       "\n",
       "    .dataframe thead th {\n",
       "        text-align: right;\n",
       "    }\n",
       "</style>\n",
       "<table border=\"1\" class=\"dataframe\">\n",
       "  <thead>\n",
       "    <tr style=\"text-align: right;\">\n",
       "      <th></th>\n",
       "      <th>sepal_length</th>\n",
       "      <th>sepal_width</th>\n",
       "      <th>petal_length</th>\n",
       "      <th>petal_width</th>\n",
       "      <th>species</th>\n",
       "    </tr>\n",
       "  </thead>\n",
       "  <tbody>\n",
       "    <tr>\n",
       "      <th>0</th>\n",
       "      <td>5.1</td>\n",
       "      <td>3.5</td>\n",
       "      <td>1.4</td>\n",
       "      <td>0.2</td>\n",
       "      <td>setosa</td>\n",
       "    </tr>\n",
       "    <tr>\n",
       "      <th>1</th>\n",
       "      <td>4.9</td>\n",
       "      <td>3.0</td>\n",
       "      <td>1.4</td>\n",
       "      <td>0.2</td>\n",
       "      <td>setosa</td>\n",
       "    </tr>\n",
       "    <tr>\n",
       "      <th>2</th>\n",
       "      <td>4.7</td>\n",
       "      <td>3.2</td>\n",
       "      <td>1.3</td>\n",
       "      <td>0.2</td>\n",
       "      <td>setosa</td>\n",
       "    </tr>\n",
       "    <tr>\n",
       "      <th>3</th>\n",
       "      <td>4.6</td>\n",
       "      <td>3.1</td>\n",
       "      <td>1.5</td>\n",
       "      <td>0.2</td>\n",
       "      <td>setosa</td>\n",
       "    </tr>\n",
       "    <tr>\n",
       "      <th>4</th>\n",
       "      <td>5.0</td>\n",
       "      <td>3.6</td>\n",
       "      <td>1.4</td>\n",
       "      <td>0.2</td>\n",
       "      <td>setosa</td>\n",
       "    </tr>\n",
       "    <tr>\n",
       "      <th>...</th>\n",
       "      <td>...</td>\n",
       "      <td>...</td>\n",
       "      <td>...</td>\n",
       "      <td>...</td>\n",
       "      <td>...</td>\n",
       "    </tr>\n",
       "    <tr>\n",
       "      <th>145</th>\n",
       "      <td>6.7</td>\n",
       "      <td>3.0</td>\n",
       "      <td>5.2</td>\n",
       "      <td>2.3</td>\n",
       "      <td>virginica</td>\n",
       "    </tr>\n",
       "    <tr>\n",
       "      <th>146</th>\n",
       "      <td>6.3</td>\n",
       "      <td>2.5</td>\n",
       "      <td>5.0</td>\n",
       "      <td>1.9</td>\n",
       "      <td>virginica</td>\n",
       "    </tr>\n",
       "    <tr>\n",
       "      <th>147</th>\n",
       "      <td>6.5</td>\n",
       "      <td>3.0</td>\n",
       "      <td>5.2</td>\n",
       "      <td>2.0</td>\n",
       "      <td>virginica</td>\n",
       "    </tr>\n",
       "    <tr>\n",
       "      <th>148</th>\n",
       "      <td>6.2</td>\n",
       "      <td>3.4</td>\n",
       "      <td>5.4</td>\n",
       "      <td>2.3</td>\n",
       "      <td>virginica</td>\n",
       "    </tr>\n",
       "    <tr>\n",
       "      <th>149</th>\n",
       "      <td>5.9</td>\n",
       "      <td>3.0</td>\n",
       "      <td>5.1</td>\n",
       "      <td>1.8</td>\n",
       "      <td>virginica</td>\n",
       "    </tr>\n",
       "  </tbody>\n",
       "</table>\n",
       "<p>150 rows × 5 columns</p>\n",
       "</div>"
      ],
      "text/plain": [
       "     sepal_length  sepal_width  petal_length  petal_width    species\n",
       "0             5.1          3.5           1.4          0.2     setosa\n",
       "1             4.9          3.0           1.4          0.2     setosa\n",
       "2             4.7          3.2           1.3          0.2     setosa\n",
       "3             4.6          3.1           1.5          0.2     setosa\n",
       "4             5.0          3.6           1.4          0.2     setosa\n",
       "..            ...          ...           ...          ...        ...\n",
       "145           6.7          3.0           5.2          2.3  virginica\n",
       "146           6.3          2.5           5.0          1.9  virginica\n",
       "147           6.5          3.0           5.2          2.0  virginica\n",
       "148           6.2          3.4           5.4          2.3  virginica\n",
       "149           5.9          3.0           5.1          1.8  virginica\n",
       "\n",
       "[150 rows x 5 columns]"
      ]
     },
     "execution_count": 4,
     "metadata": {},
     "output_type": "execute_result"
    }
   ],
   "source": [
    "df1"
   ]
  },
  {
   "cell_type": "code",
   "execution_count": 5,
   "id": "f2eb196a",
   "metadata": {},
   "outputs": [],
   "source": [
    "df=sns.load_dataset(\"tips\")"
   ]
  },
  {
   "cell_type": "code",
   "execution_count": 6,
   "id": "e013ce84",
   "metadata": {},
   "outputs": [
    {
     "data": {
      "text/html": [
       "<div>\n",
       "<style scoped>\n",
       "    .dataframe tbody tr th:only-of-type {\n",
       "        vertical-align: middle;\n",
       "    }\n",
       "\n",
       "    .dataframe tbody tr th {\n",
       "        vertical-align: top;\n",
       "    }\n",
       "\n",
       "    .dataframe thead th {\n",
       "        text-align: right;\n",
       "    }\n",
       "</style>\n",
       "<table border=\"1\" class=\"dataframe\">\n",
       "  <thead>\n",
       "    <tr style=\"text-align: right;\">\n",
       "      <th></th>\n",
       "      <th>total_bill</th>\n",
       "      <th>tip</th>\n",
       "      <th>sex</th>\n",
       "      <th>smoker</th>\n",
       "      <th>day</th>\n",
       "      <th>time</th>\n",
       "      <th>size</th>\n",
       "    </tr>\n",
       "  </thead>\n",
       "  <tbody>\n",
       "    <tr>\n",
       "      <th>0</th>\n",
       "      <td>16.99</td>\n",
       "      <td>1.01</td>\n",
       "      <td>Female</td>\n",
       "      <td>No</td>\n",
       "      <td>Sun</td>\n",
       "      <td>Dinner</td>\n",
       "      <td>2</td>\n",
       "    </tr>\n",
       "    <tr>\n",
       "      <th>1</th>\n",
       "      <td>10.34</td>\n",
       "      <td>1.66</td>\n",
       "      <td>Male</td>\n",
       "      <td>No</td>\n",
       "      <td>Sun</td>\n",
       "      <td>Dinner</td>\n",
       "      <td>3</td>\n",
       "    </tr>\n",
       "    <tr>\n",
       "      <th>2</th>\n",
       "      <td>21.01</td>\n",
       "      <td>3.50</td>\n",
       "      <td>Male</td>\n",
       "      <td>No</td>\n",
       "      <td>Sun</td>\n",
       "      <td>Dinner</td>\n",
       "      <td>3</td>\n",
       "    </tr>\n",
       "    <tr>\n",
       "      <th>3</th>\n",
       "      <td>23.68</td>\n",
       "      <td>3.31</td>\n",
       "      <td>Male</td>\n",
       "      <td>No</td>\n",
       "      <td>Sun</td>\n",
       "      <td>Dinner</td>\n",
       "      <td>2</td>\n",
       "    </tr>\n",
       "    <tr>\n",
       "      <th>4</th>\n",
       "      <td>24.59</td>\n",
       "      <td>3.61</td>\n",
       "      <td>Female</td>\n",
       "      <td>No</td>\n",
       "      <td>Sun</td>\n",
       "      <td>Dinner</td>\n",
       "      <td>4</td>\n",
       "    </tr>\n",
       "    <tr>\n",
       "      <th>...</th>\n",
       "      <td>...</td>\n",
       "      <td>...</td>\n",
       "      <td>...</td>\n",
       "      <td>...</td>\n",
       "      <td>...</td>\n",
       "      <td>...</td>\n",
       "      <td>...</td>\n",
       "    </tr>\n",
       "    <tr>\n",
       "      <th>239</th>\n",
       "      <td>29.03</td>\n",
       "      <td>5.92</td>\n",
       "      <td>Male</td>\n",
       "      <td>No</td>\n",
       "      <td>Sat</td>\n",
       "      <td>Dinner</td>\n",
       "      <td>3</td>\n",
       "    </tr>\n",
       "    <tr>\n",
       "      <th>240</th>\n",
       "      <td>27.18</td>\n",
       "      <td>2.00</td>\n",
       "      <td>Female</td>\n",
       "      <td>Yes</td>\n",
       "      <td>Sat</td>\n",
       "      <td>Dinner</td>\n",
       "      <td>2</td>\n",
       "    </tr>\n",
       "    <tr>\n",
       "      <th>241</th>\n",
       "      <td>22.67</td>\n",
       "      <td>2.00</td>\n",
       "      <td>Male</td>\n",
       "      <td>Yes</td>\n",
       "      <td>Sat</td>\n",
       "      <td>Dinner</td>\n",
       "      <td>2</td>\n",
       "    </tr>\n",
       "    <tr>\n",
       "      <th>242</th>\n",
       "      <td>17.82</td>\n",
       "      <td>1.75</td>\n",
       "      <td>Male</td>\n",
       "      <td>No</td>\n",
       "      <td>Sat</td>\n",
       "      <td>Dinner</td>\n",
       "      <td>2</td>\n",
       "    </tr>\n",
       "    <tr>\n",
       "      <th>243</th>\n",
       "      <td>18.78</td>\n",
       "      <td>3.00</td>\n",
       "      <td>Female</td>\n",
       "      <td>No</td>\n",
       "      <td>Thur</td>\n",
       "      <td>Dinner</td>\n",
       "      <td>2</td>\n",
       "    </tr>\n",
       "  </tbody>\n",
       "</table>\n",
       "<p>244 rows × 7 columns</p>\n",
       "</div>"
      ],
      "text/plain": [
       "     total_bill   tip     sex smoker   day    time  size\n",
       "0         16.99  1.01  Female     No   Sun  Dinner     2\n",
       "1         10.34  1.66    Male     No   Sun  Dinner     3\n",
       "2         21.01  3.50    Male     No   Sun  Dinner     3\n",
       "3         23.68  3.31    Male     No   Sun  Dinner     2\n",
       "4         24.59  3.61  Female     No   Sun  Dinner     4\n",
       "..          ...   ...     ...    ...   ...     ...   ...\n",
       "239       29.03  5.92    Male     No   Sat  Dinner     3\n",
       "240       27.18  2.00  Female    Yes   Sat  Dinner     2\n",
       "241       22.67  2.00    Male    Yes   Sat  Dinner     2\n",
       "242       17.82  1.75    Male     No   Sat  Dinner     2\n",
       "243       18.78  3.00  Female     No  Thur  Dinner     2\n",
       "\n",
       "[244 rows x 7 columns]"
      ]
     },
     "execution_count": 6,
     "metadata": {},
     "output_type": "execute_result"
    }
   ],
   "source": [
    "df"
   ]
  },
  {
   "cell_type": "code",
   "execution_count": 7,
   "id": "1256bf18",
   "metadata": {},
   "outputs": [
    {
     "data": {
      "text/html": [
       "<div>\n",
       "<style scoped>\n",
       "    .dataframe tbody tr th:only-of-type {\n",
       "        vertical-align: middle;\n",
       "    }\n",
       "\n",
       "    .dataframe tbody tr th {\n",
       "        vertical-align: top;\n",
       "    }\n",
       "\n",
       "    .dataframe thead th {\n",
       "        text-align: right;\n",
       "    }\n",
       "</style>\n",
       "<table border=\"1\" class=\"dataframe\">\n",
       "  <thead>\n",
       "    <tr style=\"text-align: right;\">\n",
       "      <th></th>\n",
       "      <th>total_bill</th>\n",
       "      <th>tip</th>\n",
       "      <th>sex</th>\n",
       "      <th>smoker</th>\n",
       "      <th>day</th>\n",
       "      <th>time</th>\n",
       "      <th>size</th>\n",
       "    </tr>\n",
       "  </thead>\n",
       "  <tbody>\n",
       "    <tr>\n",
       "      <th>0</th>\n",
       "      <td>16.99</td>\n",
       "      <td>1.01</td>\n",
       "      <td>Female</td>\n",
       "      <td>No</td>\n",
       "      <td>Sun</td>\n",
       "      <td>Dinner</td>\n",
       "      <td>2</td>\n",
       "    </tr>\n",
       "    <tr>\n",
       "      <th>1</th>\n",
       "      <td>10.34</td>\n",
       "      <td>1.66</td>\n",
       "      <td>Male</td>\n",
       "      <td>No</td>\n",
       "      <td>Sun</td>\n",
       "      <td>Dinner</td>\n",
       "      <td>3</td>\n",
       "    </tr>\n",
       "    <tr>\n",
       "      <th>2</th>\n",
       "      <td>21.01</td>\n",
       "      <td>3.50</td>\n",
       "      <td>Male</td>\n",
       "      <td>No</td>\n",
       "      <td>Sun</td>\n",
       "      <td>Dinner</td>\n",
       "      <td>3</td>\n",
       "    </tr>\n",
       "    <tr>\n",
       "      <th>3</th>\n",
       "      <td>23.68</td>\n",
       "      <td>3.31</td>\n",
       "      <td>Male</td>\n",
       "      <td>No</td>\n",
       "      <td>Sun</td>\n",
       "      <td>Dinner</td>\n",
       "      <td>2</td>\n",
       "    </tr>\n",
       "    <tr>\n",
       "      <th>4</th>\n",
       "      <td>24.59</td>\n",
       "      <td>3.61</td>\n",
       "      <td>Female</td>\n",
       "      <td>No</td>\n",
       "      <td>Sun</td>\n",
       "      <td>Dinner</td>\n",
       "      <td>4</td>\n",
       "    </tr>\n",
       "  </tbody>\n",
       "</table>\n",
       "</div>"
      ],
      "text/plain": [
       "   total_bill   tip     sex smoker  day    time  size\n",
       "0       16.99  1.01  Female     No  Sun  Dinner     2\n",
       "1       10.34  1.66    Male     No  Sun  Dinner     3\n",
       "2       21.01  3.50    Male     No  Sun  Dinner     3\n",
       "3       23.68  3.31    Male     No  Sun  Dinner     2\n",
       "4       24.59  3.61  Female     No  Sun  Dinner     4"
      ]
     },
     "execution_count": 7,
     "metadata": {},
     "output_type": "execute_result"
    }
   ],
   "source": [
    "df.head()"
   ]
  },
  {
   "cell_type": "markdown",
   "id": "488b7e6c",
   "metadata": {},
   "source": [
    "# mean"
   ]
  },
  {
   "cell_type": "code",
   "execution_count": 9,
   "id": "81f93ddd",
   "metadata": {},
   "outputs": [
    {
     "data": {
      "text/plain": [
       "19.785942622950824"
      ]
     },
     "execution_count": 9,
     "metadata": {},
     "output_type": "execute_result"
    }
   ],
   "source": [
    "np.mean(df['total_bill'])"
   ]
  },
  {
   "cell_type": "markdown",
   "id": "dde93c7a",
   "metadata": {},
   "source": [
    "# median"
   ]
  },
  {
   "cell_type": "code",
   "execution_count": 10,
   "id": "e9544a49",
   "metadata": {},
   "outputs": [
    {
     "data": {
      "text/plain": [
       "17.795"
      ]
     },
     "execution_count": 10,
     "metadata": {},
     "output_type": "execute_result"
    }
   ],
   "source": [
    "np.median(df['total_bill'])"
   ]
  },
  {
   "cell_type": "markdown",
   "id": "849fed0b",
   "metadata": {},
   "source": [
    "## numpy not had mode statistics.mode"
   ]
  },
  {
   "cell_type": "code",
   "execution_count": 12,
   "id": "1d5c3a21",
   "metadata": {
    "scrolled": true
   },
   "outputs": [
    {
     "ename": "AttributeError",
     "evalue": "module 'numpy' has no attribute 'mode'",
     "output_type": "error",
     "traceback": [
      "\u001b[1;31m---------------------------------------------------------------------------\u001b[0m",
      "\u001b[1;31mAttributeError\u001b[0m                            Traceback (most recent call last)",
      "\u001b[1;32mC:\\conda_tmp/ipykernel_24760/4203170685.py\u001b[0m in \u001b[0;36m<cell line: 1>\u001b[1;34m()\u001b[0m\n\u001b[1;32m----> 1\u001b[1;33m \u001b[0mnp\u001b[0m\u001b[1;33m.\u001b[0m\u001b[0mmode\u001b[0m\u001b[1;33m(\u001b[0m\u001b[0mdf\u001b[0m\u001b[1;33m[\u001b[0m\u001b[1;34m\"total_bill\"\u001b[0m\u001b[1;33m]\u001b[0m\u001b[1;33m)\u001b[0m\u001b[1;33m\u001b[0m\u001b[1;33m\u001b[0m\u001b[0m\n\u001b[0m",
      "\u001b[1;32m~\\anaconda3\\lib\\site-packages\\numpy\\__init__.py\u001b[0m in \u001b[0;36m__getattr__\u001b[1;34m(attr)\u001b[0m\n\u001b[0;32m    301\u001b[0m                 \u001b[1;32mreturn\u001b[0m \u001b[0mTester\u001b[0m\u001b[1;33m\u001b[0m\u001b[1;33m\u001b[0m\u001b[0m\n\u001b[0;32m    302\u001b[0m \u001b[1;33m\u001b[0m\u001b[0m\n\u001b[1;32m--> 303\u001b[1;33m             raise AttributeError(\"module {!r} has no attribute \"\n\u001b[0m\u001b[0;32m    304\u001b[0m                                  \"{!r}\".format(__name__, attr))\n\u001b[0;32m    305\u001b[0m \u001b[1;33m\u001b[0m\u001b[0m\n",
      "\u001b[1;31mAttributeError\u001b[0m: module 'numpy' has no attribute 'mode'"
     ]
    }
   ],
   "source": [
    "np.mode(df[\"total_bill\"])"
   ]
  },
  {
   "cell_type": "code",
   "execution_count": 14,
   "id": "bcafe0de",
   "metadata": {},
   "outputs": [],
   "source": [
    "import statistics"
   ]
  },
  {
   "cell_type": "code",
   "execution_count": 15,
   "id": "d8336ae3",
   "metadata": {},
   "outputs": [
    {
     "data": {
      "text/plain": [
       "13.42"
      ]
     },
     "execution_count": 15,
     "metadata": {},
     "output_type": "execute_result"
    }
   ],
   "source": [
    "statistics.mode(df['total_bill'])"
   ]
  },
  {
   "cell_type": "code",
   "execution_count": 17,
   "id": "b141c871",
   "metadata": {},
   "outputs": [
    {
     "data": {
      "text/plain": [
       "'Dinner'"
      ]
     },
     "execution_count": 17,
     "metadata": {},
     "output_type": "execute_result"
    }
   ],
   "source": [
    "statistics.mode(df['time'])"
   ]
  },
  {
   "cell_type": "code",
   "execution_count": 18,
   "id": "7eea6f70",
   "metadata": {},
   "outputs": [
    {
     "data": {
      "text/plain": [
       "2.0"
      ]
     },
     "execution_count": 18,
     "metadata": {},
     "output_type": "execute_result"
    }
   ],
   "source": [
    "statistics.mode(df['tip'])"
   ]
  },
  {
   "cell_type": "markdown",
   "id": "672d1271",
   "metadata": {},
   "source": [
    "# seaborn use for box plot"
   ]
  },
  {
   "cell_type": "code",
   "execution_count": 21,
   "id": "22c577d2",
   "metadata": {},
   "outputs": [
    {
     "name": "stderr",
     "output_type": "stream",
     "text": [
      "C:\\Users\\gajula Amar\\anaconda3\\lib\\site-packages\\seaborn\\_decorators.py:36: FutureWarning: Pass the following variable as a keyword arg: x. From version 0.12, the only valid positional argument will be `data`, and passing other arguments without an explicit keyword will result in an error or misinterpretation.\n",
      "  warnings.warn(\n"
     ]
    },
    {
     "data": {
      "text/plain": [
       "<AxesSubplot:xlabel='total_bill'>"
      ]
     },
     "execution_count": 21,
     "metadata": {},
     "output_type": "execute_result"
    },
    {
     "data": {
      "image/png": "[encoded data removed]",
      "text/plain": [
       "<Figure size 432x288 with 1 Axes>"
      ]
     },
     "metadata": {
      "needs_background": "light"
     },
     "output_type": "display_data"
    }
   ],
   "source": [
    "sns.boxplot(df['total_bill'])"
   ]
  },
  {
   "cell_type": "code",
   "execution_count": 19,
   "id": "4986f3fb",
   "metadata": {},
   "outputs": [
    {
     "data": {
      "text/plain": [
       "<AxesSubplot:xlabel='time', ylabel='tip'>"
      ]
     },
     "execution_count": 19,
     "metadata": {},
     "output_type": "execute_result"
    },
    {
     "data": {
      "image/png": "[encoded data removed]",
      "text/plain": [
       "<Figure size 432x288 with 1 Axes>"
      ]
     },
     "metadata": {
      "needs_background": "light"
     },
     "output_type": "display_data"
    }
   ],
   "source": [
    "sns.boxplot(x='time',y='tip',data=df)"
   ]
  },
  {
   "cell_type": "code",
   "execution_count": 29,
   "id": "d6af038b",
   "metadata": {},
   "outputs": [
    {
     "name": "stderr",
     "output_type": "stream",
     "text": [
      "C:\\Users\\gajula Amar\\anaconda3\\lib\\site-packages\\seaborn\\_decorators.py:36: FutureWarning: Pass the following variable as a keyword arg: x. From version 0.12, the only valid positional argument will be `data`, and passing other arguments without an explicit keyword will result in an error or misinterpretation.\n",
      "  warnings.warn(\n"
     ]
    },
    {
     "data": {
      "text/plain": [
       "<AxesSubplot:xlabel='total_bill'>"
      ]
     },
     "execution_count": 29,
     "metadata": {},
     "output_type": "execute_result"
    },
    {
     "data": {
      "image/png": "[encoded data removed]",
      "text/plain": [
       "<Figure size 432x288 with 1 Axes>"
      ]
     },
     "metadata": {
      "needs_background": "light"
     },
     "output_type": "display_data"
    }
   ],
   "source": [
    "sns.boxenplot(df['total_bill'])"
   ]
  },
  {
   "cell_type": "code",
   "execution_count": null,
   "id": "372e0d40",
   "metadata": {},
   "outputs": [],
   "source": []
  },
  {
   "cell_type": "code",
   "execution_count": 26,
   "id": "b60244e9",
   "metadata": {},
   "outputs": [
    {
     "data": {
      "text/plain": [
       "<seaborn.axisgrid.FacetGrid at 0x1aa5a04e880>"
      ]
     },
     "execution_count": 26,
     "metadata": {},
     "output_type": "execute_result"
    },
    {
     "data": {
      "image/png": "[encoded data removed]",
      "text/plain": [
       "<Figure size 360x360 with 1 Axes>"
      ]
     },
     "metadata": {
      "needs_background": "light"
     },
     "output_type": "display_data"
    }
   ],
   "source": [
    "sns.catplot(x=\"total_bill\",data=df,kind=\"box\")\n"
   ]
  },
  {
   "cell_type": "markdown",
   "id": "9daf304a",
   "metadata": {},
   "source": [
    "# san.histogram  plot"
   ]
  },
  {
   "cell_type": "code",
   "execution_count": 20,
   "id": "1efdaa01",
   "metadata": {},
   "outputs": [
    {
     "data": {
      "text/plain": [
       "<AxesSubplot:xlabel='total_bill', ylabel='Count'>"
      ]
     },
     "execution_count": 20,
     "metadata": {},
     "output_type": "execute_result"
    },
    {
     "data": {
      "image/png": "[encoded data removed]",
      "text/plain": [
       "<Figure size 432x288 with 1 Axes>"
      ]
     },
     "metadata": {
      "needs_background": "light"
     },
     "output_type": "display_data"
    }
   ],
   "source": [
    "sns.histplot(df[\"total_bill\"])"
   ]
  },
  {
   "cell_type": "code",
   "execution_count": 25,
   "id": "e30b44dc",
   "metadata": {},
   "outputs": [
    {
     "data": {
      "text/plain": [
       "<AxesSubplot:xlabel='total_bill', ylabel='Count'>"
      ]
     },
     "execution_count": 25,
     "metadata": {},
     "output_type": "execute_result"
    },
    {
     "data": {
      "image/png": "[encoded data removed]",
      "text/plain": [
       "<Figure size 432x288 with 1 Axes>"
      ]
     },
     "metadata": {
      "needs_background": "light"
     },
     "output_type": "display_data"
    }
   ],
   "source": [
    "sns.histplot(df['total_bill'],kde=True)"
   ]
  },
  {
   "cell_type": "code",
   "execution_count": 21,
   "id": "1b8dd645",
   "metadata": {},
   "outputs": [
    {
     "data": {
      "text/plain": [
       "<AxesSubplot:xlabel='total_bill', ylabel='Count'>"
      ]
     },
     "execution_count": 21,
     "metadata": {},
     "output_type": "execute_result"
    },
    {
     "data": {
      "image/png": "[encoded data removed]",
      "text/plain": [
       "<Figure size 432x288 with 1 Axes>"
      ]
     },
     "metadata": {
      "needs_background": "light"
     },
     "output_type": "display_data"
    }
   ],
   "source": [
    "sns.histplot(x=\"total_bill\",data=df)"
   ]
  },
  {
   "cell_type": "code",
   "execution_count": 26,
   "id": "aca07adf",
   "metadata": {},
   "outputs": [
    {
     "data": {
      "text/plain": [
       "<AxesSubplot:xlabel='total_bill', ylabel='Count'>"
      ]
     },
     "execution_count": 26,
     "metadata": {},
     "output_type": "execute_result"
    },
    {
     "data": {
      "image/png": "[encoded data removed]",
      "text/plain": [
       "<Figure size 432x288 with 1 Axes>"
      ]
     },
     "metadata": {
      "needs_background": "light"
     },
     "output_type": "display_data"
    }
   ],
   "source": [
    "sns.histplot(x=\"total_bill\",data=df,kde=True)"
   ]
  },
  {
   "cell_type": "code",
   "execution_count": 24,
   "id": "11452012",
   "metadata": {},
   "outputs": [
    {
     "ename": "AttributeError",
     "evalue": "module 'seaborn' has no attribute 'hist'",
     "output_type": "error",
     "traceback": [
      "\u001b[1;31m---------------------------------------------------------------------------\u001b[0m",
      "\u001b[1;31mAttributeError\u001b[0m                            Traceback (most recent call last)",
      "\u001b[1;32mC:\\conda_tmp/ipykernel_24760/2829373531.py\u001b[0m in \u001b[0;36m<cell line: 1>\u001b[1;34m()\u001b[0m\n\u001b[1;32m----> 1\u001b[1;33m \u001b[0msns\u001b[0m\u001b[1;33m.\u001b[0m\u001b[0mhist\u001b[0m\u001b[1;33m(\u001b[0m\u001b[0mdf\u001b[0m\u001b[1;33m[\u001b[0m\u001b[1;34m\"total_bill\"\u001b[0m\u001b[1;33m]\u001b[0m\u001b[1;33m)\u001b[0m\u001b[1;33m\u001b[0m\u001b[1;33m\u001b[0m\u001b[0m\n\u001b[0m",
      "\u001b[1;31mAttributeError\u001b[0m: module 'seaborn' has no attribute 'hist'"
     ]
    }
   ],
   "source": [
    "sns.hist(df[\"total_bill\"])"
   ]
  },
  {
   "cell_type": "code",
   "execution_count": 23,
   "id": "6dfcde83",
   "metadata": {},
   "outputs": [
    {
     "name": "stderr",
     "output_type": "stream",
     "text": [
      "C:\\Users\\gajula Amar\\anaconda3\\lib\\site-packages\\seaborn\\distributions.py:2619: FutureWarning: `distplot` is a deprecated function and will be removed in a future version. Please adapt your code to use either `displot` (a figure-level function with similar flexibility) or `histplot` (an axes-level function for histograms).\n",
      "  warnings.warn(msg, FutureWarning)\n"
     ]
    },
    {
     "data": {
      "text/plain": [
       "<AxesSubplot:xlabel='total_bill', ylabel='Density'>"
      ]
     },
     "execution_count": 23,
     "metadata": {},
     "output_type": "execute_result"
    },
    {
     "data": {
      "image/png": "[encoded data removed]",
      "text/plain": [
       "<Figure size 432x288 with 1 Axes>"
      ]
     },
     "metadata": {
      "needs_background": "light"
     },
     "output_type": "display_data"
    }
   ],
   "source": [
    "sns.distplot(df['total_bill'])"
   ]
  },
  {
   "cell_type": "code",
   "execution_count": null,
   "id": "2f9cfc85",
   "metadata": {},
   "outputs": [],
   "source": []
  },
  {
   "cell_type": "code",
   "execution_count": 18,
   "id": "7aa519a9",
   "metadata": {},
   "outputs": [
    {
     "data": {
      "text/plain": [
       "(array([ 7., 42., 68., 51., 31., 19., 12.,  7.,  3.,  4.]),\n",
       " array([ 3.07 ,  7.844, 12.618, 17.392, 22.166, 26.94 , 31.714, 36.488,\n",
       "        41.262, 46.036, 50.81 ]),\n",
       " <BarContainer object of 10 artists>)"
      ]
     },
     "execution_count": 18,
     "metadata": {},
     "output_type": "execute_result"
    },
    {
     "data": {
      "image/png": "[encoded data removed]",
      "text/plain": [
       "<Figure size 432x288 with 1 Axes>"
      ]
     },
     "metadata": {
      "needs_background": "light"
     },
     "output_type": "display_data"
    }
   ],
   "source": [
    "plt.hist(df[\"total_bill\"],color=\"b\",alpha=0.5)"
   ]
  },
  {
   "cell_type": "code",
   "execution_count": 19,
   "id": "c7d2ae38",
   "metadata": {},
   "outputs": [
    {
     "ename": "AttributeError",
     "evalue": "'Rectangle' object has no property 'kde'",
     "output_type": "error",
     "traceback": [
      "\u001b[1;31m---------------------------------------------------------------------------\u001b[0m",
      "\u001b[1;31mAttributeError\u001b[0m                            Traceback (most recent call last)",
      "\u001b[1;32mC:\\conda_tmp/ipykernel_6584/1305758788.py\u001b[0m in \u001b[0;36m<module>\u001b[1;34m\u001b[0m\n\u001b[1;32m----> 1\u001b[1;33m \u001b[0mplt\u001b[0m\u001b[1;33m.\u001b[0m\u001b[0mhist\u001b[0m\u001b[1;33m(\u001b[0m\u001b[0mdf\u001b[0m\u001b[1;33m[\u001b[0m\u001b[1;34m\"total_bill\"\u001b[0m\u001b[1;33m]\u001b[0m\u001b[1;33m,\u001b[0m\u001b[0mcolor\u001b[0m\u001b[1;33m=\u001b[0m\u001b[1;34m\"b\"\u001b[0m\u001b[1;33m,\u001b[0m\u001b[0malpha\u001b[0m\u001b[1;33m=\u001b[0m\u001b[1;36m0.5\u001b[0m\u001b[1;33m,\u001b[0m\u001b[0mkde\u001b[0m\u001b[1;33m=\u001b[0m\u001b[1;32mTrue\u001b[0m\u001b[1;33m)\u001b[0m\u001b[1;33m\u001b[0m\u001b[1;33m\u001b[0m\u001b[0m\n\u001b[0m",
      "\u001b[1;32m~\\anaconda3\\lib\\site-packages\\matplotlib\\pyplot.py\u001b[0m in \u001b[0;36mhist\u001b[1;34m(x, bins, range, density, weights, cumulative, bottom, histtype, align, orientation, rwidth, log, color, label, stacked, data, **kwargs)\u001b[0m\n\u001b[0;32m   2851\u001b[0m         \u001b[0morientation\u001b[0m\u001b[1;33m=\u001b[0m\u001b[1;34m'vertical'\u001b[0m\u001b[1;33m,\u001b[0m \u001b[0mrwidth\u001b[0m\u001b[1;33m=\u001b[0m\u001b[1;32mNone\u001b[0m\u001b[1;33m,\u001b[0m \u001b[0mlog\u001b[0m\u001b[1;33m=\u001b[0m\u001b[1;32mFalse\u001b[0m\u001b[1;33m,\u001b[0m \u001b[0mcolor\u001b[0m\u001b[1;33m=\u001b[0m\u001b[1;32mNone\u001b[0m\u001b[1;33m,\u001b[0m\u001b[1;33m\u001b[0m\u001b[1;33m\u001b[0m\u001b[0m\n\u001b[0;32m   2852\u001b[0m         label=None, stacked=False, *, data=None, **kwargs):\n\u001b[1;32m-> 2853\u001b[1;33m     return gca().hist(\n\u001b[0m\u001b[0;32m   2854\u001b[0m         \u001b[0mx\u001b[0m\u001b[1;33m,\u001b[0m \u001b[0mbins\u001b[0m\u001b[1;33m=\u001b[0m\u001b[0mbins\u001b[0m\u001b[1;33m,\u001b[0m \u001b[0mrange\u001b[0m\u001b[1;33m=\u001b[0m\u001b[0mrange\u001b[0m\u001b[1;33m,\u001b[0m \u001b[0mdensity\u001b[0m\u001b[1;33m=\u001b[0m\u001b[0mdensity\u001b[0m\u001b[1;33m,\u001b[0m \u001b[0mweights\u001b[0m\u001b[1;33m=\u001b[0m\u001b[0mweights\u001b[0m\u001b[1;33m,\u001b[0m\u001b[1;33m\u001b[0m\u001b[1;33m\u001b[0m\u001b[0m\n\u001b[0;32m   2855\u001b[0m         \u001b[0mcumulative\u001b[0m\u001b[1;33m=\u001b[0m\u001b[0mcumulative\u001b[0m\u001b[1;33m,\u001b[0m \u001b[0mbottom\u001b[0m\u001b[1;33m=\u001b[0m\u001b[0mbottom\u001b[0m\u001b[1;33m,\u001b[0m \u001b[0mhisttype\u001b[0m\u001b[1;33m=\u001b[0m\u001b[0mhisttype\u001b[0m\u001b[1;33m,\u001b[0m\u001b[1;33m\u001b[0m\u001b[1;33m\u001b[0m\u001b[0m\n",
      "\u001b[1;32m~\\anaconda3\\lib\\site-packages\\matplotlib\\__init__.py\u001b[0m in \u001b[0;36minner\u001b[1;34m(ax, data, *args, **kwargs)\u001b[0m\n\u001b[0;32m   1359\u001b[0m     \u001b[1;32mdef\u001b[0m \u001b[0minner\u001b[0m\u001b[1;33m(\u001b[0m\u001b[0max\u001b[0m\u001b[1;33m,\u001b[0m \u001b[1;33m*\u001b[0m\u001b[0margs\u001b[0m\u001b[1;33m,\u001b[0m \u001b[0mdata\u001b[0m\u001b[1;33m=\u001b[0m\u001b[1;32mNone\u001b[0m\u001b[1;33m,\u001b[0m \u001b[1;33m**\u001b[0m\u001b[0mkwargs\u001b[0m\u001b[1;33m)\u001b[0m\u001b[1;33m:\u001b[0m\u001b[1;33m\u001b[0m\u001b[1;33m\u001b[0m\u001b[0m\n\u001b[0;32m   1360\u001b[0m         \u001b[1;32mif\u001b[0m \u001b[0mdata\u001b[0m \u001b[1;32mis\u001b[0m \u001b[1;32mNone\u001b[0m\u001b[1;33m:\u001b[0m\u001b[1;33m\u001b[0m\u001b[1;33m\u001b[0m\u001b[0m\n\u001b[1;32m-> 1361\u001b[1;33m             \u001b[1;32mreturn\u001b[0m \u001b[0mfunc\u001b[0m\u001b[1;33m(\u001b[0m\u001b[0max\u001b[0m\u001b[1;33m,\u001b[0m \u001b[1;33m*\u001b[0m\u001b[0mmap\u001b[0m\u001b[1;33m(\u001b[0m\u001b[0msanitize_sequence\u001b[0m\u001b[1;33m,\u001b[0m \u001b[0margs\u001b[0m\u001b[1;33m)\u001b[0m\u001b[1;33m,\u001b[0m \u001b[1;33m**\u001b[0m\u001b[0mkwargs\u001b[0m\u001b[1;33m)\u001b[0m\u001b[1;33m\u001b[0m\u001b[1;33m\u001b[0m\u001b[0m\n\u001b[0m\u001b[0;32m   1362\u001b[0m \u001b[1;33m\u001b[0m\u001b[0m\n\u001b[0;32m   1363\u001b[0m         \u001b[0mbound\u001b[0m \u001b[1;33m=\u001b[0m \u001b[0mnew_sig\u001b[0m\u001b[1;33m.\u001b[0m\u001b[0mbind\u001b[0m\u001b[1;33m(\u001b[0m\u001b[0max\u001b[0m\u001b[1;33m,\u001b[0m \u001b[1;33m*\u001b[0m\u001b[0margs\u001b[0m\u001b[1;33m,\u001b[0m \u001b[1;33m**\u001b[0m\u001b[0mkwargs\u001b[0m\u001b[1;33m)\u001b[0m\u001b[1;33m\u001b[0m\u001b[1;33m\u001b[0m\u001b[0m\n",
      "\u001b[1;32m~\\anaconda3\\lib\\site-packages\\matplotlib\\axes\\_axes.py\u001b[0m in \u001b[0;36mhist\u001b[1;34m(self, x, bins, range, density, weights, cumulative, bottom, histtype, align, orientation, rwidth, log, color, label, stacked, **kwargs)\u001b[0m\n\u001b[0;32m   6909\u001b[0m             \u001b[1;32mif\u001b[0m \u001b[0mpatch\u001b[0m\u001b[1;33m:\u001b[0m\u001b[1;33m\u001b[0m\u001b[1;33m\u001b[0m\u001b[0m\n\u001b[0;32m   6910\u001b[0m                 \u001b[0mp\u001b[0m \u001b[1;33m=\u001b[0m \u001b[0mpatch\u001b[0m\u001b[1;33m[\u001b[0m\u001b[1;36m0\u001b[0m\u001b[1;33m]\u001b[0m\u001b[1;33m\u001b[0m\u001b[1;33m\u001b[0m\u001b[0m\n\u001b[1;32m-> 6911\u001b[1;33m                 \u001b[0mp\u001b[0m\u001b[1;33m.\u001b[0m\u001b[0mupdate\u001b[0m\u001b[1;33m(\u001b[0m\u001b[0mkwargs\u001b[0m\u001b[1;33m)\u001b[0m\u001b[1;33m\u001b[0m\u001b[1;33m\u001b[0m\u001b[0m\n\u001b[0m\u001b[0;32m   6912\u001b[0m                 \u001b[1;32mif\u001b[0m \u001b[0mlbl\u001b[0m \u001b[1;32mis\u001b[0m \u001b[1;32mnot\u001b[0m \u001b[1;32mNone\u001b[0m\u001b[1;33m:\u001b[0m\u001b[1;33m\u001b[0m\u001b[1;33m\u001b[0m\u001b[0m\n\u001b[0;32m   6913\u001b[0m                     \u001b[0mp\u001b[0m\u001b[1;33m.\u001b[0m\u001b[0mset_label\u001b[0m\u001b[1;33m(\u001b[0m\u001b[0mlbl\u001b[0m\u001b[1;33m)\u001b[0m\u001b[1;33m\u001b[0m\u001b[1;33m\u001b[0m\u001b[0m\n",
      "\u001b[1;32m~\\anaconda3\\lib\\site-packages\\matplotlib\\artist.py\u001b[0m in \u001b[0;36mupdate\u001b[1;34m(self, props)\u001b[0m\n\u001b[0;32m   1060\u001b[0m                     \u001b[0mfunc\u001b[0m \u001b[1;33m=\u001b[0m \u001b[0mgetattr\u001b[0m\u001b[1;33m(\u001b[0m\u001b[0mself\u001b[0m\u001b[1;33m,\u001b[0m \u001b[1;34mf\"set_{k}\"\u001b[0m\u001b[1;33m,\u001b[0m \u001b[1;32mNone\u001b[0m\u001b[1;33m)\u001b[0m\u001b[1;33m\u001b[0m\u001b[1;33m\u001b[0m\u001b[0m\n\u001b[0;32m   1061\u001b[0m                     \u001b[1;32mif\u001b[0m \u001b[1;32mnot\u001b[0m \u001b[0mcallable\u001b[0m\u001b[1;33m(\u001b[0m\u001b[0mfunc\u001b[0m\u001b[1;33m)\u001b[0m\u001b[1;33m:\u001b[0m\u001b[1;33m\u001b[0m\u001b[1;33m\u001b[0m\u001b[0m\n\u001b[1;32m-> 1062\u001b[1;33m                         raise AttributeError(f\"{type(self).__name__!r} object \"\n\u001b[0m\u001b[0;32m   1063\u001b[0m                                              f\"has no property {k!r}\")\n\u001b[0;32m   1064\u001b[0m                     \u001b[0mret\u001b[0m\u001b[1;33m.\u001b[0m\u001b[0mappend\u001b[0m\u001b[1;33m(\u001b[0m\u001b[0mfunc\u001b[0m\u001b[1;33m(\u001b[0m\u001b[0mv\u001b[0m\u001b[1;33m)\u001b[0m\u001b[1;33m)\u001b[0m\u001b[1;33m\u001b[0m\u001b[1;33m\u001b[0m\u001b[0m\n",
      "\u001b[1;31mAttributeError\u001b[0m: 'Rectangle' object has no property 'kde'"
     ]
    },
    {
     "data": {
      "image/png": "[encoded data removed]",
      "text/plain": [
       "<Figure size 432x288 with 1 Axes>"
      ]
     },
     "metadata": {
      "needs_background": "light"
     },
     "output_type": "display_data"
    }
   ],
   "source": [
    "plt.hist(df[\"total_bill\"],color=\"b\",alpha=0.5,kde=True)"
   ]
  },
  {
   "cell_type": "markdown",
   "id": "32025dfd",
   "metadata": {},
   "source": [
    "# doing smoothe after histogram\n",
    "with the help of kernal dencity distribution"
   ]
  },
  {
   "cell_type": "code",
   "execution_count": 20,
   "id": "360eec42",
   "metadata": {},
   "outputs": [
    {
     "data": {
      "text/plain": [
       "<AxesSubplot:xlabel='total_bill', ylabel='Count'>"
      ]
     },
     "execution_count": 20,
     "metadata": {},
     "output_type": "execute_result"
    },
    {
     "data": {
      "image/png": "[encoded data removed]",
      "text/plain": [
       "<Figure size 432x288 with 1 Axes>"
      ]
     },
     "metadata": {
      "needs_background": "light"
     },
     "output_type": "display_data"
    }
   ],
   "source": [
    "sns.histplot(df[\"total_bill\"],kde=True) #  this is looks like squwed data set which is called as log normal distribution"
   ]
  },
  {
   "cell_type": "code",
   "execution_count": 7,
   "id": "41e07cd0",
   "metadata": {},
   "outputs": [
    {
     "name": "stderr",
     "output_type": "stream",
     "text": [
      "C:\\Users\\gajula Amar\\anaconda3\\lib\\site-packages\\seaborn\\distributions.py:2619: FutureWarning: `distplot` is a deprecated function and will be removed in a future version. Please adapt your code to use either `displot` (a figure-level function with similar flexibility) or `histplot` (an axes-level function for histograms).\n",
      "  warnings.warn(msg, FutureWarning)\n"
     ]
    },
    {
     "data": {
      "text/plain": [
       "<AxesSubplot:xlabel='total_bill', ylabel='Density'>"
      ]
     },
     "execution_count": 7,
     "metadata": {},
     "output_type": "execute_result"
    },
    {
     "data": {
      "image/png": "[encoded data removed]",
      "text/plain": [
       "<Figure size 432x288 with 1 Axes>"
      ]
     },
     "metadata": {
      "needs_background": "light"
     },
     "output_type": "display_data"
    }
   ],
   "source": [
    "sns.distplot(df[\"total_bill\"],kde=True)"
   ]
  },
  {
   "cell_type": "markdown",
   "id": "04f8c7be",
   "metadata": {},
   "source": [
    "# categorical variable so use countplot"
   ]
  },
  {
   "cell_type": "code",
   "execution_count": 32,
   "id": "1a329483",
   "metadata": {},
   "outputs": [
    {
     "name": "stderr",
     "output_type": "stream",
     "text": [
      "C:\\Users\\gajula Amar\\anaconda3\\lib\\site-packages\\seaborn\\_decorators.py:36: FutureWarning: Pass the following variable as a keyword arg: x. From version 0.12, the only valid positional argument will be `data`, and passing other arguments without an explicit keyword will result in an error or misinterpretation.\n",
      "  warnings.warn(\n"
     ]
    },
    {
     "data": {
      "text/plain": [
       "<AxesSubplot:xlabel='day', ylabel='count'>"
      ]
     },
     "execution_count": 32,
     "metadata": {},
     "output_type": "execute_result"
    },
    {
     "data": {
      "image/png": "[encoded data removed]",
      "text/plain": [
       "<Figure size 432x288 with 1 Axes>"
      ]
     },
     "metadata": {
      "needs_background": "light"
     },
     "output_type": "display_data"
    }
   ],
   "source": [
    "sns.countplot(df[\"day\"])"
   ]
  },
  {
   "cell_type": "code",
   "execution_count": 22,
   "id": "054afd81",
   "metadata": {},
   "outputs": [
    {
     "data": {
      "text/plain": [
       "<AxesSubplot:xlabel='sex', ylabel='count'>"
      ]
     },
     "execution_count": 22,
     "metadata": {},
     "output_type": "execute_result"
    },
    {
     "data": {
      "image/png": "[encoded data removed]",
      "text/plain": [
       "<Figure size 432x288 with 1 Axes>"
      ]
     },
     "metadata": {
      "needs_background": "light"
     },
     "output_type": "display_data"
    }
   ],
   "source": [
    "sns.countplot(df[\"sex\"])"
   ]
  },
  {
   "cell_type": "code",
   "execution_count": 23,
   "id": "27404f35",
   "metadata": {},
   "outputs": [
    {
     "data": {
      "text/plain": [
       "<AxesSubplot:xlabel='time', ylabel='count'>"
      ]
     },
     "execution_count": 23,
     "metadata": {},
     "output_type": "execute_result"
    },
    {
     "data": {
      "image/png": "[encoded data removed]",
      "text/plain": [
       "<Figure size 432x288 with 1 Axes>"
      ]
     },
     "metadata": {
      "needs_background": "light"
     },
     "output_type": "display_data"
    }
   ],
   "source": [
    "sns.countplot(df[\"time\"])"
   ]
  },
  {
   "cell_type": "code",
   "execution_count": 24,
   "id": "08fbe4f2",
   "metadata": {},
   "outputs": [
    {
     "data": {
      "text/plain": [
       "<AxesSubplot:xlabel='total_bill', ylabel='count'>"
      ]
     },
     "execution_count": 24,
     "metadata": {},
     "output_type": "execute_result"
    },
    {
     "data": {
      "image/png": "[encoded data removed]",
      "text/plain": [
       "<Figure size 432x288 with 1 Axes>"
      ]
     },
     "metadata": {
      "needs_background": "light"
     },
     "output_type": "display_data"
    }
   ],
   "source": [
    "sns.countplot(df[\"total_bill\"])"
   ]
  },
  {
   "cell_type": "markdown",
   "id": "6bcfb352",
   "metadata": {},
   "source": [
    "# find out the percentile\n",
    "    use numpy for checking percentile"
   ]
  },
  {
   "cell_type": "code",
   "execution_count": 35,
   "id": "a8a242d7",
   "metadata": {},
   "outputs": [
    {
     "data": {
      "text/plain": [
       "array([13.3475, 24.1275])"
      ]
     },
     "execution_count": 35,
     "metadata": {},
     "output_type": "execute_result"
    }
   ],
   "source": [
    "np.percentile(df[\"total_bill\"],[25,75])"
   ]
  },
  {
   "cell_type": "code",
   "execution_count": 38,
   "id": "3cc69f0d",
   "metadata": {},
   "outputs": [
    {
     "name": "stdout",
     "output_type": "stream",
     "text": [
      "13.3475\n",
      "24.127499999999998\n"
     ]
    }
   ],
   "source": [
    "q1,q3=np.percentile(df[\"total_bill\"],[25,75])\n",
    "print(q1)\n",
    "print(q3)"
   ]
  },
  {
   "cell_type": "markdown",
   "id": "14d4c75a",
   "metadata": {},
   "source": [
    "# and find IQR  Q3-Q1"
   ]
  },
  {
   "cell_type": "code",
   "execution_count": 37,
   "id": "10990765",
   "metadata": {},
   "outputs": [
    {
     "data": {
      "text/plain": [
       "10.780000000000001"
      ]
     },
     "execution_count": 37,
     "metadata": {},
     "output_type": "execute_result"
    }
   ],
   "source": [
    "IQR=24.1275-13.3475\n",
    "IQR"
   ]
  },
  {
   "cell_type": "code",
   "execution_count": 39,
   "id": "6f79845c",
   "metadata": {},
   "outputs": [],
   "source": [
    "Lower_Fence  = 13.3475 - 1.5*(IQR)\n",
    "Higher_Fence = 24.1275 + 1.5*(IQR)"
   ]
  },
  {
   "cell_type": "code",
   "execution_count": 46,
   "id": "112de439",
   "metadata": {},
   "outputs": [
    {
     "name": "stdout",
     "output_type": "stream",
     "text": [
      "L : -2.8225000000000016   \n",
      " H : 40.2975\n"
     ]
    }
   ],
   "source": [
    "print(\"L :\",Lower_Fence    ,\"  \\n\", \"H :\",Higher_Fence)"
   ]
  },
  {
   "cell_type": "markdown",
   "id": "46abeac0",
   "metadata": {},
   "source": [
    "## try to find oui IQR with \"iris\" with respect to sepal_length"
   ]
  },
  {
   "cell_type": "code",
   "execution_count": 47,
   "id": "ea035b8e",
   "metadata": {},
   "outputs": [],
   "source": [
    "df1=sns.load_dataset(\"Iris\")"
   ]
  },
  {
   "cell_type": "code",
   "execution_count": 48,
   "id": "32119c0e",
   "metadata": {},
   "outputs": [
    {
     "data": {
      "text/html": [
       "<div>\n",
       "<style scoped>\n",
       "    .dataframe tbody tr th:only-of-type {\n",
       "        vertical-align: middle;\n",
       "    }\n",
       "\n",
       "    .dataframe tbody tr th {\n",
       "        vertical-align: top;\n",
       "    }\n",
       "\n",
       "    .dataframe thead th {\n",
       "        text-align: right;\n",
       "    }\n",
       "</style>\n",
       "<table border=\"1\" class=\"dataframe\">\n",
       "  <thead>\n",
       "    <tr style=\"text-align: right;\">\n",
       "      <th></th>\n",
       "      <th>sepal_length</th>\n",
       "      <th>sepal_width</th>\n",
       "      <th>petal_length</th>\n",
       "      <th>petal_width</th>\n",
       "      <th>species</th>\n",
       "    </tr>\n",
       "  </thead>\n",
       "  <tbody>\n",
       "    <tr>\n",
       "      <th>0</th>\n",
       "      <td>5.1</td>\n",
       "      <td>3.5</td>\n",
       "      <td>1.4</td>\n",
       "      <td>0.2</td>\n",
       "      <td>setosa</td>\n",
       "    </tr>\n",
       "    <tr>\n",
       "      <th>1</th>\n",
       "      <td>4.9</td>\n",
       "      <td>3.0</td>\n",
       "      <td>1.4</td>\n",
       "      <td>0.2</td>\n",
       "      <td>setosa</td>\n",
       "    </tr>\n",
       "    <tr>\n",
       "      <th>2</th>\n",
       "      <td>4.7</td>\n",
       "      <td>3.2</td>\n",
       "      <td>1.3</td>\n",
       "      <td>0.2</td>\n",
       "      <td>setosa</td>\n",
       "    </tr>\n",
       "  </tbody>\n",
       "</table>\n",
       "</div>"
      ],
      "text/plain": [
       "   sepal_length  sepal_width  petal_length  petal_width species\n",
       "0           5.1          3.5           1.4          0.2  setosa\n",
       "1           4.9          3.0           1.4          0.2  setosa\n",
       "2           4.7          3.2           1.3          0.2  setosa"
      ]
     },
     "execution_count": 48,
     "metadata": {},
     "output_type": "execute_result"
    }
   ],
   "source": [
    "df1.head(3)"
   ]
  },
  {
   "cell_type": "code",
   "execution_count": 69,
   "id": "9a86e947",
   "metadata": {},
   "outputs": [
    {
     "name": "stdout",
     "output_type": "stream",
     "text": [
      "5.843333333333335\n",
      "3.057333333333334\n",
      "5.8\n",
      "3.0\n",
      "3.7580000000000027\n",
      "1.199333333333334\n",
      "4.35\n",
      "1.3\n",
      "setosa\n"
     ]
    }
   ],
   "source": [
    "print(np.mean(df1[\"sepal_length\"]))\n",
    "print(np.mean(df1[\"sepal_width\"]))\n",
    "print(np.median(df1[\"sepal_length\"]))\n",
    "print(np.median(df1[\"sepal_width\"]))\n",
    "\n",
    "print(np.mean(df1[\"petal_length\"]))\n",
    "print(np.mean(df1[\"petal_width\"]))\n",
    "print(np.median(df1[\"petal_length\"]))\n",
    "print(np.median(df1[\"petal_width\"]))\n",
    "\n",
    "\n",
    "print(statistics.mode(df1[\"species\"]))\n"
   ]
  },
  {
   "cell_type": "code",
   "execution_count": null,
   "id": "7e5ce028",
   "metadata": {},
   "outputs": [],
   "source": []
  },
  {
   "cell_type": "markdown",
   "id": "688abbe9",
   "metadata": {},
   "source": [
    "# finding the goussian distribution with iris data"
   ]
  },
  {
   "cell_type": "code",
   "execution_count": 49,
   "id": "c9bfc012",
   "metadata": {},
   "outputs": [
    {
     "data": {
      "text/plain": [
       "<AxesSubplot:xlabel='sepal_length', ylabel='Count'>"
      ]
     },
     "execution_count": 49,
     "metadata": {},
     "output_type": "execute_result"
    },
    {
     "data": {
      "image/png": "[encoded data removed]",
      "text/plain": [
       "<Figure size 432x288 with 1 Axes>"
      ]
     },
     "metadata": {
      "needs_background": "light"
     },
     "output_type": "display_data"
    }
   ],
   "source": [
    "sns.histplot(df1['sepal_length'])"
   ]
  },
  {
   "cell_type": "code",
   "execution_count": 50,
   "id": "44bef7dd",
   "metadata": {},
   "outputs": [
    {
     "data": {
      "text/plain": [
       "<AxesSubplot:xlabel='sepal_length', ylabel='Count'>"
      ]
     },
     "execution_count": 50,
     "metadata": {},
     "output_type": "execute_result"
    },
    {
     "data": {
      "image/png": "[encoded data removed]",
      "text/plain": [
       "<Figure size 432x288 with 1 Axes>"
      ]
     },
     "metadata": {
      "needs_background": "light"
     },
     "output_type": "display_data"
    }
   ],
   "source": [
    "sns.histplot(df1['sepal_length'],kde=True)"
   ]
  },
  {
   "cell_type": "code",
   "execution_count": 51,
   "id": "9bc5d44b",
   "metadata": {},
   "outputs": [
    {
     "name": "stderr",
     "output_type": "stream",
     "text": [
      "C:\\Users\\gajula Amar\\anaconda3\\lib\\site-packages\\seaborn\\distributions.py:2619: FutureWarning: `distplot` is a deprecated function and will be removed in a future version. Please adapt your code to use either `displot` (a figure-level function with similar flexibility) or `histplot` (an axes-level function for histograms).\n",
      "  warnings.warn(msg, FutureWarning)\n"
     ]
    },
    {
     "data": {
      "text/plain": [
       "<AxesSubplot:xlabel='sepal_length', ylabel='Density'>"
      ]
     },
     "execution_count": 51,
     "metadata": {},
     "output_type": "execute_result"
    },
    {
     "data": {
      "image/png": "[encoded data removed]",
      "text/plain": [
       "<Figure size 432x288 with 1 Axes>"
      ]
     },
     "metadata": {
      "needs_background": "light"
     },
     "output_type": "display_data"
    }
   ],
   "source": [
    "sns.distplot(df1['sepal_length'])"
   ]
  },
  {
   "cell_type": "code",
   "execution_count": 52,
   "id": "9385a5d9",
   "metadata": {},
   "outputs": [
    {
     "data": {
      "text/plain": [
       "<AxesSubplot:xlabel='sepal_width', ylabel='Count'>"
      ]
     },
     "execution_count": 52,
     "metadata": {},
     "output_type": "execute_result"
    },
    {
     "data": {
      "image/png": "[encoded data removed]",
      "text/plain": [
       "<Figure size 432x288 with 1 Axes>"
      ]
     },
     "metadata": {
      "needs_background": "light"
     },
     "output_type": "display_data"
    }
   ],
   "source": [
    "sns.histplot(df1['sepal_width'],kde=True)"
   ]
  },
  {
   "cell_type": "code",
   "execution_count": 54,
   "id": "0c85a717",
   "metadata": {},
   "outputs": [
    {
     "name": "stderr",
     "output_type": "stream",
     "text": [
      "C:\\Users\\gajula Amar\\anaconda3\\lib\\site-packages\\seaborn\\_decorators.py:36: FutureWarning: Pass the following variable as a keyword arg: x. From version 0.12, the only valid positional argument will be `data`, and passing other arguments without an explicit keyword will result in an error or misinterpretation.\n",
      "  warnings.warn(\n"
     ]
    },
    {
     "data": {
      "text/plain": [
       "<AxesSubplot:xlabel='species', ylabel='count'>"
      ]
     },
     "execution_count": 54,
     "metadata": {},
     "output_type": "execute_result"
    },
    {
     "data": {
      "image/png": "[encoded data removed]",
      "text/plain": [
       "<Figure size 432x288 with 1 Axes>"
      ]
     },
     "metadata": {
      "needs_background": "light"
     },
     "output_type": "display_data"
    }
   ],
   "source": [
    "sns.countplot(df1['species'])"
   ]
  },
  {
   "cell_type": "markdown",
   "id": "9f8c0e33",
   "metadata": {},
   "source": [
    "# outliers findout"
   ]
  },
  {
   "cell_type": "code",
   "execution_count": 55,
   "id": "eb546a78",
   "metadata": {},
   "outputs": [
    {
     "data": {
      "text/plain": [
       "array([5.1, 6.4])"
      ]
     },
     "execution_count": 55,
     "metadata": {},
     "output_type": "execute_result"
    }
   ],
   "source": [
    "np.percentile(df1[\"sepal_length\"],[25,75])"
   ]
  },
  {
   "cell_type": "markdown",
   "id": "e0a28574",
   "metadata": {},
   "source": [
    "# find IQR q3-q1"
   ]
  },
  {
   "cell_type": "code",
   "execution_count": 56,
   "id": "07c4d0d4",
   "metadata": {},
   "outputs": [
    {
     "data": {
      "text/plain": [
       "1.3000000000000007"
      ]
     },
     "execution_count": 56,
     "metadata": {},
     "output_type": "execute_result"
    }
   ],
   "source": [
    "IQR=6.4-5.1\n",
    "IQR"
   ]
  },
  {
   "cell_type": "code",
   "execution_count": 57,
   "id": "a2930e17",
   "metadata": {},
   "outputs": [
    {
     "name": "stdout",
     "output_type": "stream",
     "text": [
      "L : 3.1499999999999986 \n",
      " H : 8.350000000000001\n"
     ]
    }
   ],
   "source": [
    "Lower_Fence  = 5.1 - 1.5*IQR\n",
    "Higher_Fence = 6.4 + 1.5*IQR\n",
    "print(\"L :\",Lower_Fence    ,\"\\n\",\"H :\",Higher_Fence)"
   ]
  },
  {
   "cell_type": "code",
   "execution_count": 58,
   "id": "5d5d142d",
   "metadata": {},
   "outputs": [
    {
     "data": {
      "text/plain": [
       "array([1.6, 5.1])"
      ]
     },
     "execution_count": 58,
     "metadata": {},
     "output_type": "execute_result"
    }
   ],
   "source": [
    "np.percentile(df1[\"petal_length\"],[25,75])"
   ]
  },
  {
   "cell_type": "code",
   "execution_count": 59,
   "id": "41bbead4",
   "metadata": {},
   "outputs": [
    {
     "data": {
      "text/plain": [
       "3.4999999999999996"
      ]
     },
     "execution_count": 59,
     "metadata": {},
     "output_type": "execute_result"
    }
   ],
   "source": [
    "IQR= 5.1-1.6\n",
    "IQR"
   ]
  },
  {
   "cell_type": "code",
   "execution_count": 60,
   "id": "08ca6cba",
   "metadata": {},
   "outputs": [
    {
     "name": "stdout",
     "output_type": "stream",
     "text": [
      "L : -0.14999999999999947 \n",
      " H : 6.85\n"
     ]
    }
   ],
   "source": [
    "IQR=5.1-1.6\n",
    "IQR\n",
    "Lower_Fence  = 5.1 - 1.5*IQR\n",
    "Higher_Fence = 1.6 + 1.5*IQR\n",
    "print(\"L :\",Lower_Fence    ,\"\\n\",\"H :\",Higher_Fence)"
   ]
  },
  {
   "cell_type": "code",
   "execution_count": 61,
   "id": "ca251b0f",
   "metadata": {},
   "outputs": [
    {
     "data": {
      "text/plain": [
       "array([0.3, 1.8])"
      ]
     },
     "execution_count": 61,
     "metadata": {},
     "output_type": "execute_result"
    }
   ],
   "source": [
    "np.percentile(df1[\"petal_width\"],[25,75])"
   ]
  },
  {
   "cell_type": "code",
   "execution_count": 62,
   "id": "01c20e6a",
   "metadata": {},
   "outputs": [
    {
     "data": {
      "text/plain": [
       "1.5"
      ]
     },
     "execution_count": 62,
     "metadata": {},
     "output_type": "execute_result"
    }
   ],
   "source": [
    "IQR=1.8-0.3\n",
    "IQR"
   ]
  },
  {
   "cell_type": "code",
   "execution_count": 63,
   "id": "c7c2e0d1",
   "metadata": {},
   "outputs": [
    {
     "name": "stdout",
     "output_type": "stream",
     "text": [
      "L : -1.95 \n",
      " H : 4.05\n"
     ]
    }
   ],
   "source": [
    "IQR=1.8-0.3\n",
    "IQR\n",
    "Lower_Fence  = 0.3 - 1.5*IQR\n",
    "Higher_Fence = 1.8 + 1.5*IQR\n",
    "print(\"L :\",Lower_Fence    ,\"\\n\",\"H :\",Higher_Fence)"
   ]
  },
  {
   "cell_type": "code",
   "execution_count": 64,
   "id": "8b57ad2d",
   "metadata": {},
   "outputs": [
    {
     "data": {
      "text/plain": [
       "array([2.8, 3.3])"
      ]
     },
     "execution_count": 64,
     "metadata": {},
     "output_type": "execute_result"
    }
   ],
   "source": [
    "np.percentile(df1[\"sepal_width\"],[25,75])"
   ]
  },
  {
   "cell_type": "code",
   "execution_count": 65,
   "id": "edf42d0d",
   "metadata": {},
   "outputs": [
    {
     "data": {
      "text/plain": [
       "0.5"
      ]
     },
     "execution_count": 65,
     "metadata": {},
     "output_type": "execute_result"
    }
   ],
   "source": [
    "IQR=3.3-2.8\n",
    "IQR"
   ]
  },
  {
   "cell_type": "code",
   "execution_count": 66,
   "id": "369276e0",
   "metadata": {},
   "outputs": [
    {
     "name": "stdout",
     "output_type": "stream",
     "text": [
      "L : 2.05 \n",
      " H : 4.05\n"
     ]
    }
   ],
   "source": [
    "IQR=3.3-2.8\n",
    "IQR\n",
    "Lower_Fence  = 2.8 - 1.5*IQR\n",
    "Higher_Fence = 3.3 + 1.5*IQR\n",
    "print(\"L :\",Lower_Fence    ,\"\\n\",\"H :\",Higher_Fence)"
   ]
  },
  {
   "cell_type": "code",
   "execution_count": null,
   "id": "788e3783",
   "metadata": {},
   "outputs": [],
   "source": []
  },
  {
   "cell_type": "code",
   "execution_count": null,
   "id": "62644746",
   "metadata": {},
   "outputs": [],
   "source": []
  },
  {
   "cell_type": "markdown",
   "id": "f8750e9f",
   "metadata": {},
   "source": [
    "# find out outliers"
   ]
  },
  {
   "cell_type": "code",
   "execution_count": 71,
   "id": "91325eb4",
   "metadata": {},
   "outputs": [],
   "source": [
    "dataset= [11,10,12,14,12,15,14,13,15,102,12,14,17,19,107, 10,13,12,14,12,108,12,11,14,13,15,10,15,12,10,14,13,15,10]"
   ]
  },
  {
   "cell_type": "code",
   "execution_count": 72,
   "id": "1bc3668b",
   "metadata": {},
   "outputs": [
    {
     "data": {
      "text/plain": [
       "26.37230118696876"
      ]
     },
     "execution_count": 72,
     "metadata": {},
     "output_type": "execute_result"
    }
   ],
   "source": [
    "np.std(dataset)"
   ]
  },
  {
   "cell_type": "code",
   "execution_count": 73,
   "id": "4a9a3710",
   "metadata": {},
   "outputs": [
    {
     "data": {
      "text/plain": [
       "<AxesSubplot:ylabel='Count'>"
      ]
     },
     "execution_count": 73,
     "metadata": {},
     "output_type": "execute_result"
    },
    {
     "data": {
      "image/png": "[encoded data removed]",
      "text/plain": [
       "<Figure size 432x288 with 1 Axes>"
      ]
     },
     "metadata": {
      "needs_background": "light"
     },
     "output_type": "display_data"
    }
   ],
   "source": [
    "sns.histplot(dataset)"
   ]
  },
  {
   "cell_type": "code",
   "execution_count": 74,
   "id": "a23e4f6c",
   "metadata": {},
   "outputs": [
    {
     "data": {
      "text/plain": [
       "(array([31.,  0.,  0.,  0.,  0.,  0.,  0.,  0.,  0.,  3.]),\n",
       " array([ 10. ,  19.8,  29.6,  39.4,  49.2,  59. ,  68.8,  78.6,  88.4,\n",
       "         98.2, 108. ]),\n",
       " <BarContainer object of 10 artists>)"
      ]
     },
     "execution_count": 74,
     "metadata": {},
     "output_type": "execute_result"
    },
    {
     "data": {
      "image/png": "[encoded data removed]",
      "text/plain": [
       "<Figure size 432x288 with 1 Axes>"
      ]
     },
     "metadata": {
      "needs_background": "light"
     },
     "output_type": "display_data"
    }
   ],
   "source": [
    "plt.hist(dataset)"
   ]
  },
  {
   "cell_type": "code",
   "execution_count": 53,
   "id": "1e87b669",
   "metadata": {},
   "outputs": [
    {
     "name": "stderr",
     "output_type": "stream",
     "text": [
      "C:\\Users\\gajula Amar\\anaconda3\\lib\\site-packages\\seaborn\\distributions.py:2619: FutureWarning: `distplot` is a deprecated function and will be removed in a future version. Please adapt your code to use either `displot` (a figure-level function with similar flexibility) or `histplot` (an axes-level function for histograms).\n",
      "  warnings.warn(msg, FutureWarning)\n"
     ]
    },
    {
     "data": {
      "text/plain": [
       "<AxesSubplot:ylabel='Density'>"
      ]
     },
     "execution_count": 53,
     "metadata": {},
     "output_type": "execute_result"
    },
    {
     "data": {
      "image/png": "[encoded data removed]",
      "text/plain": [
       "<Figure size 432x288 with 1 Axes>"
      ]
     },
     "metadata": {
      "needs_background": "light"
     },
     "output_type": "display_data"
    }
   ],
   "source": [
    "sns.distplot(dataset)"
   ]
  },
  {
   "cell_type": "code",
   "execution_count": 54,
   "id": "23df13f8",
   "metadata": {},
   "outputs": [
    {
     "data": {
      "text/plain": [
       "(array([31.,  0.,  0.,  0.,  0.,  0.,  0.,  0.,  0.,  3.]),\n",
       " array([ 10. ,  19.8,  29.6,  39.4,  49.2,  59. ,  68.8,  78.6,  88.4,\n",
       "         98.2, 108. ]),\n",
       " <BarContainer object of 10 artists>)"
      ]
     },
     "execution_count": 54,
     "metadata": {},
     "output_type": "execute_result"
    },
    {
     "data": {
      "image/png": "[encoded data removed]",
      "text/plain": [
       "<Figure size 432x288 with 1 Axes>"
      ]
     },
     "metadata": {
      "needs_background": "light"
     },
     "output_type": "display_data"
    }
   ],
   "source": [
    "import pandas as pd\n",
    "plt.hist(pd.DataFrame(dataset))"
   ]
  },
  {
   "cell_type": "code",
   "execution_count": 55,
   "id": "3dd489a6",
   "metadata": {
    "scrolled": true
   },
   "outputs": [
    {
     "data": {
      "text/plain": [
       "<AxesSubplot:ylabel='Count'>"
      ]
     },
     "execution_count": 55,
     "metadata": {},
     "output_type": "execute_result"
    },
    {
     "data": {
      "image/png": "[encoded data removed]",
      "text/plain": [
       "<Figure size 432x288 with 1 Axes>"
      ]
     },
     "metadata": {
      "needs_background": "light"
     },
     "output_type": "display_data"
    }
   ],
   "source": [
    "sns.histplot(dataset,kde=True)"
   ]
  },
  {
   "cell_type": "code",
   "execution_count": 75,
   "id": "a21968a5",
   "metadata": {},
   "outputs": [
    {
     "data": {
      "text/plain": [
       "26.37230118696876"
      ]
     },
     "execution_count": 75,
     "metadata": {},
     "output_type": "execute_result"
    }
   ],
   "source": [
    "np.std(dataset)"
   ]
  },
  {
   "cell_type": "code",
   "execution_count": 76,
   "id": "b7e99dd8",
   "metadata": {},
   "outputs": [
    {
     "data": {
      "text/plain": [
       "21.176470588235293"
      ]
     },
     "execution_count": 76,
     "metadata": {},
     "output_type": "execute_result"
    }
   ],
   "source": [
    "np.mean(dataset)"
   ]
  },
  {
   "cell_type": "code",
   "execution_count": 81,
   "id": "3861e85c",
   "metadata": {},
   "outputs": [
    {
     "name": "stdout",
     "output_type": "stream",
     "text": [
      "0.38587723217963826\n",
      "0.4237958041279264\n",
      "0.3479586602313501\n",
      "0.27212151633477377\n",
      "0.3479586602313501\n",
      "0.23420294438648565\n",
      "0.27212151633477377\n",
      "0.31004008828306195\n",
      "0.23420294438648565\n",
      "3.064712815114584\n",
      "0.3479586602313501\n",
      "0.27212151633477377\n",
      "0.15836580048990934\n",
      "0.08252865659333301\n",
      "3.254305674856025\n",
      "0.4237958041279264\n",
      "0.31004008828306195\n",
      "0.3479586602313501\n",
      "0.27212151633477377\n",
      "0.3479586602313501\n",
      "3.292224246804313\n",
      "0.3479586602313501\n",
      "0.38587723217963826\n",
      "0.27212151633477377\n",
      "0.31004008828306195\n",
      "0.23420294438648565\n",
      "0.4237958041279264\n",
      "0.23420294438648565\n",
      "0.3479586602313501\n",
      "0.4237958041279264\n",
      "0.27212151633477377\n",
      "0.31004008828306195\n",
      "0.23420294438648565\n",
      "0.4237958041279264\n"
     ]
    }
   ],
   "source": [
    "for i in dataset:\n",
    "    mean=np.mean(dataset)\n",
    "    std=np.std(dataset)\n",
    "    Z_score=(i-mean)/std\n",
    "    #print(Z_score)  it give negative values \n",
    "    print(np.abs(Z_score)) #np.abs function changes the negative values to positive \n",
    "    "
   ]
  },
  {
   "cell_type": "markdown",
   "id": "de5d40fe",
   "metadata": {},
   "source": [
    "# Z-score and IQR"
   ]
  },
  {
   "cell_type": "code",
   "execution_count": 134,
   "id": "d1b30c28",
   "metadata": {},
   "outputs": [],
   "source": [
    "outliers=[]\n",
    "\n",
    "def detect_outliers(data):\n",
    "    threshold=3   # this define our 3rd standar diviation\n",
    "    mean=np.mean(data)\n",
    "    std=np.std(data)\n",
    "    \n",
    "    for i in data:\n",
    "        Z_score=(i-mean)/std\n",
    "        #print(Z_score)\n",
    "        #break\n",
    "        if np.abs(Z_score)>threshold:# abs is threshold can be posiive side and nagative side so we used abs here\n",
    "            #print(Z_score)\n",
    "            #break\n",
    "            outliers.append(i)\n",
    "            #outliers.append(np.abs(Z_score))\n",
    "    return outliers"
   ]
  },
  {
   "cell_type": "code",
   "execution_count": 135,
   "id": "d790602e",
   "metadata": {},
   "outputs": [
    {
     "data": {
      "text/plain": [
       "[102, 107, 108]"
      ]
     },
     "execution_count": 135,
     "metadata": {},
     "output_type": "execute_result"
    }
   ],
   "source": [
    "dataset= [11,10,12,14,12,15,14,13,15,102,12,14,17,19,107, 10,13,12,14,12,108,12,11,14,13,15,10,15,12,10,14,13,15,10]\n",
    "detect_outliers(dataset)"
   ]
  },
  {
   "cell_type": "code",
   "execution_count": 90,
   "id": "1d1680ba",
   "metadata": {},
   "outputs": [],
   "source": [
    "a=-123.12"
   ]
  },
  {
   "cell_type": "code",
   "execution_count": 91,
   "id": "84fb092a",
   "metadata": {},
   "outputs": [
    {
     "data": {
      "text/plain": [
       "123.12"
      ]
     },
     "execution_count": 91,
     "metadata": {},
     "output_type": "execute_result"
    }
   ],
   "source": [
    "np.abs(a)"
   ]
  },
  {
   "cell_type": "code",
   "execution_count": 60,
   "id": "e0e53b9a",
   "metadata": {},
   "outputs": [
    {
     "data": {
      "text/plain": [
       "26.37230118696876"
      ]
     },
     "execution_count": 60,
     "metadata": {},
     "output_type": "execute_result"
    }
   ],
   "source": [
    "SD=np.std(dataset)\n",
    "SD"
   ]
  },
  {
   "cell_type": "code",
   "execution_count": 61,
   "id": "ab5fce79",
   "metadata": {},
   "outputs": [
    {
     "data": {
      "text/plain": [
       "21.176470588235293"
      ]
     },
     "execution_count": 61,
     "metadata": {},
     "output_type": "execute_result"
    }
   ],
   "source": [
    "m=np.mean(dataset)\n",
    "m"
   ]
  },
  {
   "cell_type": "code",
   "execution_count": 92,
   "id": "23185d01",
   "metadata": {},
   "outputs": [
    {
     "data": {
      "text/plain": [
       "(26.37230118696876, 21.176470588235293)"
      ]
     },
     "execution_count": 92,
     "metadata": {},
     "output_type": "execute_result"
    }
   ],
   "source": [
    "def detect_outliers(data):\n",
    "    threshold=3   # this define our 3rd standar diviation\n",
    "    mean=np.mean(data)\n",
    "    std=np.std(data)\n",
    "    return std,mean\n",
    "detect_outliers(dataset)    "
   ]
  },
  {
   "cell_type": "code",
   "execution_count": 120,
   "id": "624b24b8",
   "metadata": {},
   "outputs": [
    {
     "ename": "IndentationError",
     "evalue": "unexpected indent (conda_tmp/ipykernel_21148/3528084910.py, line 7)",
     "output_type": "error",
     "traceback": [
      "\u001b[1;36m  File \u001b[1;32m\"C:\\conda_tmp/ipykernel_21148/3528084910.py\"\u001b[1;36m, line \u001b[1;32m7\u001b[0m\n\u001b[1;33m    elif np.abs(Z_score)>threshold:\u001b[0m\n\u001b[1;37m    ^\u001b[0m\n\u001b[1;31mIndentationError\u001b[0m\u001b[1;31m:\u001b[0m unexpected indent\n"
     ]
    }
   ],
   "source": [
    "dataset= [11,10,12,14,12,15,14,13,15,102,12,14,17,19,107, 10,13,12,14,12,108,12,11,14,13,15,10,15,12,10,14,13,15,10]\n",
    "threshold=3\n",
    "for i in dataset:\n",
    "    m=np.mean(dataset)\n",
    "    SD=np.std(dataset)\n",
    "    Z_score=(i-m)/SD\n",
    "      elif np.abs(Z_score)>threshold:\n",
    "        outliers.append(i)\n",
    "        print(outliers)\n",
    "        break"
   ]
  },
  {
   "cell_type": "code",
   "execution_count": 121,
   "id": "bb6476c3",
   "metadata": {},
   "outputs": [
    {
     "data": {
      "text/plain": [
       "-0.3479586602313501"
      ]
     },
     "execution_count": 121,
     "metadata": {},
     "output_type": "execute_result"
    }
   ],
   "source": [
    "Z_score=(12-m)/SD\n",
    "Z_score"
   ]
  },
  {
   "cell_type": "code",
   "execution_count": 122,
   "id": "d6d0ee76",
   "metadata": {},
   "outputs": [
    {
     "data": {
      "text/plain": [
       "101.19701847638919"
      ]
     },
     "execution_count": 122,
     "metadata": {},
     "output_type": "execute_result"
    }
   ],
   "source": [
    "Z=102-m/SD\n",
    "Z"
   ]
  },
  {
   "cell_type": "code",
   "execution_count": 123,
   "id": "b865d604",
   "metadata": {},
   "outputs": [
    {
     "data": {
      "text/plain": [
       "True"
      ]
     },
     "execution_count": 123,
     "metadata": {},
     "output_type": "execute_result"
    }
   ],
   "source": [
    "np.abs(Z)>3\n"
   ]
  },
  {
   "cell_type": "code",
   "execution_count": 124,
   "id": "bfff280e",
   "metadata": {},
   "outputs": [
    {
     "data": {
      "text/plain": [
       "-0.802981523610808"
      ]
     },
     "execution_count": 124,
     "metadata": {},
     "output_type": "execute_result"
    }
   ],
   "source": [
    "Z=0-m/SD\n",
    "Z"
   ]
  },
  {
   "cell_type": "code",
   "execution_count": 125,
   "id": "db010195",
   "metadata": {},
   "outputs": [
    {
     "data": {
      "text/plain": [
       "0.802981523610808"
      ]
     },
     "execution_count": 125,
     "metadata": {},
     "output_type": "execute_result"
    }
   ],
   "source": [
    "np.abs(Z)"
   ]
  },
  {
   "cell_type": "markdown",
   "id": "d09c702d",
   "metadata": {},
   "source": []
  },
  {
   "cell_type": "markdown",
   "id": "44a9fed2",
   "metadata": {},
   "source": [
    "# outliers using IQR\n",
    "1.sort the data.\n",
    "\n",
    "2.calauclate the Q1 and Q3\n",
    "\n",
    "3.IQR =  (Q1-Q3)\n",
    "\n",
    "4.find the lower fance(q1-1.5(iqr))\n",
    "\n",
    "\n",
    "5.find the upper fance(q1-1.5(iqr))"
   ]
  },
  {
   "cell_type": "code",
   "execution_count": 140,
   "id": "9b617e38",
   "metadata": {},
   "outputs": [],
   "source": [
    "dataset=sorted(dataset)"
   ]
  },
  {
   "cell_type": "code",
   "execution_count": 141,
   "id": "b77f6474",
   "metadata": {},
   "outputs": [
    {
     "data": {
      "text/plain": [
       "[10,\n",
       " 10,\n",
       " 10,\n",
       " 10,\n",
       " 10,\n",
       " 11,\n",
       " 11,\n",
       " 12,\n",
       " 12,\n",
       " 12,\n",
       " 12,\n",
       " 12,\n",
       " 12,\n",
       " 12,\n",
       " 13,\n",
       " 13,\n",
       " 13,\n",
       " 13,\n",
       " 14,\n",
       " 14,\n",
       " 14,\n",
       " 14,\n",
       " 14,\n",
       " 14,\n",
       " 15,\n",
       " 15,\n",
       " 15,\n",
       " 15,\n",
       " 15,\n",
       " 17,\n",
       " 19,\n",
       " 102,\n",
       " 107,\n",
       " 108]"
      ]
     },
     "execution_count": 141,
     "metadata": {},
     "output_type": "execute_result"
    }
   ],
   "source": [
    "dataset"
   ]
  },
  {
   "cell_type": "code",
   "execution_count": 72,
   "id": "a80dbd90",
   "metadata": {},
   "outputs": [
    {
     "data": {
      "text/plain": [
       "[10,\n",
       " 10,\n",
       " 10,\n",
       " 10,\n",
       " 10,\n",
       " 11,\n",
       " 11,\n",
       " 12,\n",
       " 12,\n",
       " 12,\n",
       " 12,\n",
       " 12,\n",
       " 12,\n",
       " 12,\n",
       " 13,\n",
       " 13,\n",
       " 13,\n",
       " 13,\n",
       " 14,\n",
       " 14,\n",
       " 14,\n",
       " 14,\n",
       " 14,\n",
       " 14,\n",
       " 15,\n",
       " 15,\n",
       " 15,\n",
       " 15,\n",
       " 15,\n",
       " 17,\n",
       " 19,\n",
       " 102,\n",
       " 107,\n",
       " 108]"
      ]
     },
     "execution_count": 72,
     "metadata": {},
     "output_type": "execute_result"
    }
   ],
   "source": [
    "dataset= [11,10,12,14,12,15,14,13,15,102,12,14,17,19,107, 10,13,12,14,12,108,12,11,14,13,15,10,15,12,10,14,13,15,10]\n",
    "dataset.sort()\n",
    "dataset"
   ]
  },
  {
   "cell_type": "code",
   "execution_count": 144,
   "id": "96b8a1fd",
   "metadata": {},
   "outputs": [],
   "source": [
    "q1,q3 = np.percentile(dataset,[25,75])"
   ]
  },
  {
   "cell_type": "code",
   "execution_count": 145,
   "id": "058d302a",
   "metadata": {},
   "outputs": [
    {
     "name": "stdout",
     "output_type": "stream",
     "text": [
      "12.0 15.0\n"
     ]
    }
   ],
   "source": [
    "print(q1,q3)"
   ]
  },
  {
   "cell_type": "markdown",
   "id": "933a12f0",
   "metadata": {},
   "source": [
    "# finding IQR"
   ]
  },
  {
   "cell_type": "code",
   "execution_count": 146,
   "id": "b7850c33",
   "metadata": {},
   "outputs": [
    {
     "name": "stdout",
     "output_type": "stream",
     "text": [
      "3.0\n"
     ]
    }
   ],
   "source": [
    "iqr = q3-q1\n",
    "print(iqr)"
   ]
  },
  {
   "cell_type": "markdown",
   "id": "6bfc6a3b",
   "metadata": {},
   "source": [
    "# finding lower_fence,higher_fence "
   ]
  },
  {
   "cell_type": "code",
   "execution_count": 147,
   "id": "90a69524",
   "metadata": {},
   "outputs": [],
   "source": [
    "lower_fence  = q1-(1.5*iqr)\n",
    "higher_fence = q3+(1.5*iqr)"
   ]
  },
  {
   "cell_type": "code",
   "execution_count": 148,
   "id": "f1deecd4",
   "metadata": {},
   "outputs": [
    {
     "name": "stdout",
     "output_type": "stream",
     "text": [
      "lower_fence  : 7.5\n",
      "higher_fence : 19.5\n"
     ]
    }
   ],
   "source": [
    "print(\"lower_fence  :\",lower_fence )\n",
    "print(\"higher_fence :\",higher_fence)"
   ]
  },
  {
   "cell_type": "code",
   "execution_count": 149,
   "id": "57a52749",
   "metadata": {},
   "outputs": [
    {
     "data": {
      "text/plain": [
       "(7.5, 19.5)"
      ]
     },
     "execution_count": 149,
     "metadata": {},
     "output_type": "execute_result"
    }
   ],
   "source": [
    "lower_fence  = q1-1.5*iqr\n",
    "higher_fence = q3+1.5*iqr\n",
    "lower_fence,higher_fence"
   ]
  },
  {
   "cell_type": "code",
   "execution_count": 157,
   "id": "8386ee3d",
   "metadata": {},
   "outputs": [
    {
     "name": "stdout",
     "output_type": "stream",
     "text": [
      "[]\n"
     ]
    }
   ],
   "source": [
    "l=[]\n",
    "for k in dataset:\n",
    "    if k<7.5 and k>19.5:\n",
    "        l.append(k)\n",
    "print(l)\n",
    "        \n",
    "        "
   ]
  },
  {
   "cell_type": "code",
   "execution_count": 154,
   "id": "d4cbea37",
   "metadata": {},
   "outputs": [
    {
     "name": "stdout",
     "output_type": "stream",
     "text": [
      "108\n"
     ]
    }
   ],
   "source": [
    "print(k)"
   ]
  },
  {
   "cell_type": "code",
   "execution_count": null,
   "id": "59411af3",
   "metadata": {},
   "outputs": [],
   "source": [
    "P- Value , Hypothesis_Tessting ,Confidence In"
   ]
  },
  {
   "cell_type": "markdown",
   "id": "7d4f7675",
   "metadata": {},
   "source": [
    "# Again finding IQR with iris"
   ]
  },
  {
   "cell_type": "code",
   "execution_count": 83,
   "id": "fe338a4e",
   "metadata": {},
   "outputs": [
    {
     "name": "stdout",
     "output_type": "stream",
     "text": [
      "1.6 5.1\n"
     ]
    }
   ],
   "source": [
    "q1,q3=np.percentile(df1['petal_length'],[25,75])\n",
    "print(q1,q3)"
   ]
  },
  {
   "cell_type": "code",
   "execution_count": 85,
   "id": "ffeb7ba4",
   "metadata": {},
   "outputs": [
    {
     "name": "stdout",
     "output_type": "stream",
     "text": [
      "3.4999999999999996\n"
     ]
    }
   ],
   "source": [
    "iqr = q3-q1\n",
    "print(iqr)"
   ]
  },
  {
   "cell_type": "code",
   "execution_count": 87,
   "id": "81e214e6",
   "metadata": {},
   "outputs": [
    {
     "name": "stdout",
     "output_type": "stream",
     "text": [
      "lower_fence   : -3.649999999999999\n",
      "higher_fence  : 10.349999999999998\n"
     ]
    }
   ],
   "source": [
    "lower_fence=q1-1.5*iqr\n",
    "higher_fence=q3+1.5*iqr\n",
    "print(\"lower_fence   :\",lower_fence)\n",
    "print(\"higher_fence  :\",higher_fence)"
   ]
  },
  {
   "cell_type": "code",
   "execution_count": null,
   "id": "651040ef",
   "metadata": {},
   "outputs": [],
   "source": []
  },
  {
   "cell_type": "code",
   "execution_count": 138,
   "id": "3b3770a1",
   "metadata": {},
   "outputs": [
    {
     "ename": "AttributeError",
     "evalue": "'list' object has no attribute 'get'",
     "output_type": "error",
     "traceback": [
      "\u001b[1;31m---------------------------------------------------------------------------\u001b[0m",
      "\u001b[1;31mAttributeError\u001b[0m                            Traceback (most recent call last)",
      "\u001b[1;32mC:\\conda_tmp/ipykernel_21148/3226842123.py\u001b[0m in \u001b[0;36m<module>\u001b[1;34m\u001b[0m\n\u001b[1;32m----> 1\u001b[1;33m \u001b[0msns\u001b[0m\u001b[1;33m.\u001b[0m\u001b[0mcatplot\u001b[0m\u001b[1;33m(\u001b[0m\u001b[0mdata\u001b[0m\u001b[1;33m=\u001b[0m\u001b[0mdataset\u001b[0m\u001b[1;33m,\u001b[0m\u001b[0mx\u001b[0m\u001b[1;33m=\u001b[0m\u001b[1;34m\"datset\"\u001b[0m\u001b[1;33m,\u001b[0m\u001b[0mkind\u001b[0m\u001b[1;33m=\u001b[0m\u001b[1;34m\"box\"\u001b[0m\u001b[1;33m)\u001b[0m\u001b[1;33m\u001b[0m\u001b[1;33m\u001b[0m\u001b[0m\n\u001b[0m\u001b[0;32m      2\u001b[0m \u001b[1;31m#sns.catplot(x=\"total_bill\",data=df,kind=\"box\")\u001b[0m\u001b[1;33m\u001b[0m\u001b[1;33m\u001b[0m\u001b[0m\n",
      "\u001b[1;32m~\\anaconda3\\lib\\site-packages\\seaborn\\_decorators.py\u001b[0m in \u001b[0;36minner_f\u001b[1;34m(*args, **kwargs)\u001b[0m\n\u001b[0;32m     44\u001b[0m             )\n\u001b[0;32m     45\u001b[0m         \u001b[0mkwargs\u001b[0m\u001b[1;33m.\u001b[0m\u001b[0mupdate\u001b[0m\u001b[1;33m(\u001b[0m\u001b[1;33m{\u001b[0m\u001b[0mk\u001b[0m\u001b[1;33m:\u001b[0m \u001b[0marg\u001b[0m \u001b[1;32mfor\u001b[0m \u001b[0mk\u001b[0m\u001b[1;33m,\u001b[0m \u001b[0marg\u001b[0m \u001b[1;32min\u001b[0m \u001b[0mzip\u001b[0m\u001b[1;33m(\u001b[0m\u001b[0msig\u001b[0m\u001b[1;33m.\u001b[0m\u001b[0mparameters\u001b[0m\u001b[1;33m,\u001b[0m \u001b[0margs\u001b[0m\u001b[1;33m)\u001b[0m\u001b[1;33m}\u001b[0m\u001b[1;33m)\u001b[0m\u001b[1;33m\u001b[0m\u001b[1;33m\u001b[0m\u001b[0m\n\u001b[1;32m---> 46\u001b[1;33m         \u001b[1;32mreturn\u001b[0m \u001b[0mf\u001b[0m\u001b[1;33m(\u001b[0m\u001b[1;33m**\u001b[0m\u001b[0mkwargs\u001b[0m\u001b[1;33m)\u001b[0m\u001b[1;33m\u001b[0m\u001b[1;33m\u001b[0m\u001b[0m\n\u001b[0m\u001b[0;32m     47\u001b[0m     \u001b[1;32mreturn\u001b[0m \u001b[0minner_f\u001b[0m\u001b[1;33m\u001b[0m\u001b[1;33m\u001b[0m\u001b[0m\n\u001b[0;32m     48\u001b[0m \u001b[1;33m\u001b[0m\u001b[0m\n",
      "\u001b[1;32m~\\anaconda3\\lib\\site-packages\\seaborn\\categorical.py\u001b[0m in \u001b[0;36mcatplot\u001b[1;34m(x, y, hue, data, row, col, col_wrap, estimator, ci, n_boot, units, seed, order, hue_order, row_order, col_order, kind, height, aspect, orient, color, palette, legend, legend_out, sharex, sharey, margin_titles, facet_kws, **kwargs)\u001b[0m\n\u001b[0;32m   3790\u001b[0m     \u001b[0mp\u001b[0m \u001b[1;33m=\u001b[0m \u001b[0m_CategoricalPlotter\u001b[0m\u001b[1;33m(\u001b[0m\u001b[1;33m)\u001b[0m\u001b[1;33m\u001b[0m\u001b[1;33m\u001b[0m\u001b[0m\n\u001b[0;32m   3791\u001b[0m     \u001b[0mp\u001b[0m\u001b[1;33m.\u001b[0m\u001b[0mrequire_numeric\u001b[0m \u001b[1;33m=\u001b[0m \u001b[0mplotter_class\u001b[0m\u001b[1;33m.\u001b[0m\u001b[0mrequire_numeric\u001b[0m\u001b[1;33m\u001b[0m\u001b[1;33m\u001b[0m\u001b[0m\n\u001b[1;32m-> 3792\u001b[1;33m     \u001b[0mp\u001b[0m\u001b[1;33m.\u001b[0m\u001b[0mestablish_variables\u001b[0m\u001b[1;33m(\u001b[0m\u001b[0mx_\u001b[0m\u001b[1;33m,\u001b[0m \u001b[0my_\u001b[0m\u001b[1;33m,\u001b[0m \u001b[0mhue\u001b[0m\u001b[1;33m,\u001b[0m \u001b[0mdata\u001b[0m\u001b[1;33m,\u001b[0m \u001b[0morient\u001b[0m\u001b[1;33m,\u001b[0m \u001b[0morder\u001b[0m\u001b[1;33m,\u001b[0m \u001b[0mhue_order\u001b[0m\u001b[1;33m)\u001b[0m\u001b[1;33m\u001b[0m\u001b[1;33m\u001b[0m\u001b[0m\n\u001b[0m\u001b[0;32m   3793\u001b[0m     if (\n\u001b[0;32m   3794\u001b[0m         \u001b[0morder\u001b[0m \u001b[1;32mis\u001b[0m \u001b[1;32mnot\u001b[0m \u001b[1;32mNone\u001b[0m\u001b[1;33m\u001b[0m\u001b[1;33m\u001b[0m\u001b[0m\n",
      "\u001b[1;32m~\\anaconda3\\lib\\site-packages\\seaborn\\categorical.py\u001b[0m in \u001b[0;36mestablish_variables\u001b[1;34m(self, x, y, hue, data, orient, order, hue_order, units)\u001b[0m\n\u001b[0;32m    142\u001b[0m             \u001b[1;31m# See if we need to get variables from `data`\u001b[0m\u001b[1;33m\u001b[0m\u001b[1;33m\u001b[0m\u001b[0m\n\u001b[0;32m    143\u001b[0m             \u001b[1;32mif\u001b[0m \u001b[0mdata\u001b[0m \u001b[1;32mis\u001b[0m \u001b[1;32mnot\u001b[0m \u001b[1;32mNone\u001b[0m\u001b[1;33m:\u001b[0m\u001b[1;33m\u001b[0m\u001b[1;33m\u001b[0m\u001b[0m\n\u001b[1;32m--> 144\u001b[1;33m                 \u001b[0mx\u001b[0m \u001b[1;33m=\u001b[0m \u001b[0mdata\u001b[0m\u001b[1;33m.\u001b[0m\u001b[0mget\u001b[0m\u001b[1;33m(\u001b[0m\u001b[0mx\u001b[0m\u001b[1;33m,\u001b[0m \u001b[0mx\u001b[0m\u001b[1;33m)\u001b[0m\u001b[1;33m\u001b[0m\u001b[1;33m\u001b[0m\u001b[0m\n\u001b[0m\u001b[0;32m    145\u001b[0m                 \u001b[0my\u001b[0m \u001b[1;33m=\u001b[0m \u001b[0mdata\u001b[0m\u001b[1;33m.\u001b[0m\u001b[0mget\u001b[0m\u001b[1;33m(\u001b[0m\u001b[0my\u001b[0m\u001b[1;33m,\u001b[0m \u001b[0my\u001b[0m\u001b[1;33m)\u001b[0m\u001b[1;33m\u001b[0m\u001b[1;33m\u001b[0m\u001b[0m\n\u001b[0;32m    146\u001b[0m                 \u001b[0mhue\u001b[0m \u001b[1;33m=\u001b[0m \u001b[0mdata\u001b[0m\u001b[1;33m.\u001b[0m\u001b[0mget\u001b[0m\u001b[1;33m(\u001b[0m\u001b[0mhue\u001b[0m\u001b[1;33m,\u001b[0m \u001b[0mhue\u001b[0m\u001b[1;33m)\u001b[0m\u001b[1;33m\u001b[0m\u001b[1;33m\u001b[0m\u001b[0m\n",
      "\u001b[1;31mAttributeError\u001b[0m: 'list' object has no attribute 'get'"
     ]
    }
   ],
   "source": [
    "sns.catplot(data=dataset,x=\"datset\",kind=\"box\")\n",
    "#sns.catplot(x=\"total_bill\",data=df,kind=\"box\")"
   ]
  },
  {
   "cell_type": "code",
   "execution_count": 139,
   "id": "7856a4bf",
   "metadata": {},
   "outputs": [
    {
     "name": "stderr",
     "output_type": "stream",
     "text": [
      "C:\\Users\\gajula Amar\\anaconda3\\lib\\site-packages\\seaborn\\_decorators.py:36: FutureWarning: Pass the following variable as a keyword arg: x. From version 0.12, the only valid positional argument will be `data`, and passing other arguments without an explicit keyword will result in an error or misinterpretation.\n",
      "  warnings.warn(\n"
     ]
    },
    {
     "data": {
      "text/plain": [
       "<AxesSubplot:>"
      ]
     },
     "execution_count": 139,
     "metadata": {},
     "output_type": "execute_result"
    },
    {
     "data": {
      "image/png": "[encoded data removed]",
      "text/plain": [
       "<Figure size 432x288 with 1 Axes>"
      ]
     },
     "metadata": {
      "needs_background": "light"
     },
     "output_type": "display_data"
    }
   ],
   "source": [
    "sns.boxplot(dataset)"
   ]
  },
  {
   "cell_type": "code",
   "execution_count": 258,
   "id": "03e23ae9",
   "metadata": {
    "scrolled": true
   },
   "outputs": [
    {
     "name": "stderr",
     "output_type": "stream",
     "text": [
      "C:\\Users\\gajula Amar\\anaconda3\\lib\\site-packages\\seaborn\\_decorators.py:36: FutureWarning: Pass the following variable as a keyword arg: x. From version 0.12, the only valid positional argument will be `data`, and passing other arguments without an explicit keyword will result in an error or misinterpretation.\n",
      "  warnings.warn(\n"
     ]
    },
    {
     "data": {
      "text/plain": [
       "<AxesSubplot:>"
      ]
     },
     "execution_count": 258,
     "metadata": {},
     "output_type": "execute_result"
    },
    {
     "data": {
      "image/png": "[encoded data removed]",
      "text/plain": [
       "<Figure size 432x288 with 1 Axes>"
      ]
     },
     "metadata": {
      "needs_background": "light"
     },
     "output_type": "display_data"
    }
   ],
   "source": [
    "sns.boxenplot(dataset)"
   ]
  },
  {
   "cell_type": "code",
   "execution_count": 257,
   "id": "0ab95f03",
   "metadata": {},
   "outputs": [
    {
     "data": {
      "text/plain": [
       "{'whiskers': [<matplotlib.lines.Line2D at 0x1d3a1027610>,\n",
       "  <matplotlib.lines.Line2D at 0x1d3a10279a0>],\n",
       " 'caps': [<matplotlib.lines.Line2D at 0x1d3a1027d30>,\n",
       "  <matplotlib.lines.Line2D at 0x1d3a1036100>],\n",
       " 'boxes': [<matplotlib.lines.Line2D at 0x1d3a1027250>],\n",
       " 'medians': [<matplotlib.lines.Line2D at 0x1d3a1036490>],\n",
       " 'fliers': [<matplotlib.lines.Line2D at 0x1d3a1036820>],\n",
       " 'means': []}"
      ]
     },
     "execution_count": 257,
     "metadata": {},
     "output_type": "execute_result"
    },
    {
     "data": {
      "image/png": "[encoded data removed]",
      "text/plain": [
       "<Figure size 432x288 with 1 Axes>"
      ]
     },
     "metadata": {
      "needs_background": "light"
     },
     "output_type": "display_data"
    }
   ],
   "source": [
    "plt.boxplot(dataset)"
   ]
  },
  {
   "cell_type": "code",
   "execution_count": null,
   "id": "1c6a9042",
   "metadata": {},
   "outputs": [],
   "source": []
  },
  {
   "cell_type": "code",
   "execution_count": null,
   "id": "966dfa49",
   "metadata": {},
   "outputs": [],
   "source": [
    "Hypothesis Testing \n",
    " 1. Null Hypothesis --coin is fair(HO)\n",
    " 2.Alternative Hypothesis --coin is not Fair (HS)\n",
    " 3.Experiment\n",
    " 4. Reject or Accept the Null Hypothesis\n",
    "\n",
    "real world project \n",
    "\n",
    "Bank A                           location A atm aria\n",
    "             \n",
    "               \n",
    "                "
   ]
  },
  {
   "cell_type": "code",
   "execution_count": null,
   "id": "299e4f5a",
   "metadata": {},
   "outputs": [],
   "source": [
    "after 100 tosses 50 times head }|---\n",
    "                 50 times tail }|---"
   ]
  },
  {
   "cell_type": "code",
   "execution_count": null,
   "id": "e93b61f5",
   "metadata": {},
   "outputs": [],
   "source": [
    "Power law Distribution "
   ]
  },
  {
   "cell_type": "code",
   "execution_count": 1,
   "id": "b0d9379e",
   "metadata": {},
   "outputs": [
    {
     "data": {
      "text/plain": [
       "0.08226"
      ]
     },
     "execution_count": 1,
     "metadata": {},
     "output_type": "execute_result"
    }
   ],
   "source": [
    "1-0.91774"
   ]
  },
  {
   "cell_type": "code",
   "execution_count": 2,
   "id": "d380d7e9",
   "metadata": {},
   "outputs": [
    {
     "data": {
      "text/plain": [
       "0.83548"
      ]
     },
     "execution_count": 2,
     "metadata": {},
     "output_type": "execute_result"
    }
   ],
   "source": [
    "1-0.08226-0.08226"
   ]
  },
  {
   "cell_type": "code",
   "execution_count": 1,
   "id": "1c038d9d",
   "metadata": {},
   "outputs": [
    {
     "data": {
      "text/plain": [
       "0.83548"
      ]
     },
     "execution_count": 1,
     "metadata": {},
     "output_type": "execute_result"
    }
   ],
   "source": [
    "1-0.08226-0.08226"
   ]
  },
  {
   "cell_type": "code",
   "execution_count": null,
   "id": "6a8c6b0d",
   "metadata": {},
   "outputs": [],
   "source": []
  }
 ],
 "metadata": {
  "kernelspec": {
   "display_name": "Python 3 (ipykernel)",
   "language": "python",
   "name": "python3"
  },
  "language_info": {
   "codemirror_mode": {
    "name": "ipython",
    "version": 3
   },
   "file_extension": ".py",
   "mimetype": "text/x-python",
   "name": "python",
   "nbconvert_exporter": "python",
   "pygments_lexer": "ipython3",
   "version": "3.9.7"
  }
 },
 "nbformat": 4,
 "nbformat_minor": 5
}
