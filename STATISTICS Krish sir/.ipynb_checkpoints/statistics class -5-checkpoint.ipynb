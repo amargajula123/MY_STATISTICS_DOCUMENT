{
 "cells": [
  {
   "cell_type": "code",
   "execution_count": 6,
   "id": "0c7b635a",
   "metadata": {},
   "outputs": [
    {
     "ename": "IndentationError",
     "evalue": "unindent does not match any outer indentation level (<tokenize>, line 10)",
     "output_type": "error",
     "traceback": [
      "\u001b[1;36m  File \u001b[1;32m\"<tokenize>\"\u001b[1;36m, line \u001b[1;32m10\u001b[0m\n\u001b[1;33m    in anova 2 things are IMP\u001b[0m\n\u001b[1;37m    ^\u001b[0m\n\u001b[1;31mIndentationError\u001b[0m\u001b[1;31m:\u001b[0m unindent does not match any outer indentation level\n"
     ]
    }
   ],
   "source": [
    "1. Anova test or (F-test)\n",
    "2. EDA -->{solve some examples}\n",
    "\n",
    "Note iq :=\n",
    "    when i use \"F_test\" and \"T_test\" or \"Z_test\" ?\n",
    "    \n",
    "why do use anova test ?\n",
    "        \n",
    "        per suppose i have 5 cricket  players be i wanted \n",
    "        to no the mean of two or more groups here basically\n",
    "        happening \n",
    "\n",
    "       ex := whether \"a\" and \"b\" will performing well some ex project\n",
    "        so which test you going to choose \n",
    "        \n",
    "        ANS : only 2 groups are there so we use T_test \n",
    "            or Z_test \n",
    "\n",
    "1 .what Anova T-test :=\n",
    "        this is inferetial statistics. anova basically\n",
    "        means Analysis of variance .\n",
    "        \n",
    "        Anova is a statistical method used to compare \n",
    "        the means of 2 or more groups      \n",
    "    \n",
    "    in anova 2 things are IMP \n",
    "    \n",
    "        1. Factors    2. Levels\n",
    "        (variables)\n",
    "        \n",
    "\n",
    "        \n",
    "Ex := we have medicine this madicine has different\n",
    "      different doses like  \n",
    "      dosage           dosage           dosage\n",
    "       0mg             50mg             100mg\n",
    "        9                7                4 \n",
    "        8                6                3\n",
    "        7                6                2\n",
    "        8                7                3\n",
    "        8                8                7\n",
    "        \n",
    "Factores := here factor  is nothing but it can be dosage.\n",
    "           factorescalles as variables factore also called\n",
    "           as  \"variables\"\n",
    "    \n",
    "Lelevs :=leves are 0mg 50mg 100mg level basically means\n",
    "         sub \"cotegiries\"\n",
    "         \n",
    "    one more example Gender :=   Gender   \n",
    "                                    |\n",
    "                             |-----------------| \n",
    "                          female              male\n",
    "                    \n",
    "    NOte := male & female are levels \"Gender\" can be a \n",
    "            Factore\n",
    "            \n",
    "                 \n",
    "Different types of \"Anova\"  \n",
    "1. One way Anova\n",
    "2. Repeated measure Anova\n",
    "3. Factorial  Anova\n",
    "\n",
    "   1. One way Anova :=\n",
    "        it bassically says one factor with atleast 2 level\n",
    "        leves are independent.\n",
    "        \n",
    "          EX: upper madicine have dosage have different\n",
    "              levels like 0mg 50mg 150mg \n",
    "        \n",
    "   2. Repeated measure Anova :=\n",
    "         you have only 1 factore with atleast 2 levels but\n",
    "         levels are dependent\n",
    "            \n",
    "            Ex := running km in day1  day2 day3  day4\n",
    "                                 6     4    2      8\n",
    "                factor\n",
    "                level\n",
    "                \n",
    "   3. Factorial  Anova :=\n",
    "           two are more factores each of wich with\n",
    "        atleast levels. levels can be either independet \n",
    "        are dependent or both\n",
    "        \n",
    "        Ex factore like\n",
    "        ----------------------------------------\n",
    "        |        |  day1   |    day2  |  day3  |\n",
    "        |        |    9    |     7    |   5    |\n",
    "        |  men   |    8    |     6    |   3    | \n",
    "        |--------|---------|----------|--------|  \n",
    "        | women  |    8    |    7     |   4    |\n",
    "        |        |    9    |    8     |   6    |\n",
    "        |        |         |          |        |\n",
    "        ----------------------------------------\n",
    "        \n",
    "One way Anove (F-test) --> Inferential Stats\n",
    "                             |\n",
    "                             |--->comparing means of 2 or\n",
    "                                  more groups\n",
    "{IQ}\n",
    "    Researchers want to test a new anxity medication. they \n",
    "    split participants into 3 conditions (0mg,50mg.100mg)\n",
    "    then ask them to rate their anxity level on scale of\n",
    "    1-10. are there any defferences B/w the 3 condition  \n",
    "    using α = 0.05\n",
    "    \n",
    "       0mg        50mg      100mg\n",
    "         9          7         4\n",
    "         8          6         3\n",
    "         7          6         2\n",
    "         8          7         3\n",
    "         8          8         4\n",
    "         9          7         3\n",
    "         8          6         2\n",
    "Step :1\n",
    "    \n",
    "Null hypothesis    : H0 = µ0mg = µ50mg = µ10mg\n",
    "Alternat hypothesi : H1 = not all \"µ\" means are equal\n",
    "                    \" 2 tail test \"\n",
    "    \n",
    "step :3\n",
    "    Sate the Alpha α and confidence interwell C.I = 95%\n",
    "    \n",
    "    α = 0.05   and C.I = 95%\n",
    "    \n",
    "step :4\n",
    "    in F_test also we calculate degree of freedom\n",
    "    but here we calculate 3 type of degree of freedoms\n",
    "    \n",
    "    \"Population_{N}\"                       \"sample_{n}\"\n",
    "here if i combine all the               here if i combine\n",
    "data points that will my                each cotegeri has 7\n",
    "population size--> N=21                  --->  n=7\n",
    "            \n",
    "            how many no.level= a\n",
    "                  a = 3\n",
    "            \n",
    "                                \n",
    "    df Between = a - 1 = 3 - 1 = 2\n",
    "\n",
    "    df within  = N - a = 21 - 3 = 18\n",
    "    \n",
    "    df total   = N - 1 = 21 - 1 = 20\n",
    "    \n",
    "    what do we have to do with degree of freedom ?\n",
    "    \n",
    "step : 4\n",
    "    State dcision rule \n",
    "    \n",
    "    df Between = a - 1 = 3 - 1 = 2   here we getting range\n",
    "                                      of (2,18)   \n",
    "    df within  = N - a = 21 - 3 = 18   3.5546\n",
    "    \n",
    "    (2,18) after knowing the range see F-table the value will\n",
    "    be 3.5546\n",
    "    \n",
    "      ----|-------------------------|----\n",
    "        -3.5546                   3.5546\n",
    "        \n",
    "    If F test is greater then 3.5546 reject the null\n",
    "    hypothesis\n",
    "    if F test less then -3.5546 reject the Null \n",
    "    hypethesis.\n",
    "    \n",
    "Calculae the F-test Statistics :=\n",
    "-------------------------------------------------------------   \n",
    "       |Someofsqre | degrreofreedom |  meansqre |   F-value\n",
    "-------|-----------|----------------|-----------|---------------     \n",
    "Between|  98.666   |      2         |   49.34   |    86.561  \n",
    "       |           |                |           |\n",
    "       |-----------|----------------|-----------|---------------\n",
    "       |           |                |           |\n",
    "Within |  10.29    |      18        |   0.57    | \n",
    "       |           |                |           | \n",
    "       |-----------|----------------|-----------|---------------\n",
    "       |\n",
    "Total  | 108.96            20           \n",
    "-------------------------------------------------------------\n",
    "                         Someofsqre      98.666 \n",
    "meanquare will find = ---------------- = ------- = 49.34\n",
    "                       degrreofreedom       2 \n",
    "    \n",
    "    \n",
    " 1.first formula := Some_of square_bitween\n",
    "-------------------------------------------\n",
    "\n",
    "              ∑ (∑ai)²     T²\n",
    "Ss between = --------- -  --- \n",
    "                 n         N  \n",
    "    about formula :=\n",
    "        ai --> ai is nothing but bassically says that\n",
    "               each and everu value that you see in data\n",
    "               set 3 levels do that sametion \n",
    "        \n",
    "\n",
    "(∑ai)²  = (9+8+7+8+8+9+8)²+(7+6+6+7+8+7+6)²+(4+3+2+3+4+3+2)²\n",
    "\n",
    "        = 57²+47²+21² \n",
    "        \n",
    "        T² = [57+47+21]² =(125)² = 15,625 \n",
    "        \n",
    "              57²+47²+21²     (125)² \n",
    "Ss between = ------------  -  ------ = 842.714286-744.047619= 98.66666\n",
    "                   7            21\n",
    "    \n",
    " 2.second formula := Some_of square_within\n",
    "--------------------------------------------   \n",
    "                     ∑ (∑ai)²    \n",
    "Ss within = ∑ Y² -  ---------  \n",
    "                        n        \n",
    "   \n",
    " ∑ Y² = 9²+8²+7²+8²+8²+9²+8²+7²+6²+6²+7²+8²+7²+6²+4²+3²+2²+3²+4²+3²+2² = 853\n",
    "      = 853\n",
    "        \n",
    "                     57²+47²+21²     \n",
    "Ss within = 853 -   ------------ = 10.29\n",
    "                         7  \n",
    "    \n",
    "@last final F_test is :=\n",
    "    \n",
    "     \n",
    "                  MsBetween     49.34\n",
    "Finally F-test =  ---------- = -------- = 86.543\n",
    "                  Mswithin       0.57\n",
    "    \n",
    "Final conclusion :=\n",
    "    86.543 > 3.5546 so we reject the Null hypothesis\n",
    "    \n",
    "    If 86.543 test is greater then 3.5546 reject the null\n",
    "    hypothesis    \n",
    "    \n",
    "   Ans : reject the null hypothesis "
   ]
  },
  {
   "cell_type": "code",
   "execution_count": 13,
   "id": "5b6c9d06",
   "metadata": {},
   "outputs": [
    {
     "data": {
      "text/plain": [
       "5899"
      ]
     },
     "execution_count": 13,
     "metadata": {},
     "output_type": "execute_result"
    }
   ],
   "source": [
    "(9+8+7+8+8+9+8)**2+(7+6+6+7+8+7+6)**2+(4+3+2+3+4+3+2)**2"
   ]
  },
  {
   "cell_type": "code",
   "execution_count": 10,
   "id": "a644d036",
   "metadata": {},
   "outputs": [
    {
     "data": {
      "text/plain": [
       "57"
      ]
     },
     "execution_count": 10,
     "metadata": {},
     "output_type": "execute_result"
    }
   ],
   "source": [
    "(9+8+7+8+8+9+8)"
   ]
  },
  {
   "cell_type": "code",
   "execution_count": 11,
   "id": "450dd137",
   "metadata": {},
   "outputs": [
    {
     "data": {
      "text/plain": [
       "47"
      ]
     },
     "execution_count": 11,
     "metadata": {},
     "output_type": "execute_result"
    }
   ],
   "source": [
    "(7+6+6+7+8+7+6)"
   ]
  },
  {
   "cell_type": "code",
   "execution_count": 12,
   "id": "9096ab63",
   "metadata": {},
   "outputs": [
    {
     "data": {
      "text/plain": [
       "21"
      ]
     },
     "execution_count": 12,
     "metadata": {},
     "output_type": "execute_result"
    }
   ],
   "source": [
    "(4+3+2+3+4+3+2)"
   ]
  },
  {
   "cell_type": "code",
   "execution_count": 15,
   "id": "fb8b160f",
   "metadata": {},
   "outputs": [
    {
     "data": {
      "text/plain": [
       "125"
      ]
     },
     "execution_count": 15,
     "metadata": {},
     "output_type": "execute_result"
    }
   ],
   "source": [
    "(57+47+21)"
   ]
  },
  {
   "cell_type": "code",
   "execution_count": 16,
   "id": "1726dfea",
   "metadata": {},
   "outputs": [
    {
     "data": {
      "text/plain": [
       "15625"
      ]
     },
     "execution_count": 16,
     "metadata": {},
     "output_type": "execute_result"
    }
   ],
   "source": [
    "125**2"
   ]
  },
  {
   "cell_type": "code",
   "execution_count": 25,
   "id": "4f4c294c",
   "metadata": {},
   "outputs": [],
   "source": [
    "A=15625/21"
   ]
  },
  {
   "cell_type": "code",
   "execution_count": 20,
   "id": "59fcfe72",
   "metadata": {},
   "outputs": [
    {
     "data": {
      "text/plain": [
       "5899"
      ]
     },
     "execution_count": 20,
     "metadata": {},
     "output_type": "execute_result"
    }
   ],
   "source": [
    "57**2+47**2+21**2"
   ]
  },
  {
   "cell_type": "code",
   "execution_count": 26,
   "id": "b2c36045",
   "metadata": {},
   "outputs": [],
   "source": [
    "B=5899/7"
   ]
  },
  {
   "cell_type": "code",
   "execution_count": 27,
   "id": "720a89b8",
   "metadata": {},
   "outputs": [
    {
     "data": {
      "text/plain": [
       "-98.66666666666663"
      ]
     },
     "execution_count": 27,
     "metadata": {},
     "output_type": "execute_result"
    }
   ],
   "source": [
    "A-B"
   ]
  },
  {
   "cell_type": "code",
   "execution_count": 28,
   "id": "8fe687d5",
   "metadata": {},
   "outputs": [
    {
     "data": {
      "text/plain": [
       "5899"
      ]
     },
     "execution_count": 28,
     "metadata": {},
     "output_type": "execute_result"
    }
   ],
   "source": [
    "57**2+47**2+21**2"
   ]
  },
  {
   "cell_type": "code",
   "execution_count": 29,
   "id": "d3d6c37a",
   "metadata": {},
   "outputs": [
    {
     "data": {
      "text/plain": [
       "842.7142857142857"
      ]
     },
     "execution_count": 29,
     "metadata": {},
     "output_type": "execute_result"
    }
   ],
   "source": [
    "5899/7"
   ]
  },
  {
   "cell_type": "code",
   "execution_count": 30,
   "id": "52528784",
   "metadata": {},
   "outputs": [
    {
     "data": {
      "text/plain": [
       "10.285714285714334"
      ]
     },
     "execution_count": 30,
     "metadata": {},
     "output_type": "execute_result"
    }
   ],
   "source": [
    "853-842.7142857142857"
   ]
  },
  {
   "cell_type": "code",
   "execution_count": 31,
   "id": "dc545c37",
   "metadata": {},
   "outputs": [
    {
     "data": {
      "text/plain": [
       "49.335"
      ]
     },
     "execution_count": 31,
     "metadata": {},
     "output_type": "execute_result"
    }
   ],
   "source": [
    "98.67/2"
   ]
  },
  {
   "cell_type": "code",
   "execution_count": 32,
   "id": "4bbd7447",
   "metadata": {},
   "outputs": [
    {
     "data": {
      "text/plain": [
       "5.4479999999999995"
      ]
     },
     "execution_count": 32,
     "metadata": {},
     "output_type": "execute_result"
    }
   ],
   "source": [
    "108.96/20"
   ]
  },
  {
   "cell_type": "code",
   "execution_count": 33,
   "id": "abfd06d5",
   "metadata": {},
   "outputs": [
    {
     "data": {
      "text/plain": [
       "86.56140350877195"
      ]
     },
     "execution_count": 33,
     "metadata": {},
     "output_type": "execute_result"
    }
   ],
   "source": [
    "49.34/0.57"
   ]
  },
  {
   "cell_type": "code",
   "execution_count": null,
   "id": "8b30ce41",
   "metadata": {},
   "outputs": [],
   "source": []
  }
 ],
 "metadata": {
  "kernelspec": {
   "display_name": "Python 3 (ipykernel)",
   "language": "python",
   "name": "python3"
  },
  "language_info": {
   "codemirror_mode": {
    "name": "ipython",
    "version": 3
   },
   "file_extension": ".py",
   "mimetype": "text/x-python",
   "name": "python",
   "nbconvert_exporter": "python",
   "pygments_lexer": "ipython3",
   "version": "3.9.7"
  }
 },
 "nbformat": 4,
 "nbformat_minor": 5
}
