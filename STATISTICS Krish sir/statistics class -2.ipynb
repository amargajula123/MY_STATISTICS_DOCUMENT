{
 "cells": [
  {
   "cell_type": "code",
   "execution_count": null,
   "id": "fe881abe",
   "metadata": {},
   "outputs": [],
   "source": [
    "why Z-score need ?\n",
    "   with the help of Z-score we will be understand how many SD any\n",
    "    particuler number folls away or bellow from the mean \n",
    "    \n",
    "    NOTE : Right \"Z-table\" will give you/show value from \n",
    "        \"mean\" to the 'SD' that your looking for that area\n",
    "        it will give \n",
    "        \n",
    "           Left \"Z-table\" will give you/show value from \n",
    "        body end to till 'SD' that you are looking for or\n",
    "        curv from left(0.5)+ to 'SD' that you are looking for\n",
    "        it will give\n",
    "    \n",
    "                           xi - µ\n",
    "                Z-score = --------\n",
    "                              σ\n",
    "            \n",
    "            z table link :=  https://www.ztable.net/\n",
    "                \n",
    " {IQ} : Stats interview question       \n",
    "    \n",
    "    \n",
    "    \n",
    "    \n",
    "    \n",
    "                     0.25 away from\n",
    "                     the mean z \n",
    "                     tlb value is\n",
    "                     |0.25|                 here µ = 4\n",
    "    --|----|----|----|----.---|----|---|         σ = 1 \n",
    "      1    2    3    4          5    6   7\n",
    "        \n",
    "     in this Dstribution where does 4.25 fall ?\n",
    "    \n",
    "    how many Standard Deviation 4.25 fall fram the mean ?\n",
    "\n",
    "               xi - µ     4.25-4 \n",
    "    Z-score = -------- = -------- = 0.25\n",
    "                 σ           1\n",
    "        \n",
    "        Z-score = 0.25\n",
    "        \n",
    "        \n",
    "        \n",
    "        \n",
    "        \n",
    "        \n",
    "                       ●   \n",
    "    --|----|----|----|-●---|----|----|--        \n",
    "      1    2    3    4     5    6    7\n",
    "        \n",
    "{IQ} := what persentage of scores fall above 4.25 ?\n",
    "    \n",
    "    {1,2,3,4,5,6,7} number we have\n",
    "    \n",
    "               xi - µ     4.25-4 \n",
    "    Z-score = -------- = -------- = 0.25\n",
    "                 σ           1    \n",
    "        \n",
    "        tolal curve = 1 like 0.5 left side \n",
    "                             0.5 right side\n",
    "                      total=------\n",
    "                               1\n",
    "                    \n",
    "                 if \"z score\" value is \"possitive\"\n",
    "                 then u move to use  \"v+\"\n",
    "                 Z-score table  if value is \n",
    "                 \"nagative\" use \"-ve\" Table\n",
    "                    \n",
    "                 so here value is possive so \n",
    "                \n",
    "  z -table link : https://www.statisticshowto.com/tables/z-table/              \n",
    "                \n",
    "                left side value =0.5\n",
    "                Z-score         =0.25 after seing z table \n",
    "                                      value is 0.5987\n",
    "                    \n",
    "                 Z-score=0.25 after seing z table mean to 1SD \n",
    "                                      value is 0.0987  \n",
    "                    \n",
    "                    z table value =  0.0987\n",
    "                    \n",
    "                    here 0.5 + 0.0987 = 0.5987\n",
    "                    \n",
    "                \"total curv\" - 0.5987 => 1 - 0.5987 = 0.4013 = 40.13%\n",
    "                      \n",
    "                    \n",
    "      <----0.5987----->              \n",
    "                       ●   \n",
    "    --|----|----|----|-●---|----|---|        \n",
    "      1    2    3    4    5    6    7                    \n",
    "                    \n",
    "          fall above 4.25 = 1 - 0.5987 = 0.4013 = 40.13%\n",
    "                \n",
    "  {IQ} :=\n",
    "    in indian avarage iq is 100 with a standard\n",
    "    diviation of 15 what is the persentage of the\n",
    "    population would you expect to have an IQ lower \n",
    "    then 85 \n",
    "    \n",
    "    \n",
    "    \n",
    "                    |0.15866\n",
    "                    |z-tbl |\n",
    "                    |value |\n",
    "    --|------|------|------|-----|------|------|----\n",
    "      55     70     85    100    115   130     145 \n",
    "                    <---------0.65866---------->\n",
    "        \n",
    "        \n",
    "                   85-100      -15\n",
    "        Z-scrore =--------  =  ----- = -1 check -1 in Z-table\n",
    "                     15         15   \n",
    "                the z table -1 value = 0.15866\n",
    "                \n",
    "    if i need \"tail\" aria so subtract--> \n",
    "              \n",
    "        1 - 0.15866 =  0.84134\n",
    "    \n",
    "                               0.5 - 0.84134 = -0.34134= 34.13%\n",
    "                     ------>   0.5 - 0.15866 = 0.34134 = 34.13%\n",
    "                               0.5 + 0.15866 = 0.65866 = 34.13%\n",
    "            \n",
    "    do this same problem greater then 100 lesser then 125\n",
    "    \n",
    "                   125-100      25\n",
    "        Z-scrore =--------  =  ----- = 1.6666 check 1.66 in Z-table\n",
    "                     15         15 \n",
    "            \n",
    "            \n",
    "            \n",
    "            \n",
    "      |<-------0.9515-------------->|      \n",
    "      |                    0.4515,  |\n",
    "                           1.666away| \n",
    "                           |from the|  \n",
    "                           | mean   |\n",
    "    --|------|------|------|-----|--●----|------|----\n",
    "      55     70     85    100    115    130     145             \n",
    "                           <-0.4515--><---4.8%-->\n",
    "            \n",
    "            \n",
    "                                     \n",
    "                           0.5 - 0.4515 = 0.048499 = 4.8%\n",
    "                  the z table 1.66 value = 0.9515\n",
    "                  the z table 1.66 value = 0.4515 --> only the mean area\n",
    "                     \n",
    "                            'of curv' + 'z table value'\n",
    "                                  0.5 + 0.4515 = 0.9515\n",
    "                                  1 - 0.9515 = 0.0485 = 4.8%\n",
    "                            \n",
    "                                0.5 - 0.9515 = 0.4515 => \n",
    "                                \n",
    "                                \n",
    "                    \n",
    "                                0.5 - 0.4515 = 0.0485 = 4.8%\n",
    "                        \n",
    "########################################################################################                        \n",
    "\n",
    "P_value :=\n",
    "    P_value bassically says most of the times what is the \n",
    "    \"probability\" with respect to p_value for that experiment\n",
    "    \n",
    "    \n",
    "    \n",
    "        \n",
    "        \n",
    "  Ex : Space bar key\n",
    "        P = 0.8 = 80% this can deter mine the \"probabulity\"\n",
    "        out of all 100 touches the no.of touches is 80 on specfic\n",
    "        spece bar ker\n",
    "        \n",
    "        {g}\n",
    "               \n",
    "        \n",
    "        P = 0.4 = 40% this can deter mine the \"probabulity\"\n",
    "        out of all 100 touches the no.of this 40 times\n",
    "        \n",
    "       so this  \"P value\" imp with respect to defferent type of\n",
    "    \"expiriments\" this can be actually determine the \"probability\" \n",
    "        \n",
    "        \n",
    "   So that you have to combine\n",
    "      1 . Hypothesis_testing\n",
    "      2 . Confidence Interwell  \n",
    "      3 . Significance Value\n",
    "      4 . P_value\n",
    "        \n",
    "    \n",
    "NOTE := \n",
    "        always remember we will be running \"Hypothesis_testing\"\n",
    "        \"Confidence_Interwell\" \"Significance_Value\" \"P_value\"\n",
    "        together\n",
    "        \n",
    "  ***Hypothesis_testing***  \n",
    "\n",
    "  @Ex : coin TEST : test whether the coin is a fair coin or not,\n",
    "             by performimng 100 tosses ?\n",
    "            \n",
    "            probabulity(head) = 0.5\n",
    "            probabulity(Tail) = 0.5\n",
    "            \n",
    "        when do you think a coin is the faire coin\n",
    "        Ans :=\n",
    "             when the probabulity of \"head\" = 0.5\n",
    "             when the probabulity of \"Tail\" = 0.5  \n",
    "            P(H) = 0.5 P(T) = 0.5 if you have this condition/scenario\n",
    "            the coin is fair coin\n",
    "  \n",
    "how do i test whether a coin is fair or not ?\n",
    "\n",
    " Note :=always remember when ever we do \"Hypothesis_testing\"\n",
    "        we do have type 1 and type 2 Error\n",
    "        we do have  \"Null_Hypothesis\"(H0) & \"Alternate_Hypothesis\"(H1)   \n",
    "            \n",
    "     Hypothesis_testing_steps :=\n",
    "    \n",
    "        1. Null hypothesis(H0) ---> says 'coin is fair' \n",
    "        it denote this as ('H0') \n",
    "        \n",
    "        Ex : a criminal he made some crime he goes to\n",
    "            the cort by defult the cort will say that\n",
    "            his not guilty untill proved\n",
    "            \n",
    "        2.Alternet Hypothesis(H1) ---> we bassically say \n",
    "          'coin is not fair'it shoul be the opposite of Null hypothesis(H0)\n",
    "           it is denoted as ('H1')\n",
    "        \n",
    "        3.we have to define some 'significants values' before \n",
    "          this we will be perform some 'Experiments'. with \n",
    "          this Experiments to prove where the 'coin is fair' or \n",
    "          'coin is not faire'\n",
    "              there are 'expiriments' like \"Z_TEST\" , \"T_TEST\"\n",
    "            \n",
    "            \n",
    "         4.Based on the experiment \"Reject\" or \"Accept\" the\n",
    "           'Null hypothesis'.\n",
    "            \n",
    "    Now question is \n",
    "        coin is fair or not by tosing 100 tosses\n",
    "            \n",
    "         after 100 tosess i find 50 time tail }   \n",
    "                                  &           }---> coin is fair\n",
    "                          i find 50 time head }\n",
    "                        \n",
    "                          i find 60 time tail }   \n",
    "                                  &           }---> coin is fair 60 & 40 very close\n",
    "                          i find 40 time head }\n",
    "                        \n",
    "                          i find 30 time tail }   \n",
    "                                  &           }---> coin is fair or not\n",
    "                          i find 70 time head }\n",
    "                        \n",
    "                        so here we have to use\n",
    "                        \n",
    "                         1,Confidence Interwell CI , \n",
    "                         2,Significance Value\n"
   ]
  },
  {
   "cell_type": "markdown",
   "id": "fbc18138",
   "metadata": {},
   "source": [
    "# Finding Confidence Interwell"
   ]
  },
  {
   "cell_type": "code",
   "execution_count": null,
   "id": "f213a971",
   "metadata": {},
   "outputs": [],
   "source": [
    "            1,Confidence Interwell , \n",
    "            2,Significance Value\n",
    "NOTE:=\n",
    "    Based on 'Significance Value' we derive 'Confidence Interwell'\n",
    "        \n",
    "        \n",
    "IMP : \n",
    "    Point Estimate :-\n",
    "        the value of any \"Statistics\" that estimates the value \n",
    "        of a \"Parameter\" is called 'Point Estimate'.\n",
    "            \n",
    "  so how do we specify => Sample_mean(x̄)          \n",
    "     how do we specify => Population_mean(µ)\n",
    "      \n",
    "        Ex : Sample_mean(x̄) ----> Population_mean(µ)\n",
    "     \n",
    "(x̄) -->(µ) means this \"Sample_mean(x̄)\" is a point estimate of this \"Population_mean(µ)\"\n",
    "        \n",
    "lets say Population_mean(µ) = 3\n",
    "             Sample_mean(x̄) = 3.5 it can be 2.5,2.9,2.1 b-coz its \"sample\"\n",
    "    \n",
    "so this \"Sample_mean (x̄)\" it can be \"less then\" or approximatly equal or \n",
    "\"greter then\" \"population meant (µ)\" we will use this \"Sample_mean(x̄)\"  to find out\n",
    "the  \"population meant (µ)\"\n",
    "        \n",
    "note :=\n",
    "    whenever we talk about \"point estimate\" we basically\n",
    "    talking about 'Sample_mean (x̄)'\n",
    "    \n",
    "     \n",
    "        Point Estimate ± Margin of Error\n",
    "\n",
    "  to find out the \"CI\" based on \"Point Estimat\" so our formula\n",
    "\n",
    "    C.I formula :=\n",
    "             Point Estimate ± Margin of Error \n",
    "            # margin of eorror for it can be greter lesoe equal   \n",
    "\n",
    "\n",
    "          [:. Point Estiamte  = x̄   ]\n",
    "          [:. Margin of Error = Zα/2] -->sample data it can be any thing\n",
    "               \n",
    "                           σ  \n",
    "         C.I := x̄ ± Zα/2 ----  \n",
    "                          √n \n",
    "            \n",
    "if we combine thi ([Point Estimate ± Margin of Error]=\"population\")\n",
    "it will give some estimate 'population'\n",
    "\n",
    "\n",
    "        ******************************            \n",
    "        1,Confidence Interwell :=\n",
    "******************************\n",
    "  'Confidence Interwell' bassically says that i will be specify some\n",
    "range, B/w this range if the value falls with in this then i am going\n",
    "to concider that as fair cain  or this accepted\n",
    "    \n",
    "    who desides this \"confidense interwall\" ?\n",
    "    \n",
    "       \"Confidence Interwell\" is defined by 'Domine Experties'  \n",
    "    for different Problem statements\n",
    "    Ex:\n",
    "        for health care \n",
    "        covide vacsine test\n",
    "        \n",
    "        here your error should be very less \n",
    "        \n",
    "    \n",
    "    \n",
    "can we derive \"Significance Value\" from \"Connfidence interwell\" ?\n",
    "     ans  =  yes\n",
    "        \n",
    "           lets say \"Significance Value\"(α) = 0.05\n",
    "            \n",
    "            0.05/2 = 0.025\n",
    "            \n",
    "            \n",
    "            \n",
    "            \n",
    "                   the values with in this range          here reject the\n",
    "                    i Accept the 'Null hypothesys'       'null HYpothesys'\n",
    "                      95%  'Confidence Interwell'         here coin is not fair \n",
    "regioun= 0.025|        here coin is fair             |regioun= 0.025\n",
    "              --|----|-----|-----|-----|-----|-----|--\n",
    "                20   30    40    50    60    70    80\n",
    "        \n",
    "         \"Confidence Interwell\" (CI) = 1 - (0.025+0.025)\n",
    "                                     = 0.95 = 95%\n",
    "                                         or\n",
    "                                (CI) =  1- 0.05 = 95%\n",
    "                \n",
    "why Significance value concider both regoins ?\n",
    "Ans:=\n",
    "    \n",
    "with the help of 'significancce value' i heve to set up 2 regiuns\n",
    "becoz per soppose if iam tossing a coine i may be get 90 times\n",
    "head and it may be get 10 times tail or i may be get 90 tail\n",
    "head and it may be get 10 head tail so that i have to set up margin\n",
    "using this 'significance value'\n",
    "                \n",
    "                \n",
    "           just say \"Significance Value\"(α) = 0.45 \n",
    "        \n",
    "                  the values with in this range         here reject the\n",
    "                  i Accept the 'Null hypothesys'        null HYpothesys\n",
    "                        55%   'CI'                     here coin is not fair \n",
    "regioun= 0.225|          here coin is fair           |regioun= 0.225 \n",
    "              --|----|-----|-----|-----|-----|-----|--\n",
    "                20   30    40    50    60    70    80\n",
    "        \n",
    "             \"Confidence Interwell\"(CI) =  1-(0.225+0.225)\n",
    "                                        =  0.55 = 55%\n",
    "                \n",
    "                \n",
    "    now what exactly the diff 'p_value' and 'Significance Value' ?\n",
    "    \n",
    "    so can we derive \"P_value\" from the \"Significance Value\"(α) ?\n",
    "    and :=\n",
    "        yes\n",
    "                \n",
    "{IQ} :=\n",
    "       there is a Bank A for this bank A they have an ATM in Location A\n",
    "       Location B 10 km for form Location A   \n",
    "        \n",
    "        Task of data analist as that Based on the data\n",
    "        whether in Location B ATM should be open or not\n",
    "        \n",
    "        \n",
    "        \n",
    "here reject the     the values with in this range         here reject the\n",
    "null HYpothesys     i Accept the Null hypothesys          null HYpothesys\n",
    "                                                      \n",
    "                |          here coin is fair           |regioun= 0.025\n",
    "                --|----|-----|-----|-----|-----|-----|--\n",
    "                 20   30    40    50    60    70    80        \n",
    "         \n",
    "             0.5 + 0.5 = 1\n",
    "            0.25+0.25-1=0.5=50%\n",
    "\n",
    "        \n",
    "            \n",
    "{IQ} on the quantitave exam test of cat exam ,the standard deviation\n",
    "     is known to be 100.A sample of 25 test takers has mean of\n",
    "    520 score.constract a 95% C.I about the mean ? \n",
    "    \n",
    "    Ans :\n",
    "                Population SD  σ = 100\n",
    "                               n = 25\n",
    "                               x̄ = 520\n",
    "                             C.I = 95%      \n",
    "\"Significance Value\"(α) = 1-C.I  = 1-0.95 = 0.05 \n",
    "\n",
    "                       0.05/2 = 0.025 diving SV(α) into two regiouns.\n",
    "    \n",
    "\n",
    "          [:. Point Estiamte  = x̄   ]\n",
    "          [:. Margin of Error = Zα/2] -->sample data it can be any thing\n",
    "           \n",
    "        \n",
    "        [Point Estiamte ± Margin of Error]\n",
    "                           σ  \n",
    "         C.I := x̄ ± Zα/2 ----    [σ/√n]  --> standard error \n",
    "                          √n \n",
    "\n",
    "          Significance value (α) = 1- CI = 1-0.95 =0.05 \n",
    "        \n",
    "             Zα/2 =  Z(0.05)/2  = Z(0.025)\n",
    "\n",
    " \n",
    "\n",
    "\n",
    "    0.025|             95% fall here           |0.025\n",
    "       ------|------|------|------|------|-------\n",
    "                          520 \n",
    "            remember this points here\n",
    "            \n",
    "            \n",
    "    1 .Population SD is given  so we bassically use 'Z- Table'\n",
    "       or 'Z- score' \n",
    "                \n",
    "    2. when we use this Z score table and this fomula ?\n",
    "       ANS:-\n",
    "            the sample size will be greater then n>30 u can use this\n",
    "            formula\n",
    "    \n",
    "@Confidence_interwell_formula  \n",
    "\n",
    "            Point Estimate ± Margin of Error\n",
    "            \n",
    "Formula_of_to_find_out_Confidence_interwell := \n",
    "        \n",
    "        if your Population SD is given and when\n",
    "        your Sample size is greater then n>30\n",
    "          \n",
    "                   Point Estimate ± Margin of Error\n",
    "                \n",
    "                [:. Point Estiamte = x̄]\n",
    "                [:.Margin of Error = Zα/2]\n",
    "                \n",
    "                           σ  \n",
    "             := x̄ ± Zα/2 ----  \n",
    "                          √n \n",
    "                     σ \n",
    "         ---->     ----    this turm/formula will define our \n",
    "                    √n    'Standard Error'\n",
    "            \n",
    "                              σ \n",
    "\"Lower Fence\" C.I = x̄ - Zα/2 ---- \n",
    "                              √n\n",
    "    \n",
    "                               σ \n",
    "\"higher Fence\" C.I = x̄ + Zα/2 ----\n",
    "                              √n\n",
    "    \n",
    "                                                     0.025\n",
    "Lower Fence |             95% fall here            |Upper fence\n",
    "           ------|------|------|------|------|-------\n",
    "                              520 \n",
    "    \n",
    "                            σ \n",
    "Lower Fence C.I = x̄ - Zα/2 ---- = Z(0.05)/2 =Z( 0.025)\n",
    "                            √n\n",
    "    \n",
    "\n",
    "                    =  1 - 0.025 = 0.9750\n",
    "                    see the 0.9750 in Left 'z table' we choosing left all side \n",
    "                    see like this way  1.9 and 0.06 \n",
    "                    1.9 + 0.06 = 1.96\n",
    "                \n",
    "                \n",
    "            0.025                        0.025\n",
    "                --|---------------------|--\n",
    "                -1.96                  1.96                 \n",
    "                \n",
    "                                          100\n",
    "        Lwower Fence C.I  = 520 - (1.96)* ---   = 480.8    \n",
    "                                          √25\n",
    "            \n",
    " \n",
    "\n",
    "            \n",
    "                                  100\n",
    "        higher Fence C.I  = 520 + --- * (1.96)  = 559.2   \n",
    "                                  √25   \n",
    "            \n",
    "            \n",
    "                    accept null hypothesis\n",
    "                               95%                 here  reject null hypothesys\n",
    "            ---|----------------|----------------|---\n",
    "              480.8            520              559.2 \n",
    "                \n",
    "    \n",
    "                \n",
    "        we find out the \"confidence interwell\" mean of 520 for this 95%\n",
    "        \"confidence interwell\" my value ranges B/W 480.8 to 559.2 any \n",
    "        experiment that i do if it falls with inthis range i concider or\n",
    "        accept the 'Null hypothesis'\n",
    "        \n",
    "                if SD = 80\n",
    "                Lwower Fence C.I = 488.64\n",
    "                higher Fence C.I = 551.36\n",
    "                \n",
    "                so here B/W this 488.64 to 551.36 i concider/accept\n",
    "                'Null hypothesis' remain not\n",
    "                \n",
    "                if less then 488.63 or greter then 551.36 i reject the \n",
    "                null hypothesis\n",
    "                \n",
    "                \n",
    "                \n",
    "   \n",
    "when population \"Standard diviation\" not given then\n",
    "we do \"T_test\" ?\n",
    "\n",
    "{IQ}  \" T_test problem\"\n",
    "     on the quantitave test CAT exam a sample of 25 test takers has\n",
    "    a mean of 520 with a sample satandard deviation of  80 . \n",
    "    constract 95% C.I about the mean ? \n",
    "\n",
    "ANS :=remember whenever the \"population standard\" diviation\n",
    "      is \"not given\" you move to use \"T-test table\"\n",
    "    \n",
    "  sample standerd diviation S  = 80\n",
    "                             x̄ = 520\n",
    "                           C.I = 95%    \n",
    "                             n = 25\n",
    "Significance Value(α) = 1-0.95 = 0.05 \n",
    "\n",
    "here Population SD is not given so we use \"T-test\"\n",
    "\n",
    "         Point Estimate ± Margin of Error\n",
    "                                         \n",
    "                        S \n",
    "       C.I  = x̄ ± Tα/2 ----  --> this will be my standerd error\n",
    "                        √n \n",
    "                \n",
    "             during this \"t-test\" you need to know\n",
    "            \n",
    "             1. \"Degree of freedom\" = n-1 = 25-1 = 24\n",
    "                \n",
    "what is degree of freedom ?\n",
    "        \"degree of freeedom\" is a concept where it says that\n",
    "    \"how many possible options\" you have \n",
    "    \n",
    "           EX : there are 3 chairs \n",
    "                \n",
    "                             S \n",
    "Lwower Fence C.I = x̄ - tα/2 ---- = t0.05/2 = t 0.025\n",
    "                             √n  \n",
    "    \n",
    "                   ---->  t(0.05)/2 = t(0.025)  \n",
    "        \n",
    "check this \"degree of freedom\" 24 and \"t\" 0.025 in \"t table\"\n",
    "in that the value is 2.064    \n",
    "    \n",
    "                        80 \n",
    "             C.I = x̄ - ---- *(t 0.025)= \n",
    "                       √25 \n",
    "                \n",
    "                          80 \n",
    "Lwower Fence C.I = 520 - ----*(2.064) = 486.976 \n",
    "                          √25 \n",
    "\n",
    "                          80 \n",
    "higher Fence C.I = 520 + ----*(2.064) = 553.024 \n",
    "                           √25\n",
    "    \n",
    "                    \n",
    "                    \n",
    "        -|-----------------|-------------------|-            \n",
    "     486.976              520                553.024\n",
    "    \n",
    " higher Fence C.I = 520 + 2.064 *(80/√25) = 553.024\n",
    "                    \n",
    "                    \n",
    "    Lwower Fence C.I  = 486.976               \n",
    "    higher Fence C.I  = 553.024\n",
    "    \n",
    "    if value lessthen < 486.976 and values grater then < 553.024 this\n",
    "    we reject the \"Null hypothesis\"\n",
    "    \n",
    "    "
   ]
  },
  {
   "cell_type": "code",
   "execution_count": 192,
   "id": "02e868c0",
   "metadata": {},
   "outputs": [
    {
     "data": {
      "text/plain": [
       "1.0"
      ]
     },
     "execution_count": 192,
     "metadata": {},
     "output_type": "execute_result"
    }
   ],
   "source": [
    "0.2+0.8"
   ]
  },
  {
   "cell_type": "markdown",
   "id": "cdcd4b7b",
   "metadata": {},
   "source": [
    "# Type 1 and Type 2 Error"
   ]
  },
  {
   "cell_type": "code",
   "execution_count": null,
   "id": "d713aeb0",
   "metadata": {},
   "outputs": [],
   "source": [
    "Note :-\n",
    "    always remember when ever we do \"Hypothesis_testing\" we do have \n",
    "    \"type 1 and type 2 Error\" we do have  Null_H ypothesis(H0) &\n",
    "        Ailternate Hypothesis(H1)\n",
    "        \n",
    "Null_Hypothesis('H0') -----------> \"Coin is fair\"(pr(h)=0.5 & pr(t)=0.5)\n",
    "Alternate Hypothesis('H1') ------> \"Coin is not fair\"(pr(h)=0.2 & pr(t)=0.8)\n",
    "        \n",
    "Reality check:-\n",
    "    here 'Null hypothesis' is True or 'Null hypothesis' is False\n",
    "  \n",
    "from experiment we make some decisions {decision is done based on experiment}\n",
    "\n",
    "Decision Rule:\n",
    "    Eithere Null hypothesis is True or Null hypothesis is False\n",
    "    'Null hypothesis' is False we accept the 'Atternate hypothesis'\n",
    "    \n",
    "    understand the outcome with \n",
    "    H0 -- > the criminal is not guilty\n",
    "    H1 -- > the criminal is guilty\n",
    "    \n",
    "    @Uotcome_1:=\n",
    "        we reject the 'Null hypothesis' when in reality\n",
    "        if it is False\n",
    "       \n",
    "    @Outcome_2:=\n",
    "        we reject the 'Null hypothesis' when in reality it is\n",
    "        True ---> this is caled type 1 error\n",
    "        \n",
    "        Ex:=the cort proved a person is innocent but\n",
    "            reality he is not innocent\n",
    "            \n",
    "    @Outcome_3:=\n",
    "        we Accept the 'Null hypothesis' when in reality it is \n",
    "        False, this is called type 2 error\n",
    "        \n",
    "    @Outcome_4:=\n",
    "        we Accept the 'Null hypothesis' when in reality\n",
    "        it is True\n",
    "        \n",
    "           P      N\n",
    "        |------|------|\n",
    "        |      |      | \n",
    "      T | Tp   |  TN  | \n",
    "        |------|------|\n",
    "      F | Fp   |  FN  |---> type 2 error\n",
    "        |      |      |\n",
    "        |------|------|\n",
    "           |\n",
    "           |---> type 1 error "
   ]
  },
  {
   "cell_type": "markdown",
   "id": "13e0101d",
   "metadata": {},
   "source": [
    "#  1 Tail and 2 Tail test"
   ]
  },
  {
   "cell_type": "code",
   "execution_count": null,
   "id": "fcb5a1af",
   "metadata": {},
   "outputs": [],
   "source": [
    "1 Tail and 2 Tail test :=\n",
    "    \n",
    "    \n",
    "Ex :=A collages in karnataka has an 85% plasements rate. A new collage \n",
    "    was recently opened and it was found that a sample of 150 students\n",
    "    had a placement rate of 88% with a standard diviation of 4% does this\n",
    "    collage has a different placement rate ?\n",
    "    with \"Significance value\" = 0.05\n",
    "        \n",
    "    this become a \"2 tail test\" b-coz we checking \"different plcement\" rate it can be less then 85 \n",
    "        it can be greater then 85\n",
    "            \n",
    "we need to                                we need to\n",
    "chekh here                                chekh here\n",
    "    ----------|-------------------------|------\n",
    "    1 tail here                           1 tail here\n",
    "    \n",
    "    \n",
    "        \n",
    "just concider  S.V(α)  = 0.05  \n",
    "total curv -   S.V(α)  => C.I = 1-0.05= 0.95 = 95%\n",
    "Significance Value(α)  = 0.05 = 95% --> C.I = 95%\n",
    "\n",
    "    0.05 this is 2 tail test so 2 region we need to concider\n",
    "    so \"Significance Value\"(α)/2 = 0.025\n",
    "\n",
    "\n",
    "\n",
    " 0.025%  |            95% C.I          |  0.025% this is calle\n",
    "      ---|--------------|--------------|---    \"2 tail test\"\n",
    "                       85% \n",
    "     \n",
    "whever we  say this collage has a \"defferent placement rate\" it\n",
    "can be either \"increse\" either \"decsrise\" so this called as \"2 Taile test\"\n",
    "    \n",
    "here this scenaorio does this collage has diferent placement rate \n",
    "means it can be 'greter then' are it can be 'lesser then'\n",
    "\n",
    "we will be testing for both the possibilities so that its \"2 Tail test\"\n",
    "\n",
    "\n",
    "Exaple :-\n",
    "Does  this collage have a placement rate of \"Greater\" then 85% ?\n",
    "\n",
    "here only asking one thing that is 'Greter then' 85% ?\n",
    "here we will be testing for only one possibility so that its \"1 Tail test\"\n",
    "\n",
    "\n",
    "            95%       |  5% 95+5 here \"this is 1 tail test\" \n",
    " -----------|---------|-----\n",
    "           85%          1 tail\n",
    "\n",
    "    \n",
    "does this collage placement rate \"less then\" 85% then this is also \n",
    "called '1 Taile test'  \n",
    "    \n",
    "    \n",
    "5%  here this 95+5 5% |        95%          \n",
    " is 1 tail test   ----|---------|--------------\n",
    "                             85%    \n",
    "    \n",
    "After \"3rd SD\"  whateverver data it can be trited as an \"Outliers\"    "
   ]
  },
  {
   "cell_type": "code",
   "execution_count": 351,
   "id": "40331d0c",
   "metadata": {},
   "outputs": [
    {
     "data": {
      "text/plain": [
       "0.95"
      ]
     },
     "execution_count": 351,
     "metadata": {},
     "output_type": "execute_result"
    }
   ],
   "source": [
    "1-0.05"
   ]
  },
  {
   "cell_type": "code",
   "execution_count": null,
   "id": "7235198a",
   "metadata": {},
   "outputs": [],
   "source": [
    "Here's a brief guide on when to use each type of plot:\n",
    "\n",
    "Histplot\n",
    "\n",
    "1. Distribution of continuous data: Show the shape of the data distribution.\n",
    "2. Understand data skewness: Visualize skewness, outliers, and modality.\n",
    "3. Compare distributions: Overlay multiple histograms to compare distributions.\n",
    "\n",
    "\n",
    "Barplot\n",
    "\n",
    "1. Categorical data comparison: Compare values across categories.\n",
    "2. Summarize data: Display aggregated data, such as means or counts.\n",
    "3. Rank data: Show ranked data, like top 10 items.\n",
    "\n",
    "Boxplot\n",
    "\n",
    "1. Compare distributions: Visualize multiple distributions side-by-side.\n",
    "2. Show outliers: Highlight outliers and extreme values.\n",
    "3. Understand data spread: Display interquartile range (IQR) and median.\n",
    "\n",
    "Line Plot\n",
    "\n",
    "1. Time-series data: Show trends over time.\n",
    "2. Continuous data relationship: Illustrate relationships between continuous variables.\n",
    "3. Category-wise trends: Display trends across categories.\n",
    "\n",
    "Scatterplot\n",
    "\n",
    "1. Relationship between variables: Visualize correlations or relationships.\n",
    "2. Identify patterns: Detect clusters, outliers, or non-linear relationships.\n",
    "3. Compare groups: Use different colors or markers to compare groups.\n",
    "\n",
    "Additional Tips:\n",
    "\n",
    "- Use histograms for continuous data and bar plots for categorical data.\n",
    "- Boxplots are useful for comparing distributions, while scatterplots help identify relationships.\n",
    "- Line plots are ideal for time-series data or showing trends.\n",
    "- Consider the number of data points and categories when choosing a plot type."
   ]
  },
  {
   "cell_type": "code",
   "execution_count": 1,
   "id": "3cc8f09d",
   "metadata": {},
   "outputs": [],
   "source": [
    "import seaborn as sns\n",
    "import numpy as np\n",
    "import matplotlib.pyplot as plt\n",
    "%matplotlib inline \n",
    "# this line used for displying graph with in the note book itself "
   ]
  },
  {
   "cell_type": "code",
   "execution_count": 2,
   "id": "6822f5ea",
   "metadata": {},
   "outputs": [],
   "source": [
    "import statistics # here we have mean midian mode so import it "
   ]
  },
  {
   "cell_type": "code",
   "execution_count": 3,
   "id": "00c885a6",
   "metadata": {
    "scrolled": true
   },
   "outputs": [
    {
     "data": {
      "text/plain": [
       "['anagrams',\n",
       " 'anscombe',\n",
       " 'attention',\n",
       " 'brain_networks',\n",
       " 'car_crashes',\n",
       " 'diamonds',\n",
       " 'dots',\n",
       " 'dowjones',\n",
       " 'exercise',\n",
       " 'flights',\n",
       " 'fmri',\n",
       " 'geyser',\n",
       " 'glue',\n",
       " 'healthexp',\n",
       " 'iris',\n",
       " 'mpg',\n",
       " 'penguins',\n",
       " 'planets',\n",
       " 'seaice',\n",
       " 'taxis',\n",
       " 'tips',\n",
       " 'titanic',\n",
       " 'anagrams',\n",
       " 'anagrams',\n",
       " 'anscombe',\n",
       " 'anscombe',\n",
       " 'attention',\n",
       " 'attention',\n",
       " 'brain_networks',\n",
       " 'brain_networks',\n",
       " 'car_crashes',\n",
       " 'car_crashes',\n",
       " 'diamonds',\n",
       " 'diamonds',\n",
       " 'dots',\n",
       " 'dots',\n",
       " 'dowjones',\n",
       " 'dowjones',\n",
       " 'exercise',\n",
       " 'exercise',\n",
       " 'flights',\n",
       " 'flights',\n",
       " 'fmri',\n",
       " 'fmri',\n",
       " 'geyser',\n",
       " 'geyser',\n",
       " 'glue',\n",
       " 'glue',\n",
       " 'healthexp',\n",
       " 'healthexp',\n",
       " 'iris',\n",
       " 'iris',\n",
       " 'mpg',\n",
       " 'mpg',\n",
       " 'penguins',\n",
       " 'penguins',\n",
       " 'planets',\n",
       " 'planets',\n",
       " 'seaice',\n",
       " 'seaice',\n",
       " 'taxis',\n",
       " 'taxis',\n",
       " 'tips',\n",
       " 'tips',\n",
       " 'titanic',\n",
       " 'titanic',\n",
       " 'anagrams',\n",
       " 'anscombe',\n",
       " 'attention',\n",
       " 'brain_networks',\n",
       " 'car_crashes',\n",
       " 'diamonds',\n",
       " 'dots',\n",
       " 'dowjones',\n",
       " 'exercise',\n",
       " 'flights',\n",
       " 'fmri',\n",
       " 'geyser',\n",
       " 'glue',\n",
       " 'healthexp',\n",
       " 'iris',\n",
       " 'mpg',\n",
       " 'penguins',\n",
       " 'planets',\n",
       " 'seaice',\n",
       " 'taxis',\n",
       " 'tips',\n",
       " 'titanic']"
      ]
     },
     "execution_count": 3,
     "metadata": {},
     "output_type": "execute_result"
    }
   ],
   "source": [
    "sns.get_dataset_names()"
   ]
  },
  {
   "cell_type": "code",
   "execution_count": 4,
   "id": "56c8a036",
   "metadata": {},
   "outputs": [],
   "source": [
    "df1 = sns.load_dataset('iris')"
   ]
  },
  {
   "cell_type": "code",
   "execution_count": 5,
   "id": "932c8048",
   "metadata": {},
   "outputs": [
    {
     "data": {
      "text/html": [
       "<div>\n",
       "<style scoped>\n",
       "    .dataframe tbody tr th:only-of-type {\n",
       "        vertical-align: middle;\n",
       "    }\n",
       "\n",
       "    .dataframe tbody tr th {\n",
       "        vertical-align: top;\n",
       "    }\n",
       "\n",
       "    .dataframe thead th {\n",
       "        text-align: right;\n",
       "    }\n",
       "</style>\n",
       "<table border=\"1\" class=\"dataframe\">\n",
       "  <thead>\n",
       "    <tr style=\"text-align: right;\">\n",
       "      <th></th>\n",
       "      <th>sepal_length</th>\n",
       "      <th>sepal_width</th>\n",
       "      <th>petal_length</th>\n",
       "      <th>petal_width</th>\n",
       "      <th>species</th>\n",
       "    </tr>\n",
       "  </thead>\n",
       "  <tbody>\n",
       "    <tr>\n",
       "      <th>0</th>\n",
       "      <td>5.1</td>\n",
       "      <td>3.5</td>\n",
       "      <td>1.4</td>\n",
       "      <td>0.2</td>\n",
       "      <td>setosa</td>\n",
       "    </tr>\n",
       "    <tr>\n",
       "      <th>1</th>\n",
       "      <td>4.9</td>\n",
       "      <td>3.0</td>\n",
       "      <td>1.4</td>\n",
       "      <td>0.2</td>\n",
       "      <td>setosa</td>\n",
       "    </tr>\n",
       "    <tr>\n",
       "      <th>2</th>\n",
       "      <td>4.7</td>\n",
       "      <td>3.2</td>\n",
       "      <td>1.3</td>\n",
       "      <td>0.2</td>\n",
       "      <td>setosa</td>\n",
       "    </tr>\n",
       "    <tr>\n",
       "      <th>3</th>\n",
       "      <td>4.6</td>\n",
       "      <td>3.1</td>\n",
       "      <td>1.5</td>\n",
       "      <td>0.2</td>\n",
       "      <td>setosa</td>\n",
       "    </tr>\n",
       "    <tr>\n",
       "      <th>4</th>\n",
       "      <td>5.0</td>\n",
       "      <td>3.6</td>\n",
       "      <td>1.4</td>\n",
       "      <td>0.2</td>\n",
       "      <td>setosa</td>\n",
       "    </tr>\n",
       "    <tr>\n",
       "      <th>...</th>\n",
       "      <td>...</td>\n",
       "      <td>...</td>\n",
       "      <td>...</td>\n",
       "      <td>...</td>\n",
       "      <td>...</td>\n",
       "    </tr>\n",
       "    <tr>\n",
       "      <th>145</th>\n",
       "      <td>6.7</td>\n",
       "      <td>3.0</td>\n",
       "      <td>5.2</td>\n",
       "      <td>2.3</td>\n",
       "      <td>virginica</td>\n",
       "    </tr>\n",
       "    <tr>\n",
       "      <th>146</th>\n",
       "      <td>6.3</td>\n",
       "      <td>2.5</td>\n",
       "      <td>5.0</td>\n",
       "      <td>1.9</td>\n",
       "      <td>virginica</td>\n",
       "    </tr>\n",
       "    <tr>\n",
       "      <th>147</th>\n",
       "      <td>6.5</td>\n",
       "      <td>3.0</td>\n",
       "      <td>5.2</td>\n",
       "      <td>2.0</td>\n",
       "      <td>virginica</td>\n",
       "    </tr>\n",
       "    <tr>\n",
       "      <th>148</th>\n",
       "      <td>6.2</td>\n",
       "      <td>3.4</td>\n",
       "      <td>5.4</td>\n",
       "      <td>2.3</td>\n",
       "      <td>virginica</td>\n",
       "    </tr>\n",
       "    <tr>\n",
       "      <th>149</th>\n",
       "      <td>5.9</td>\n",
       "      <td>3.0</td>\n",
       "      <td>5.1</td>\n",
       "      <td>1.8</td>\n",
       "      <td>virginica</td>\n",
       "    </tr>\n",
       "  </tbody>\n",
       "</table>\n",
       "<p>150 rows × 5 columns</p>\n",
       "</div>"
      ],
      "text/plain": [
       "     sepal_length  sepal_width  petal_length  petal_width    species\n",
       "0             5.1          3.5           1.4          0.2     setosa\n",
       "1             4.9          3.0           1.4          0.2     setosa\n",
       "2             4.7          3.2           1.3          0.2     setosa\n",
       "3             4.6          3.1           1.5          0.2     setosa\n",
       "4             5.0          3.6           1.4          0.2     setosa\n",
       "..            ...          ...           ...          ...        ...\n",
       "145           6.7          3.0           5.2          2.3  virginica\n",
       "146           6.3          2.5           5.0          1.9  virginica\n",
       "147           6.5          3.0           5.2          2.0  virginica\n",
       "148           6.2          3.4           5.4          2.3  virginica\n",
       "149           5.9          3.0           5.1          1.8  virginica\n",
       "\n",
       "[150 rows x 5 columns]"
      ]
     },
     "execution_count": 5,
     "metadata": {},
     "output_type": "execute_result"
    }
   ],
   "source": [
    "df1"
   ]
  },
  {
   "cell_type": "code",
   "execution_count": 6,
   "id": "f2eb196a",
   "metadata": {},
   "outputs": [],
   "source": [
    "df=sns.load_dataset(\"tips\")"
   ]
  },
  {
   "cell_type": "code",
   "execution_count": 7,
   "id": "e013ce84",
   "metadata": {},
   "outputs": [
    {
     "data": {
      "text/html": [
       "<div>\n",
       "<style scoped>\n",
       "    .dataframe tbody tr th:only-of-type {\n",
       "        vertical-align: middle;\n",
       "    }\n",
       "\n",
       "    .dataframe tbody tr th {\n",
       "        vertical-align: top;\n",
       "    }\n",
       "\n",
       "    .dataframe thead th {\n",
       "        text-align: right;\n",
       "    }\n",
       "</style>\n",
       "<table border=\"1\" class=\"dataframe\">\n",
       "  <thead>\n",
       "    <tr style=\"text-align: right;\">\n",
       "      <th></th>\n",
       "      <th>total_bill</th>\n",
       "      <th>tip</th>\n",
       "      <th>sex</th>\n",
       "      <th>smoker</th>\n",
       "      <th>day</th>\n",
       "      <th>time</th>\n",
       "      <th>size</th>\n",
       "    </tr>\n",
       "  </thead>\n",
       "  <tbody>\n",
       "    <tr>\n",
       "      <th>0</th>\n",
       "      <td>16.99</td>\n",
       "      <td>1.01</td>\n",
       "      <td>Female</td>\n",
       "      <td>No</td>\n",
       "      <td>Sun</td>\n",
       "      <td>Dinner</td>\n",
       "      <td>2</td>\n",
       "    </tr>\n",
       "    <tr>\n",
       "      <th>1</th>\n",
       "      <td>10.34</td>\n",
       "      <td>1.66</td>\n",
       "      <td>Male</td>\n",
       "      <td>No</td>\n",
       "      <td>Sun</td>\n",
       "      <td>Dinner</td>\n",
       "      <td>3</td>\n",
       "    </tr>\n",
       "    <tr>\n",
       "      <th>2</th>\n",
       "      <td>21.01</td>\n",
       "      <td>3.50</td>\n",
       "      <td>Male</td>\n",
       "      <td>No</td>\n",
       "      <td>Sun</td>\n",
       "      <td>Dinner</td>\n",
       "      <td>3</td>\n",
       "    </tr>\n",
       "    <tr>\n",
       "      <th>3</th>\n",
       "      <td>23.68</td>\n",
       "      <td>3.31</td>\n",
       "      <td>Male</td>\n",
       "      <td>No</td>\n",
       "      <td>Sun</td>\n",
       "      <td>Dinner</td>\n",
       "      <td>2</td>\n",
       "    </tr>\n",
       "    <tr>\n",
       "      <th>4</th>\n",
       "      <td>24.59</td>\n",
       "      <td>3.61</td>\n",
       "      <td>Female</td>\n",
       "      <td>No</td>\n",
       "      <td>Sun</td>\n",
       "      <td>Dinner</td>\n",
       "      <td>4</td>\n",
       "    </tr>\n",
       "    <tr>\n",
       "      <th>...</th>\n",
       "      <td>...</td>\n",
       "      <td>...</td>\n",
       "      <td>...</td>\n",
       "      <td>...</td>\n",
       "      <td>...</td>\n",
       "      <td>...</td>\n",
       "      <td>...</td>\n",
       "    </tr>\n",
       "    <tr>\n",
       "      <th>239</th>\n",
       "      <td>29.03</td>\n",
       "      <td>5.92</td>\n",
       "      <td>Male</td>\n",
       "      <td>No</td>\n",
       "      <td>Sat</td>\n",
       "      <td>Dinner</td>\n",
       "      <td>3</td>\n",
       "    </tr>\n",
       "    <tr>\n",
       "      <th>240</th>\n",
       "      <td>27.18</td>\n",
       "      <td>2.00</td>\n",
       "      <td>Female</td>\n",
       "      <td>Yes</td>\n",
       "      <td>Sat</td>\n",
       "      <td>Dinner</td>\n",
       "      <td>2</td>\n",
       "    </tr>\n",
       "    <tr>\n",
       "      <th>241</th>\n",
       "      <td>22.67</td>\n",
       "      <td>2.00</td>\n",
       "      <td>Male</td>\n",
       "      <td>Yes</td>\n",
       "      <td>Sat</td>\n",
       "      <td>Dinner</td>\n",
       "      <td>2</td>\n",
       "    </tr>\n",
       "    <tr>\n",
       "      <th>242</th>\n",
       "      <td>17.82</td>\n",
       "      <td>1.75</td>\n",
       "      <td>Male</td>\n",
       "      <td>No</td>\n",
       "      <td>Sat</td>\n",
       "      <td>Dinner</td>\n",
       "      <td>2</td>\n",
       "    </tr>\n",
       "    <tr>\n",
       "      <th>243</th>\n",
       "      <td>18.78</td>\n",
       "      <td>3.00</td>\n",
       "      <td>Female</td>\n",
       "      <td>No</td>\n",
       "      <td>Thur</td>\n",
       "      <td>Dinner</td>\n",
       "      <td>2</td>\n",
       "    </tr>\n",
       "  </tbody>\n",
       "</table>\n",
       "<p>244 rows × 7 columns</p>\n",
       "</div>"
      ],
      "text/plain": [
       "     total_bill   tip     sex smoker   day    time  size\n",
       "0         16.99  1.01  Female     No   Sun  Dinner     2\n",
       "1         10.34  1.66    Male     No   Sun  Dinner     3\n",
       "2         21.01  3.50    Male     No   Sun  Dinner     3\n",
       "3         23.68  3.31    Male     No   Sun  Dinner     2\n",
       "4         24.59  3.61  Female     No   Sun  Dinner     4\n",
       "..          ...   ...     ...    ...   ...     ...   ...\n",
       "239       29.03  5.92    Male     No   Sat  Dinner     3\n",
       "240       27.18  2.00  Female    Yes   Sat  Dinner     2\n",
       "241       22.67  2.00    Male    Yes   Sat  Dinner     2\n",
       "242       17.82  1.75    Male     No   Sat  Dinner     2\n",
       "243       18.78  3.00  Female     No  Thur  Dinner     2\n",
       "\n",
       "[244 rows x 7 columns]"
      ]
     },
     "execution_count": 7,
     "metadata": {},
     "output_type": "execute_result"
    }
   ],
   "source": [
    "df"
   ]
  },
  {
   "cell_type": "code",
   "execution_count": 8,
   "id": "1256bf18",
   "metadata": {},
   "outputs": [
    {
     "data": {
      "text/html": [
       "<div>\n",
       "<style scoped>\n",
       "    .dataframe tbody tr th:only-of-type {\n",
       "        vertical-align: middle;\n",
       "    }\n",
       "\n",
       "    .dataframe tbody tr th {\n",
       "        vertical-align: top;\n",
       "    }\n",
       "\n",
       "    .dataframe thead th {\n",
       "        text-align: right;\n",
       "    }\n",
       "</style>\n",
       "<table border=\"1\" class=\"dataframe\">\n",
       "  <thead>\n",
       "    <tr style=\"text-align: right;\">\n",
       "      <th></th>\n",
       "      <th>total_bill</th>\n",
       "      <th>tip</th>\n",
       "      <th>sex</th>\n",
       "      <th>smoker</th>\n",
       "      <th>day</th>\n",
       "      <th>time</th>\n",
       "      <th>size</th>\n",
       "    </tr>\n",
       "  </thead>\n",
       "  <tbody>\n",
       "    <tr>\n",
       "      <th>0</th>\n",
       "      <td>16.99</td>\n",
       "      <td>1.01</td>\n",
       "      <td>Female</td>\n",
       "      <td>No</td>\n",
       "      <td>Sun</td>\n",
       "      <td>Dinner</td>\n",
       "      <td>2</td>\n",
       "    </tr>\n",
       "    <tr>\n",
       "      <th>1</th>\n",
       "      <td>10.34</td>\n",
       "      <td>1.66</td>\n",
       "      <td>Male</td>\n",
       "      <td>No</td>\n",
       "      <td>Sun</td>\n",
       "      <td>Dinner</td>\n",
       "      <td>3</td>\n",
       "    </tr>\n",
       "    <tr>\n",
       "      <th>2</th>\n",
       "      <td>21.01</td>\n",
       "      <td>3.50</td>\n",
       "      <td>Male</td>\n",
       "      <td>No</td>\n",
       "      <td>Sun</td>\n",
       "      <td>Dinner</td>\n",
       "      <td>3</td>\n",
       "    </tr>\n",
       "    <tr>\n",
       "      <th>3</th>\n",
       "      <td>23.68</td>\n",
       "      <td>3.31</td>\n",
       "      <td>Male</td>\n",
       "      <td>No</td>\n",
       "      <td>Sun</td>\n",
       "      <td>Dinner</td>\n",
       "      <td>2</td>\n",
       "    </tr>\n",
       "    <tr>\n",
       "      <th>4</th>\n",
       "      <td>24.59</td>\n",
       "      <td>3.61</td>\n",
       "      <td>Female</td>\n",
       "      <td>No</td>\n",
       "      <td>Sun</td>\n",
       "      <td>Dinner</td>\n",
       "      <td>4</td>\n",
       "    </tr>\n",
       "  </tbody>\n",
       "</table>\n",
       "</div>"
      ],
      "text/plain": [
       "   total_bill   tip     sex smoker  day    time  size\n",
       "0       16.99  1.01  Female     No  Sun  Dinner     2\n",
       "1       10.34  1.66    Male     No  Sun  Dinner     3\n",
       "2       21.01  3.50    Male     No  Sun  Dinner     3\n",
       "3       23.68  3.31    Male     No  Sun  Dinner     2\n",
       "4       24.59  3.61  Female     No  Sun  Dinner     4"
      ]
     },
     "execution_count": 8,
     "metadata": {},
     "output_type": "execute_result"
    }
   ],
   "source": [
    "df.head()"
   ]
  },
  {
   "cell_type": "markdown",
   "id": "488b7e6c",
   "metadata": {},
   "source": [
    "# mean"
   ]
  },
  {
   "cell_type": "code",
   "execution_count": 10,
   "id": "81f93ddd",
   "metadata": {},
   "outputs": [
    {
     "data": {
      "text/plain": [
       "19.785942622950824"
      ]
     },
     "execution_count": 10,
     "metadata": {},
     "output_type": "execute_result"
    }
   ],
   "source": [
    "np.mean(df['total_bill'])"
   ]
  },
  {
   "cell_type": "markdown",
   "id": "dde93c7a",
   "metadata": {},
   "source": [
    "# median"
   ]
  },
  {
   "cell_type": "code",
   "execution_count": 11,
   "id": "e9544a49",
   "metadata": {},
   "outputs": [
    {
     "data": {
      "text/plain": [
       "17.795"
      ]
     },
     "execution_count": 11,
     "metadata": {},
     "output_type": "execute_result"
    }
   ],
   "source": [
    "np.median(df['total_bill'])"
   ]
  },
  {
   "cell_type": "markdown",
   "id": "849fed0b",
   "metadata": {},
   "source": [
    "## numpy not had mode statistics.mode"
   ]
  },
  {
   "cell_type": "code",
   "execution_count": 12,
   "id": "1d5c3a21",
   "metadata": {
    "scrolled": true
   },
   "outputs": [
    {
     "ename": "AttributeError",
     "evalue": "module 'numpy' has no attribute 'mode'",
     "output_type": "error",
     "traceback": [
      "\u001b[1;31m---------------------------------------------------------------------------\u001b[0m",
      "\u001b[1;31mAttributeError\u001b[0m                            Traceback (most recent call last)",
      "\u001b[1;32mC:\\conda_tmp/ipykernel_24236/4203170685.py\u001b[0m in \u001b[0;36m<cell line: 1>\u001b[1;34m()\u001b[0m\n\u001b[1;32m----> 1\u001b[1;33m \u001b[0mnp\u001b[0m\u001b[1;33m.\u001b[0m\u001b[0mmode\u001b[0m\u001b[1;33m(\u001b[0m\u001b[0mdf\u001b[0m\u001b[1;33m[\u001b[0m\u001b[1;34m\"total_bill\"\u001b[0m\u001b[1;33m]\u001b[0m\u001b[1;33m)\u001b[0m\u001b[1;33m\u001b[0m\u001b[1;33m\u001b[0m\u001b[0m\n\u001b[0m",
      "\u001b[1;32m~\\anaconda3\\lib\\site-packages\\numpy\\__init__.py\u001b[0m in \u001b[0;36m__getattr__\u001b[1;34m(attr)\u001b[0m\n\u001b[0;32m    301\u001b[0m                 \u001b[1;32mreturn\u001b[0m \u001b[0mTester\u001b[0m\u001b[1;33m\u001b[0m\u001b[1;33m\u001b[0m\u001b[0m\n\u001b[0;32m    302\u001b[0m \u001b[1;33m\u001b[0m\u001b[0m\n\u001b[1;32m--> 303\u001b[1;33m             raise AttributeError(\"module {!r} has no attribute \"\n\u001b[0m\u001b[0;32m    304\u001b[0m                                  \"{!r}\".format(__name__, attr))\n\u001b[0;32m    305\u001b[0m \u001b[1;33m\u001b[0m\u001b[0m\n",
      "\u001b[1;31mAttributeError\u001b[0m: module 'numpy' has no attribute 'mode'"
     ]
    }
   ],
   "source": [
    "pd.mode(df[\"total_bill\"])"
   ]
  },
  {
   "cell_type": "code",
   "execution_count": 15,
   "id": "1f260d89",
   "metadata": {},
   "outputs": [],
   "source": [
    "import statistics"
   ]
  },
  {
   "cell_type": "code",
   "execution_count": 16,
   "id": "d8336ae3",
   "metadata": {},
   "outputs": [
    {
     "data": {
      "text/plain": [
       "13.42"
      ]
     },
     "execution_count": 16,
     "metadata": {},
     "output_type": "execute_result"
    }
   ],
   "source": [
    "statistics.mode(df['total_bill'])"
   ]
  },
  {
   "cell_type": "code",
   "execution_count": 18,
   "id": "81736d7c",
   "metadata": {},
   "outputs": [
    {
     "data": {
      "text/plain": [
       "'Dinner'"
      ]
     },
     "execution_count": 18,
     "metadata": {},
     "output_type": "execute_result"
    }
   ],
   "source": [
    "statistics.mode(df['time'])"
   ]
  },
  {
   "cell_type": "code",
   "execution_count": 19,
   "id": "d1de222b",
   "metadata": {},
   "outputs": [
    {
     "data": {
      "text/plain": [
       "2.0"
      ]
     },
     "execution_count": 19,
     "metadata": {},
     "output_type": "execute_result"
    }
   ],
   "source": [
    "statistics.mode(df['tip'])"
   ]
  },
  {
   "cell_type": "code",
   "execution_count": 24,
   "id": "505925fd",
   "metadata": {},
   "outputs": [
    {
     "data": {
      "text/plain": [
       "50.81"
      ]
     },
     "execution_count": 24,
     "metadata": {},
     "output_type": "execute_result"
    }
   ],
   "source": [
    "df[\"total_bill\"].max()"
   ]
  },
  {
   "cell_type": "code",
   "execution_count": 25,
   "id": "a196f22b",
   "metadata": {},
   "outputs": [
    {
     "data": {
      "text/plain": [
       "3.07"
      ]
     },
     "execution_count": 25,
     "metadata": {},
     "output_type": "execute_result"
    }
   ],
   "source": [
    "df[\"total_bill\"].min()"
   ]
  },
  {
   "cell_type": "markdown",
   "id": "672d1271",
   "metadata": {},
   "source": [
    "## seaborn use for Box_plot to show Outliers"
   ]
  },
  {
   "cell_type": "code",
   "execution_count": 23,
   "id": "22c577d2",
   "metadata": {},
   "outputs": [
    {
     "name": "stderr",
     "output_type": "stream",
     "text": [
      "C:\\Users\\gajula Amar\\anaconda3\\lib\\site-packages\\seaborn\\_decorators.py:36: FutureWarning: Pass the following variable as a keyword arg: x. From version 0.12, the only valid positional argument will be `data`, and passing other arguments without an explicit keyword will result in an error or misinterpretation.\n",
      "  warnings.warn(\n"
     ]
    },
    {
     "data": {
      "text/plain": [
       "<AxesSubplot:xlabel='total_bill'>"
      ]
     },
     "execution_count": 23,
     "metadata": {},
     "output_type": "execute_result"
    },
    {
     "data": {
      "image/png": "[encoded data removed]",
      "text/plain": [
       "<Figure size 432x288 with 1 Axes>"
      ]
     },
     "metadata": {
      "needs_background": "light"
     },
     "output_type": "display_data"
    }
   ],
   "source": [
    "sns.boxplot(df['total_bill'])"
   ]
  },
  {
   "cell_type": "code",
   "execution_count": 18,
   "id": "44cebcd8",
   "metadata": {},
   "outputs": [
    {
     "data": {
      "text/plain": [
       "<AxesSubplot:xlabel='total_bill'>"
      ]
     },
     "execution_count": 18,
     "metadata": {},
     "output_type": "execute_result"
    },
    {
     "data": {
      "image/png": "[encoded data removed]",
      "text/plain": [
       "<Figure size 432x288 with 1 Axes>"
      ]
     },
     "metadata": {
      "needs_background": "light"
     },
     "output_type": "display_data"
    }
   ],
   "source": [
    "sns.boxplot(data=df,x='total_bill')"
   ]
  },
  {
   "cell_type": "code",
   "execution_count": 27,
   "id": "bb9de752",
   "metadata": {},
   "outputs": [
    {
     "data": {
      "text/plain": [
       "<AxesSubplot:xlabel='time', ylabel='tip'>"
      ]
     },
     "execution_count": 27,
     "metadata": {},
     "output_type": "execute_result"
    },
    {
     "data": {
      "image/png": "[encoded data removed]",
      "text/plain": [
       "<Figure size 432x288 with 1 Axes>"
      ]
     },
     "metadata": {
      "needs_background": "light"
     },
     "output_type": "display_data"
    }
   ],
   "source": [
    "sns.boxplot(x='time',y='tip',data=df)"
   ]
  },
  {
   "cell_type": "code",
   "execution_count": 29,
   "id": "d6af038b",
   "metadata": {},
   "outputs": [
    {
     "name": "stderr",
     "output_type": "stream",
     "text": [
      "C:\\Users\\gajula Amar\\anaconda3\\lib\\site-packages\\seaborn\\_decorators.py:36: FutureWarning: Pass the following variable as a keyword arg: x. From version 0.12, the only valid positional argument will be `data`, and passing other arguments without an explicit keyword will result in an error or misinterpretation.\n",
      "  warnings.warn(\n"
     ]
    },
    {
     "data": {
      "text/plain": [
       "<AxesSubplot:xlabel='total_bill'>"
      ]
     },
     "execution_count": 29,
     "metadata": {},
     "output_type": "execute_result"
    },
    {
     "data": {
      "image/png": "[encoded data removed]",
      "text/plain": [
       "<Figure size 432x288 with 1 Axes>"
      ]
     },
     "metadata": {
      "needs_background": "light"
     },
     "output_type": "display_data"
    }
   ],
   "source": [
    "sns.boxenplot(df['total_bill'])"
   ]
  },
  {
   "cell_type": "code",
   "execution_count": 36,
   "id": "5789b12c",
   "metadata": {},
   "outputs": [
    {
     "data": {
      "text/plain": [
       "<AxesSubplot:xlabel='day', ylabel='count'>"
      ]
     },
     "execution_count": 36,
     "metadata": {},
     "output_type": "execute_result"
    },
    {
     "data": {
      "image/png": "[encoded data removed]",
      "text/plain": [
       "<Figure size 432x288 with 1 Axes>"
      ]
     },
     "metadata": {
      "needs_background": "light"
     },
     "output_type": "display_data"
    }
   ],
   "source": [
    "sns.countplot(x='day',data=df)"
   ]
  },
  {
   "cell_type": "code",
   "execution_count": 24,
   "id": "608de872",
   "metadata": {},
   "outputs": [
    {
     "data": {
      "text/plain": [
       "<seaborn.axisgrid.FacetGrid at 0x2a7acecb820>"
      ]
     },
     "execution_count": 24,
     "metadata": {},
     "output_type": "execute_result"
    },
    {
     "data": {
      "image/png": "[encoded data removed]",
      "text/plain": [
       "<Figure size 360x360 with 1 Axes>"
      ]
     },
     "metadata": {
      "needs_background": "light"
     },
     "output_type": "display_data"
    }
   ],
   "source": [
    "sns.catplot(data=df)"
   ]
  },
  {
   "cell_type": "code",
   "execution_count": 26,
   "id": "b60244e9",
   "metadata": {},
   "outputs": [
    {
     "data": {
      "text/plain": [
       "<seaborn.axisgrid.FacetGrid at 0x1aa5a04e880>"
      ]
     },
     "execution_count": 26,
     "metadata": {},
     "output_type": "execute_result"
    },
    {
     "data": {
      "image/png": "[encoded data removed]",
      "text/plain": [
       "<Figure size 360x360 with 1 Axes>"
      ]
     },
     "metadata": {
      "needs_background": "light"
     },
     "output_type": "display_data"
    }
   ],
   "source": [
    "sns.catplot(x=\"total_bill\",data=df,kind=\"box\")\n"
   ]
  },
  {
   "cell_type": "markdown",
   "id": "9daf304a",
   "metadata": {},
   "source": [
    "# san.histogram  plot"
   ]
  },
  {
   "cell_type": "code",
   "execution_count": 20,
   "id": "1efdaa01",
   "metadata": {},
   "outputs": [
    {
     "data": {
      "text/plain": [
       "<AxesSubplot:xlabel='total_bill', ylabel='Count'>"
      ]
     },
     "execution_count": 20,
     "metadata": {},
     "output_type": "execute_result"
    },
    {
     "data": {
      "image/png": "[encoded data removed]",
      "text/plain": [
       "<Figure size 432x288 with 1 Axes>"
      ]
     },
     "metadata": {
      "needs_background": "light"
     },
     "output_type": "display_data"
    }
   ],
   "source": [
    "sns.histplot(df[\"total_bill\"])"
   ]
  },
  {
   "cell_type": "code",
   "execution_count": 28,
   "id": "a3dbaa47",
   "metadata": {},
   "outputs": [
    {
     "data": {
      "text/plain": [
       "<AxesSubplot:xlabel='total_bill', ylabel='Count'>"
      ]
     },
     "execution_count": 28,
     "metadata": {},
     "output_type": "execute_result"
    },
    {
     "data": {
      "image/png": "[encoded data removed]",
      "text/plain": [
       "<Figure size 432x288 with 1 Axes>"
      ]
     },
     "metadata": {
      "needs_background": "light"
     },
     "output_type": "display_data"
    }
   ],
   "source": [
    "sns.histplot(df['total_bill'],kde=True)"
   ]
  },
  {
   "cell_type": "code",
   "execution_count": 21,
   "id": "79132875",
   "metadata": {},
   "outputs": [
    {
     "data": {
      "text/plain": [
       "<AxesSubplot:xlabel='total_bill', ylabel='Count'>"
      ]
     },
     "execution_count": 21,
     "metadata": {},
     "output_type": "execute_result"
    },
    {
     "data": {
      "image/png": "[encoded data removed]",
      "text/plain": [
       "<Figure size 432x288 with 1 Axes>"
      ]
     },
     "metadata": {
      "needs_background": "light"
     },
     "output_type": "display_data"
    }
   ],
   "source": [
    "sns.histplot(x=\"total_bill\",data=df)"
   ]
  },
  {
   "cell_type": "markdown",
   "id": "a1a671dd",
   "metadata": {},
   "source": [
    "# kde\n",
    "    kde stands for \"kernal dencity estimater\" used for \n",
    "    smoothenning the histogram"
   ]
  },
  {
   "cell_type": "code",
   "execution_count": 29,
   "id": "952abb3e",
   "metadata": {},
   "outputs": [
    {
     "data": {
      "text/plain": [
       "<AxesSubplot:xlabel='total_bill', ylabel='Count'>"
      ]
     },
     "execution_count": 29,
     "metadata": {},
     "output_type": "execute_result"
    },
    {
     "data": {
      "image/png": "[encoded data removed]",
      "text/plain": [
       "<Figure size 432x288 with 1 Axes>"
      ]
     },
     "metadata": {
      "needs_background": "light"
     },
     "output_type": "display_data"
    }
   ],
   "source": [
    "sns.histplot(x=\"total_bill\",data=df,kde=True)"
   ]
  },
  {
   "cell_type": "code",
   "execution_count": 30,
   "id": "11452012",
   "metadata": {},
   "outputs": [
    {
     "ename": "AttributeError",
     "evalue": "module 'seaborn' has no attribute 'hist'",
     "output_type": "error",
     "traceback": [
      "\u001b[1;31m---------------------------------------------------------------------------\u001b[0m",
      "\u001b[1;31mAttributeError\u001b[0m                            Traceback (most recent call last)",
      "\u001b[1;32mC:\\conda_tmp/ipykernel_24236/2829373531.py\u001b[0m in \u001b[0;36m<cell line: 1>\u001b[1;34m()\u001b[0m\n\u001b[1;32m----> 1\u001b[1;33m \u001b[0msns\u001b[0m\u001b[1;33m.\u001b[0m\u001b[0mhist\u001b[0m\u001b[1;33m(\u001b[0m\u001b[0mdf\u001b[0m\u001b[1;33m[\u001b[0m\u001b[1;34m\"total_bill\"\u001b[0m\u001b[1;33m]\u001b[0m\u001b[1;33m)\u001b[0m\u001b[1;33m\u001b[0m\u001b[1;33m\u001b[0m\u001b[0m\n\u001b[0m",
      "\u001b[1;31mAttributeError\u001b[0m: module 'seaborn' has no attribute 'hist'"
     ]
    }
   ],
   "source": [
    "sns.hist(df[\"total_bill\"])"
   ]
  },
  {
   "cell_type": "code",
   "execution_count": 31,
   "id": "6dfcde83",
   "metadata": {},
   "outputs": [
    {
     "name": "stderr",
     "output_type": "stream",
     "text": [
      "C:\\Users\\gajula Amar\\anaconda3\\lib\\site-packages\\seaborn\\distributions.py:2619: FutureWarning: `distplot` is a deprecated function and will be removed in a future version. Please adapt your code to use either `displot` (a figure-level function with similar flexibility) or `histplot` (an axes-level function for histograms).\n",
      "  warnings.warn(msg, FutureWarning)\n"
     ]
    },
    {
     "data": {
      "text/plain": [
       "<AxesSubplot:xlabel='total_bill', ylabel='Density'>"
      ]
     },
     "execution_count": 31,
     "metadata": {},
     "output_type": "execute_result"
    },
    {
     "data": {
      "image/png": "[encoded data removed]",
      "text/plain": [
       "<Figure size 432x288 with 1 Axes>"
      ]
     },
     "metadata": {
      "needs_background": "light"
     },
     "output_type": "display_data"
    }
   ],
   "source": [
    "sns.distplot(df['total_bill'])"
   ]
  },
  {
   "cell_type": "code",
   "execution_count": null,
   "id": "909c0702",
   "metadata": {},
   "outputs": [],
   "source": []
  },
  {
   "cell_type": "code",
   "execution_count": 18,
   "id": "7aa519a9",
   "metadata": {},
   "outputs": [
    {
     "data": {
      "text/plain": [
       "(array([ 7., 42., 68., 51., 31., 19., 12.,  7.,  3.,  4.]),\n",
       " array([ 3.07 ,  7.844, 12.618, 17.392, 22.166, 26.94 , 31.714, 36.488,\n",
       "        41.262, 46.036, 50.81 ]),\n",
       " <BarContainer object of 10 artists>)"
      ]
     },
     "execution_count": 18,
     "metadata": {},
     "output_type": "execute_result"
    },
    {
     "data": {
      "image/png": "[encoded data removed]",
      "text/plain": [
       "<Figure size 432x288 with 1 Axes>"
      ]
     },
     "metadata": {
      "needs_background": "light"
     },
     "output_type": "display_data"
    }
   ],
   "source": [
    "plt.hist(df[\"total_bill\"],color=\"b\",alpha=0.5)"
   ]
  },
  {
   "cell_type": "code",
   "execution_count": 19,
   "id": "c7d2ae38",
   "metadata": {},
   "outputs": [
    {
     "ename": "AttributeError",
     "evalue": "'Rectangle' object has no property 'kde'",
     "output_type": "error",
     "traceback": [
      "\u001b[1;31m---------------------------------------------------------------------------\u001b[0m",
      "\u001b[1;31mAttributeError\u001b[0m                            Traceback (most recent call last)",
      "\u001b[1;32mC:\\conda_tmp/ipykernel_6584/1305758788.py\u001b[0m in \u001b[0;36m<module>\u001b[1;34m\u001b[0m\n\u001b[1;32m----> 1\u001b[1;33m \u001b[0mplt\u001b[0m\u001b[1;33m.\u001b[0m\u001b[0mhist\u001b[0m\u001b[1;33m(\u001b[0m\u001b[0mdf\u001b[0m\u001b[1;33m[\u001b[0m\u001b[1;34m\"total_bill\"\u001b[0m\u001b[1;33m]\u001b[0m\u001b[1;33m,\u001b[0m\u001b[0mcolor\u001b[0m\u001b[1;33m=\u001b[0m\u001b[1;34m\"b\"\u001b[0m\u001b[1;33m,\u001b[0m\u001b[0malpha\u001b[0m\u001b[1;33m=\u001b[0m\u001b[1;36m0.5\u001b[0m\u001b[1;33m,\u001b[0m\u001b[0mkde\u001b[0m\u001b[1;33m=\u001b[0m\u001b[1;32mTrue\u001b[0m\u001b[1;33m)\u001b[0m\u001b[1;33m\u001b[0m\u001b[1;33m\u001b[0m\u001b[0m\n\u001b[0m",
      "\u001b[1;32m~\\anaconda3\\lib\\site-packages\\matplotlib\\pyplot.py\u001b[0m in \u001b[0;36mhist\u001b[1;34m(x, bins, range, density, weights, cumulative, bottom, histtype, align, orientation, rwidth, log, color, label, stacked, data, **kwargs)\u001b[0m\n\u001b[0;32m   2851\u001b[0m         \u001b[0morientation\u001b[0m\u001b[1;33m=\u001b[0m\u001b[1;34m'vertical'\u001b[0m\u001b[1;33m,\u001b[0m \u001b[0mrwidth\u001b[0m\u001b[1;33m=\u001b[0m\u001b[1;32mNone\u001b[0m\u001b[1;33m,\u001b[0m \u001b[0mlog\u001b[0m\u001b[1;33m=\u001b[0m\u001b[1;32mFalse\u001b[0m\u001b[1;33m,\u001b[0m \u001b[0mcolor\u001b[0m\u001b[1;33m=\u001b[0m\u001b[1;32mNone\u001b[0m\u001b[1;33m,\u001b[0m\u001b[1;33m\u001b[0m\u001b[1;33m\u001b[0m\u001b[0m\n\u001b[0;32m   2852\u001b[0m         label=None, stacked=False, *, data=None, **kwargs):\n\u001b[1;32m-> 2853\u001b[1;33m     return gca().hist(\n\u001b[0m\u001b[0;32m   2854\u001b[0m         \u001b[0mx\u001b[0m\u001b[1;33m,\u001b[0m \u001b[0mbins\u001b[0m\u001b[1;33m=\u001b[0m\u001b[0mbins\u001b[0m\u001b[1;33m,\u001b[0m \u001b[0mrange\u001b[0m\u001b[1;33m=\u001b[0m\u001b[0mrange\u001b[0m\u001b[1;33m,\u001b[0m \u001b[0mdensity\u001b[0m\u001b[1;33m=\u001b[0m\u001b[0mdensity\u001b[0m\u001b[1;33m,\u001b[0m \u001b[0mweights\u001b[0m\u001b[1;33m=\u001b[0m\u001b[0mweights\u001b[0m\u001b[1;33m,\u001b[0m\u001b[1;33m\u001b[0m\u001b[1;33m\u001b[0m\u001b[0m\n\u001b[0;32m   2855\u001b[0m         \u001b[0mcumulative\u001b[0m\u001b[1;33m=\u001b[0m\u001b[0mcumulative\u001b[0m\u001b[1;33m,\u001b[0m \u001b[0mbottom\u001b[0m\u001b[1;33m=\u001b[0m\u001b[0mbottom\u001b[0m\u001b[1;33m,\u001b[0m \u001b[0mhisttype\u001b[0m\u001b[1;33m=\u001b[0m\u001b[0mhisttype\u001b[0m\u001b[1;33m,\u001b[0m\u001b[1;33m\u001b[0m\u001b[1;33m\u001b[0m\u001b[0m\n",
      "\u001b[1;32m~\\anaconda3\\lib\\site-packages\\matplotlib\\__init__.py\u001b[0m in \u001b[0;36minner\u001b[1;34m(ax, data, *args, **kwargs)\u001b[0m\n\u001b[0;32m   1359\u001b[0m     \u001b[1;32mdef\u001b[0m \u001b[0minner\u001b[0m\u001b[1;33m(\u001b[0m\u001b[0max\u001b[0m\u001b[1;33m,\u001b[0m \u001b[1;33m*\u001b[0m\u001b[0margs\u001b[0m\u001b[1;33m,\u001b[0m \u001b[0mdata\u001b[0m\u001b[1;33m=\u001b[0m\u001b[1;32mNone\u001b[0m\u001b[1;33m,\u001b[0m \u001b[1;33m**\u001b[0m\u001b[0mkwargs\u001b[0m\u001b[1;33m)\u001b[0m\u001b[1;33m:\u001b[0m\u001b[1;33m\u001b[0m\u001b[1;33m\u001b[0m\u001b[0m\n\u001b[0;32m   1360\u001b[0m         \u001b[1;32mif\u001b[0m \u001b[0mdata\u001b[0m \u001b[1;32mis\u001b[0m \u001b[1;32mNone\u001b[0m\u001b[1;33m:\u001b[0m\u001b[1;33m\u001b[0m\u001b[1;33m\u001b[0m\u001b[0m\n\u001b[1;32m-> 1361\u001b[1;33m             \u001b[1;32mreturn\u001b[0m \u001b[0mfunc\u001b[0m\u001b[1;33m(\u001b[0m\u001b[0max\u001b[0m\u001b[1;33m,\u001b[0m \u001b[1;33m*\u001b[0m\u001b[0mmap\u001b[0m\u001b[1;33m(\u001b[0m\u001b[0msanitize_sequence\u001b[0m\u001b[1;33m,\u001b[0m \u001b[0margs\u001b[0m\u001b[1;33m)\u001b[0m\u001b[1;33m,\u001b[0m \u001b[1;33m**\u001b[0m\u001b[0mkwargs\u001b[0m\u001b[1;33m)\u001b[0m\u001b[1;33m\u001b[0m\u001b[1;33m\u001b[0m\u001b[0m\n\u001b[0m\u001b[0;32m   1362\u001b[0m \u001b[1;33m\u001b[0m\u001b[0m\n\u001b[0;32m   1363\u001b[0m         \u001b[0mbound\u001b[0m \u001b[1;33m=\u001b[0m \u001b[0mnew_sig\u001b[0m\u001b[1;33m.\u001b[0m\u001b[0mbind\u001b[0m\u001b[1;33m(\u001b[0m\u001b[0max\u001b[0m\u001b[1;33m,\u001b[0m \u001b[1;33m*\u001b[0m\u001b[0margs\u001b[0m\u001b[1;33m,\u001b[0m \u001b[1;33m**\u001b[0m\u001b[0mkwargs\u001b[0m\u001b[1;33m)\u001b[0m\u001b[1;33m\u001b[0m\u001b[1;33m\u001b[0m\u001b[0m\n",
      "\u001b[1;32m~\\anaconda3\\lib\\site-packages\\matplotlib\\axes\\_axes.py\u001b[0m in \u001b[0;36mhist\u001b[1;34m(self, x, bins, range, density, weights, cumulative, bottom, histtype, align, orientation, rwidth, log, color, label, stacked, **kwargs)\u001b[0m\n\u001b[0;32m   6909\u001b[0m             \u001b[1;32mif\u001b[0m \u001b[0mpatch\u001b[0m\u001b[1;33m:\u001b[0m\u001b[1;33m\u001b[0m\u001b[1;33m\u001b[0m\u001b[0m\n\u001b[0;32m   6910\u001b[0m                 \u001b[0mp\u001b[0m \u001b[1;33m=\u001b[0m \u001b[0mpatch\u001b[0m\u001b[1;33m[\u001b[0m\u001b[1;36m0\u001b[0m\u001b[1;33m]\u001b[0m\u001b[1;33m\u001b[0m\u001b[1;33m\u001b[0m\u001b[0m\n\u001b[1;32m-> 6911\u001b[1;33m                 \u001b[0mp\u001b[0m\u001b[1;33m.\u001b[0m\u001b[0mupdate\u001b[0m\u001b[1;33m(\u001b[0m\u001b[0mkwargs\u001b[0m\u001b[1;33m)\u001b[0m\u001b[1;33m\u001b[0m\u001b[1;33m\u001b[0m\u001b[0m\n\u001b[0m\u001b[0;32m   6912\u001b[0m                 \u001b[1;32mif\u001b[0m \u001b[0mlbl\u001b[0m \u001b[1;32mis\u001b[0m \u001b[1;32mnot\u001b[0m \u001b[1;32mNone\u001b[0m\u001b[1;33m:\u001b[0m\u001b[1;33m\u001b[0m\u001b[1;33m\u001b[0m\u001b[0m\n\u001b[0;32m   6913\u001b[0m                     \u001b[0mp\u001b[0m\u001b[1;33m.\u001b[0m\u001b[0mset_label\u001b[0m\u001b[1;33m(\u001b[0m\u001b[0mlbl\u001b[0m\u001b[1;33m)\u001b[0m\u001b[1;33m\u001b[0m\u001b[1;33m\u001b[0m\u001b[0m\n",
      "\u001b[1;32m~\\anaconda3\\lib\\site-packages\\matplotlib\\artist.py\u001b[0m in \u001b[0;36mupdate\u001b[1;34m(self, props)\u001b[0m\n\u001b[0;32m   1060\u001b[0m                     \u001b[0mfunc\u001b[0m \u001b[1;33m=\u001b[0m \u001b[0mgetattr\u001b[0m\u001b[1;33m(\u001b[0m\u001b[0mself\u001b[0m\u001b[1;33m,\u001b[0m \u001b[1;34mf\"set_{k}\"\u001b[0m\u001b[1;33m,\u001b[0m \u001b[1;32mNone\u001b[0m\u001b[1;33m)\u001b[0m\u001b[1;33m\u001b[0m\u001b[1;33m\u001b[0m\u001b[0m\n\u001b[0;32m   1061\u001b[0m                     \u001b[1;32mif\u001b[0m \u001b[1;32mnot\u001b[0m \u001b[0mcallable\u001b[0m\u001b[1;33m(\u001b[0m\u001b[0mfunc\u001b[0m\u001b[1;33m)\u001b[0m\u001b[1;33m:\u001b[0m\u001b[1;33m\u001b[0m\u001b[1;33m\u001b[0m\u001b[0m\n\u001b[1;32m-> 1062\u001b[1;33m                         raise AttributeError(f\"{type(self).__name__!r} object \"\n\u001b[0m\u001b[0;32m   1063\u001b[0m                                              f\"has no property {k!r}\")\n\u001b[0;32m   1064\u001b[0m                     \u001b[0mret\u001b[0m\u001b[1;33m.\u001b[0m\u001b[0mappend\u001b[0m\u001b[1;33m(\u001b[0m\u001b[0mfunc\u001b[0m\u001b[1;33m(\u001b[0m\u001b[0mv\u001b[0m\u001b[1;33m)\u001b[0m\u001b[1;33m)\u001b[0m\u001b[1;33m\u001b[0m\u001b[1;33m\u001b[0m\u001b[0m\n",
      "\u001b[1;31mAttributeError\u001b[0m: 'Rectangle' object has no property 'kde'"
     ]
    },
    {
     "data": {
      "image/png": "[encoded data removed]",
      "text/plain": [
       "<Figure size 432x288 with 1 Axes>"
      ]
     },
     "metadata": {
      "needs_background": "light"
     },
     "output_type": "display_data"
    }
   ],
   "source": [
    "plt.hist(df[\"total_bill\"],color=\"b\",alpha=0.5,kde=True)"
   ]
  },
  {
   "cell_type": "markdown",
   "id": "32025dfd",
   "metadata": {},
   "source": [
    "# doing smoothe after histogram\n",
    "with the help of kernal dencity distribution"
   ]
  },
  {
   "cell_type": "code",
   "execution_count": 33,
   "id": "360eec42",
   "metadata": {},
   "outputs": [
    {
     "data": {
      "text/plain": [
       "<AxesSubplot:xlabel='total_bill', ylabel='Count'>"
      ]
     },
     "execution_count": 33,
     "metadata": {},
     "output_type": "execute_result"
    },
    {
     "data": {
      "image/png": "[encoded data removed]",
      "text/plain": [
       "<Figure size 432x288 with 1 Axes>"
      ]
     },
     "metadata": {
      "needs_background": "light"
     },
     "output_type": "display_data"
    }
   ],
   "source": [
    "sns.histplot(df[\"total_bill\"],kde=True) #  this is looks like squwed data set which is called as log normal distribution"
   ]
  },
  {
   "cell_type": "code",
   "execution_count": 7,
   "id": "41e07cd0",
   "metadata": {},
   "outputs": [
    {
     "name": "stderr",
     "output_type": "stream",
     "text": [
      "C:\\Users\\gajula Amar\\anaconda3\\lib\\site-packages\\seaborn\\distributions.py:2619: FutureWarning: `distplot` is a deprecated function and will be removed in a future version. Please adapt your code to use either `displot` (a figure-level function with similar flexibility) or `histplot` (an axes-level function for histograms).\n",
      "  warnings.warn(msg, FutureWarning)\n"
     ]
    },
    {
     "data": {
      "text/plain": [
       "<AxesSubplot:xlabel='total_bill', ylabel='Density'>"
      ]
     },
     "execution_count": 7,
     "metadata": {},
     "output_type": "execute_result"
    },
    {
     "data": {
      "image/png": "[encoded data removed]",
      "text/plain": [
       "<Figure size 432x288 with 1 Axes>"
      ]
     },
     "metadata": {
      "needs_background": "light"
     },
     "output_type": "display_data"
    }
   ],
   "source": [
    "sns.distplot(df[\"total_bill\"],kde=True)"
   ]
  },
  {
   "cell_type": "markdown",
   "id": "04f8c7be",
   "metadata": {},
   "source": [
    "### categorical variable so use countplot for bar graph"
   ]
  },
  {
   "cell_type": "code",
   "execution_count": 35,
   "id": "1a329483",
   "metadata": {},
   "outputs": [
    {
     "data": {
      "text/plain": [
       "<AxesSubplot:xlabel='day', ylabel='count'>"
      ]
     },
     "execution_count": 35,
     "metadata": {},
     "output_type": "execute_result"
    },
    {
     "data": {
      "image/png": "[encoded data removed]",
      "text/plain": [
       "<Figure size 432x288 with 1 Axes>"
      ]
     },
     "metadata": {
      "needs_background": "light"
     },
     "output_type": "display_data"
    }
   ],
   "source": [
    "sns.countplot(df[\"day\"])"
   ]
  },
  {
   "cell_type": "code",
   "execution_count": 37,
   "id": "054afd81",
   "metadata": {},
   "outputs": [
    {
     "data": {
      "text/plain": [
       "<AxesSubplot:xlabel='sex', ylabel='count'>"
      ]
     },
     "execution_count": 37,
     "metadata": {},
     "output_type": "execute_result"
    },
    {
     "data": {
      "image/png": "[encoded data removed]",
      "text/plain": [
       "<Figure size 432x288 with 1 Axes>"
      ]
     },
     "metadata": {
      "needs_background": "light"
     },
     "output_type": "display_data"
    }
   ],
   "source": [
    "sns.countplot(df[\"sex\"])"
   ]
  },
  {
   "cell_type": "code",
   "execution_count": 27,
   "id": "15b2cca5",
   "metadata": {},
   "outputs": [
    {
     "data": {
      "text/html": [
       "<div>\n",
       "<style scoped>\n",
       "    .dataframe tbody tr th:only-of-type {\n",
       "        vertical-align: middle;\n",
       "    }\n",
       "\n",
       "    .dataframe tbody tr th {\n",
       "        vertical-align: top;\n",
       "    }\n",
       "\n",
       "    .dataframe thead th {\n",
       "        text-align: right;\n",
       "    }\n",
       "</style>\n",
       "<table border=\"1\" class=\"dataframe\">\n",
       "  <thead>\n",
       "    <tr style=\"text-align: right;\">\n",
       "      <th></th>\n",
       "      <th>total_bill</th>\n",
       "      <th>tip</th>\n",
       "      <th>sex</th>\n",
       "      <th>smoker</th>\n",
       "      <th>day</th>\n",
       "      <th>time</th>\n",
       "      <th>size</th>\n",
       "    </tr>\n",
       "  </thead>\n",
       "  <tbody>\n",
       "    <tr>\n",
       "      <th>0</th>\n",
       "      <td>16.99</td>\n",
       "      <td>1.01</td>\n",
       "      <td>Female</td>\n",
       "      <td>No</td>\n",
       "      <td>Sun</td>\n",
       "      <td>Dinner</td>\n",
       "      <td>2</td>\n",
       "    </tr>\n",
       "    <tr>\n",
       "      <th>1</th>\n",
       "      <td>10.34</td>\n",
       "      <td>1.66</td>\n",
       "      <td>Male</td>\n",
       "      <td>No</td>\n",
       "      <td>Sun</td>\n",
       "      <td>Dinner</td>\n",
       "      <td>3</td>\n",
       "    </tr>\n",
       "    <tr>\n",
       "      <th>2</th>\n",
       "      <td>21.01</td>\n",
       "      <td>3.50</td>\n",
       "      <td>Male</td>\n",
       "      <td>No</td>\n",
       "      <td>Sun</td>\n",
       "      <td>Dinner</td>\n",
       "      <td>3</td>\n",
       "    </tr>\n",
       "  </tbody>\n",
       "</table>\n",
       "</div>"
      ],
      "text/plain": [
       "   total_bill   tip     sex smoker  day    time  size\n",
       "0       16.99  1.01  Female     No  Sun  Dinner     2\n",
       "1       10.34  1.66    Male     No  Sun  Dinner     3\n",
       "2       21.01  3.50    Male     No  Sun  Dinner     3"
      ]
     },
     "execution_count": 27,
     "metadata": {},
     "output_type": "execute_result"
    }
   ],
   "source": [
    "df.head(3)"
   ]
  },
  {
   "cell_type": "code",
   "execution_count": null,
   "id": "ebe25c19",
   "metadata": {},
   "outputs": [],
   "source": []
  },
  {
   "cell_type": "code",
   "execution_count": 26,
   "id": "27404f35",
   "metadata": {},
   "outputs": [
    {
     "data": {
      "text/plain": [
       "<AxesSubplot:xlabel='time', ylabel='count'>"
      ]
     },
     "execution_count": 26,
     "metadata": {},
     "output_type": "execute_result"
    },
    {
     "data": {
      "image/png": "[encoded data removed]",
      "text/plain": [
       "<Figure size 432x288 with 1 Axes>"
      ]
     },
     "metadata": {
      "needs_background": "light"
     },
     "output_type": "display_data"
    }
   ],
   "source": [
    "sns.countplot(df[\"time\"])"
   ]
  },
  {
   "cell_type": "code",
   "execution_count": 38,
   "id": "6dfb5d9a",
   "metadata": {},
   "outputs": [
    {
     "name": "stderr",
     "output_type": "stream",
     "text": [
      "C:\\Users\\gajula Amar\\anaconda3\\lib\\site-packages\\seaborn\\_decorators.py:36: FutureWarning: Pass the following variable as a keyword arg: x. From version 0.12, the only valid positional argument will be `data`, and passing other arguments without an explicit keyword will result in an error or misinterpretation.\n",
      "  warnings.warn(\n"
     ]
    },
    {
     "data": {
      "text/plain": [
       "<AxesSubplot:xlabel='smoker', ylabel='count'>"
      ]
     },
     "execution_count": 38,
     "metadata": {},
     "output_type": "execute_result"
    },
    {
     "data": {
      "image/png": "[encoded data removed]",
      "text/plain": [
       "<Figure size 432x288 with 1 Axes>"
      ]
     },
     "metadata": {
      "needs_background": "light"
     },
     "output_type": "display_data"
    }
   ],
   "source": [
    "sns.countplot(df['smoker'])"
   ]
  },
  {
   "cell_type": "code",
   "execution_count": null,
   "id": "8aacc268",
   "metadata": {},
   "outputs": [],
   "source": []
  },
  {
   "cell_type": "markdown",
   "id": "6bcfb352",
   "metadata": {},
   "source": [
    "# find out the percentile\n",
    "    use numpy for checking percentile"
   ]
  },
  {
   "cell_type": "code",
   "execution_count": 39,
   "id": "a8a242d7",
   "metadata": {},
   "outputs": [
    {
     "data": {
      "text/plain": [
       "array([13.3475, 24.1275])"
      ]
     },
     "execution_count": 39,
     "metadata": {},
     "output_type": "execute_result"
    }
   ],
   "source": [
    "np.percentile(df[\"total_bill\"],[25,75])"
   ]
  },
  {
   "cell_type": "code",
   "execution_count": 43,
   "id": "3cc69f0d",
   "metadata": {},
   "outputs": [
    {
     "name": "stdout",
     "output_type": "stream",
     "text": [
      "13.3475\n",
      "24.127499999999998\n"
     ]
    }
   ],
   "source": [
    "q1,q3=np.percentile(df[\"total_bill\"],[25,75])\n",
    "print(q1)\n",
    "print(q3)"
   ]
  },
  {
   "cell_type": "code",
   "execution_count": 44,
   "id": "47f8bfce",
   "metadata": {},
   "outputs": [
    {
     "data": {
      "text/html": [
       "<div>\n",
       "<style scoped>\n",
       "    .dataframe tbody tr th:only-of-type {\n",
       "        vertical-align: middle;\n",
       "    }\n",
       "\n",
       "    .dataframe tbody tr th {\n",
       "        vertical-align: top;\n",
       "    }\n",
       "\n",
       "    .dataframe thead th {\n",
       "        text-align: right;\n",
       "    }\n",
       "</style>\n",
       "<table border=\"1\" class=\"dataframe\">\n",
       "  <thead>\n",
       "    <tr style=\"text-align: right;\">\n",
       "      <th></th>\n",
       "      <th>total_bill</th>\n",
       "      <th>tip</th>\n",
       "      <th>size</th>\n",
       "    </tr>\n",
       "  </thead>\n",
       "  <tbody>\n",
       "    <tr>\n",
       "      <th>count</th>\n",
       "      <td>244.000000</td>\n",
       "      <td>244.000000</td>\n",
       "      <td>244.000000</td>\n",
       "    </tr>\n",
       "    <tr>\n",
       "      <th>mean</th>\n",
       "      <td>19.785943</td>\n",
       "      <td>2.998279</td>\n",
       "      <td>2.569672</td>\n",
       "    </tr>\n",
       "    <tr>\n",
       "      <th>std</th>\n",
       "      <td>8.902412</td>\n",
       "      <td>1.383638</td>\n",
       "      <td>0.951100</td>\n",
       "    </tr>\n",
       "    <tr>\n",
       "      <th>min</th>\n",
       "      <td>3.070000</td>\n",
       "      <td>1.000000</td>\n",
       "      <td>1.000000</td>\n",
       "    </tr>\n",
       "    <tr>\n",
       "      <th>25%</th>\n",
       "      <td>13.347500</td>\n",
       "      <td>2.000000</td>\n",
       "      <td>2.000000</td>\n",
       "    </tr>\n",
       "    <tr>\n",
       "      <th>50%</th>\n",
       "      <td>17.795000</td>\n",
       "      <td>2.900000</td>\n",
       "      <td>2.000000</td>\n",
       "    </tr>\n",
       "    <tr>\n",
       "      <th>75%</th>\n",
       "      <td>24.127500</td>\n",
       "      <td>3.562500</td>\n",
       "      <td>3.000000</td>\n",
       "    </tr>\n",
       "    <tr>\n",
       "      <th>max</th>\n",
       "      <td>50.810000</td>\n",
       "      <td>10.000000</td>\n",
       "      <td>6.000000</td>\n",
       "    </tr>\n",
       "  </tbody>\n",
       "</table>\n",
       "</div>"
      ],
      "text/plain": [
       "       total_bill         tip        size\n",
       "count  244.000000  244.000000  244.000000\n",
       "mean    19.785943    2.998279    2.569672\n",
       "std      8.902412    1.383638    0.951100\n",
       "min      3.070000    1.000000    1.000000\n",
       "25%     13.347500    2.000000    2.000000\n",
       "50%     17.795000    2.900000    2.000000\n",
       "75%     24.127500    3.562500    3.000000\n",
       "max     50.810000   10.000000    6.000000"
      ]
     },
     "execution_count": 44,
     "metadata": {},
     "output_type": "execute_result"
    }
   ],
   "source": [
    "df.describe()"
   ]
  },
  {
   "cell_type": "code",
   "execution_count": 48,
   "id": "4a6394b0",
   "metadata": {},
   "outputs": [
    {
     "data": {
      "text/html": [
       "<div>\n",
       "<style scoped>\n",
       "    .dataframe tbody tr th:only-of-type {\n",
       "        vertical-align: middle;\n",
       "    }\n",
       "\n",
       "    .dataframe tbody tr th {\n",
       "        vertical-align: top;\n",
       "    }\n",
       "\n",
       "    .dataframe thead th {\n",
       "        text-align: right;\n",
       "    }\n",
       "</style>\n",
       "<table border=\"1\" class=\"dataframe\">\n",
       "  <thead>\n",
       "    <tr style=\"text-align: right;\">\n",
       "      <th></th>\n",
       "      <th>total_bill</th>\n",
       "      <th>tip</th>\n",
       "      <th>sex</th>\n",
       "      <th>smoker</th>\n",
       "      <th>day</th>\n",
       "      <th>time</th>\n",
       "      <th>size</th>\n",
       "    </tr>\n",
       "  </thead>\n",
       "  <tbody>\n",
       "    <tr>\n",
       "      <th>0</th>\n",
       "      <td>16.99</td>\n",
       "      <td>1.01</td>\n",
       "      <td>Female</td>\n",
       "      <td>No</td>\n",
       "      <td>Sun</td>\n",
       "      <td>Dinner</td>\n",
       "      <td>2</td>\n",
       "    </tr>\n",
       "    <tr>\n",
       "      <th>1</th>\n",
       "      <td>10.34</td>\n",
       "      <td>1.66</td>\n",
       "      <td>Male</td>\n",
       "      <td>No</td>\n",
       "      <td>Sun</td>\n",
       "      <td>Dinner</td>\n",
       "      <td>3</td>\n",
       "    </tr>\n",
       "    <tr>\n",
       "      <th>2</th>\n",
       "      <td>21.01</td>\n",
       "      <td>3.50</td>\n",
       "      <td>Male</td>\n",
       "      <td>No</td>\n",
       "      <td>Sun</td>\n",
       "      <td>Dinner</td>\n",
       "      <td>3</td>\n",
       "    </tr>\n",
       "  </tbody>\n",
       "</table>\n",
       "</div>"
      ],
      "text/plain": [
       "   total_bill   tip     sex smoker  day    time  size\n",
       "0       16.99  1.01  Female     No  Sun  Dinner     2\n",
       "1       10.34  1.66    Male     No  Sun  Dinner     3\n",
       "2       21.01  3.50    Male     No  Sun  Dinner     3"
      ]
     },
     "execution_count": 48,
     "metadata": {},
     "output_type": "execute_result"
    }
   ],
   "source": [
    "df.head(3)"
   ]
  },
  {
   "cell_type": "code",
   "execution_count": 60,
   "id": "d1297d2c",
   "metadata": {},
   "outputs": [
    {
     "data": {
      "text/html": [
       "<div>\n",
       "<style scoped>\n",
       "    .dataframe tbody tr th:only-of-type {\n",
       "        vertical-align: middle;\n",
       "    }\n",
       "\n",
       "    .dataframe tbody tr th {\n",
       "        vertical-align: top;\n",
       "    }\n",
       "\n",
       "    .dataframe thead th {\n",
       "        text-align: right;\n",
       "    }\n",
       "</style>\n",
       "<table border=\"1\" class=\"dataframe\">\n",
       "  <thead>\n",
       "    <tr style=\"text-align: right;\">\n",
       "      <th></th>\n",
       "      <th>total_bill</th>\n",
       "      <th>tip</th>\n",
       "      <th>size</th>\n",
       "    </tr>\n",
       "  </thead>\n",
       "  <tbody>\n",
       "    <tr>\n",
       "      <th>25%</th>\n",
       "      <td>13.3475</td>\n",
       "      <td>2.0000</td>\n",
       "      <td>2.0</td>\n",
       "    </tr>\n",
       "    <tr>\n",
       "      <th>50%</th>\n",
       "      <td>17.7950</td>\n",
       "      <td>2.9000</td>\n",
       "      <td>2.0</td>\n",
       "    </tr>\n",
       "    <tr>\n",
       "      <th>75%</th>\n",
       "      <td>24.1275</td>\n",
       "      <td>3.5625</td>\n",
       "      <td>3.0</td>\n",
       "    </tr>\n",
       "  </tbody>\n",
       "</table>\n",
       "</div>"
      ],
      "text/plain": [
       "     total_bill     tip  size\n",
       "25%     13.3475  2.0000   2.0\n",
       "50%     17.7950  2.9000   2.0\n",
       "75%     24.1275  3.5625   3.0"
      ]
     },
     "execution_count": 60,
     "metadata": {},
     "output_type": "execute_result"
    }
   ],
   "source": [
    "# list indexing\n",
    "df.describe()[4:7] "
   ]
  },
  {
   "cell_type": "code",
   "execution_count": 58,
   "id": "77ab2c38",
   "metadata": {},
   "outputs": [
    {
     "data": {
      "text/html": [
       "<div>\n",
       "<style scoped>\n",
       "    .dataframe tbody tr th:only-of-type {\n",
       "        vertical-align: middle;\n",
       "    }\n",
       "\n",
       "    .dataframe tbody tr th {\n",
       "        vertical-align: top;\n",
       "    }\n",
       "\n",
       "    .dataframe thead th {\n",
       "        text-align: right;\n",
       "    }\n",
       "</style>\n",
       "<table border=\"1\" class=\"dataframe\">\n",
       "  <thead>\n",
       "    <tr style=\"text-align: right;\">\n",
       "      <th></th>\n",
       "      <th>total_bill</th>\n",
       "      <th>tip</th>\n",
       "      <th>size</th>\n",
       "    </tr>\n",
       "  </thead>\n",
       "  <tbody>\n",
       "    <tr>\n",
       "      <th>25%</th>\n",
       "      <td>13.3475</td>\n",
       "      <td>2.0000</td>\n",
       "      <td>2.0</td>\n",
       "    </tr>\n",
       "    <tr>\n",
       "      <th>75%</th>\n",
       "      <td>24.1275</td>\n",
       "      <td>3.5625</td>\n",
       "      <td>3.0</td>\n",
       "    </tr>\n",
       "  </tbody>\n",
       "</table>\n",
       "</div>"
      ],
      "text/plain": [
       "     total_bill     tip  size\n",
       "25%     13.3475  2.0000   2.0\n",
       "75%     24.1275  3.5625   3.0"
      ]
     },
     "execution_count": 58,
     "metadata": {},
     "output_type": "execute_result"
    }
   ],
   "source": [
    "df.describe()[4:7:2]"
   ]
  },
  {
   "cell_type": "code",
   "execution_count": 61,
   "id": "8dd921b7",
   "metadata": {},
   "outputs": [
    {
     "data": {
      "text/html": [
       "<div>\n",
       "<style scoped>\n",
       "    .dataframe tbody tr th:only-of-type {\n",
       "        vertical-align: middle;\n",
       "    }\n",
       "\n",
       "    .dataframe tbody tr th {\n",
       "        vertical-align: top;\n",
       "    }\n",
       "\n",
       "    .dataframe thead th {\n",
       "        text-align: right;\n",
       "    }\n",
       "</style>\n",
       "<table border=\"1\" class=\"dataframe\">\n",
       "  <thead>\n",
       "    <tr style=\"text-align: right;\">\n",
       "      <th></th>\n",
       "      <th>total_bill</th>\n",
       "    </tr>\n",
       "  </thead>\n",
       "  <tbody>\n",
       "    <tr>\n",
       "      <th>25%</th>\n",
       "      <td>13.3475</td>\n",
       "    </tr>\n",
       "    <tr>\n",
       "      <th>75%</th>\n",
       "      <td>24.1275</td>\n",
       "    </tr>\n",
       "  </tbody>\n",
       "</table>\n",
       "</div>"
      ],
      "text/plain": [
       "     total_bill\n",
       "25%     13.3475\n",
       "75%     24.1275"
      ]
     },
     "execution_count": 61,
     "metadata": {},
     "output_type": "execute_result"
    }
   ],
   "source": [
    "df.describe()[4:7:2][['total_bill']]"
   ]
  },
  {
   "cell_type": "code",
   "execution_count": 62,
   "id": "e8459237",
   "metadata": {},
   "outputs": [
    {
     "data": {
      "text/plain": [
       "array([13.3475, 24.1275])"
      ]
     },
     "execution_count": 62,
     "metadata": {},
     "output_type": "execute_result"
    }
   ],
   "source": [
    "np.percentile(df['total_bill'],[25,75])"
   ]
  },
  {
   "cell_type": "code",
   "execution_count": 63,
   "id": "983bd8cb",
   "metadata": {},
   "outputs": [
    {
     "data": {
      "text/plain": [
       "10.780000000000001"
      ]
     },
     "execution_count": 63,
     "metadata": {},
     "output_type": "execute_result"
    }
   ],
   "source": [
    "IQR =24.1275 -13.3475 \n",
    "IQR"
   ]
  },
  {
   "cell_type": "code",
   "execution_count": 55,
   "id": "3cf395d4",
   "metadata": {},
   "outputs": [
    {
     "data": {
      "text/plain": [
       "-2.8225000000000016"
      ]
     },
     "execution_count": 55,
     "metadata": {},
     "output_type": "execute_result"
    }
   ],
   "source": [
    "lowerbound = 13.3475-1.5*IQR\n",
    "lowerbound"
   ]
  },
  {
   "cell_type": "code",
   "execution_count": 56,
   "id": "0184665d",
   "metadata": {},
   "outputs": [
    {
     "data": {
      "text/plain": [
       "40.2975"
      ]
     },
     "execution_count": 56,
     "metadata": {},
     "output_type": "execute_result"
    }
   ],
   "source": [
    "upperbound = 24.1275+1.5*IQR\n",
    "upperbound"
   ]
  },
  {
   "cell_type": "markdown",
   "id": "14d4c75a",
   "metadata": {},
   "source": [
    "# and find IQR  Q3-Q1"
   ]
  },
  {
   "cell_type": "code",
   "execution_count": 57,
   "id": "10990765",
   "metadata": {},
   "outputs": [
    {
     "data": {
      "text/plain": [
       "10.780000000000001"
      ]
     },
     "execution_count": 57,
     "metadata": {},
     "output_type": "execute_result"
    }
   ],
   "source": [
    "IQR=24.1275-13.3475\n",
    "IQR"
   ]
  },
  {
   "cell_type": "code",
   "execution_count": 58,
   "id": "6f79845c",
   "metadata": {},
   "outputs": [],
   "source": [
    "Lower_Fence  = 13.3475 - 1.5*(IQR)\n",
    "Higher_Fence = 24.1275 + 1.5*(IQR)"
   ]
  },
  {
   "cell_type": "code",
   "execution_count": 60,
   "id": "112de439",
   "metadata": {},
   "outputs": [
    {
     "name": "stdout",
     "output_type": "stream",
     "text": [
      " L : -2.8225000000000016   \n",
      " H : 40.2975\n"
     ]
    }
   ],
   "source": [
    "print(\" L :\",Lower_Fence    ,\"  \\n\", \"H :\",Higher_Fence)"
   ]
  },
  {
   "cell_type": "markdown",
   "id": "dc4a260c",
   "metadata": {},
   "source": [
    "    so we come to know here less then \"-2.822\" and greterthen       \"40.2975\" elements are consider as Outliers"
   ]
  },
  {
   "cell_type": "markdown",
   "id": "46abeac0",
   "metadata": {},
   "source": [
    "## try to find oui IQR with \"iris\" with respect to sepal_length"
   ]
  },
  {
   "cell_type": "code",
   "execution_count": 65,
   "id": "ea035b8e",
   "metadata": {},
   "outputs": [],
   "source": [
    "df1=sns.load_dataset(\"Iris\")"
   ]
  },
  {
   "cell_type": "code",
   "execution_count": 66,
   "id": "32119c0e",
   "metadata": {},
   "outputs": [
    {
     "data": {
      "text/html": [
       "<div>\n",
       "<style scoped>\n",
       "    .dataframe tbody tr th:only-of-type {\n",
       "        vertical-align: middle;\n",
       "    }\n",
       "\n",
       "    .dataframe tbody tr th {\n",
       "        vertical-align: top;\n",
       "    }\n",
       "\n",
       "    .dataframe thead th {\n",
       "        text-align: right;\n",
       "    }\n",
       "</style>\n",
       "<table border=\"1\" class=\"dataframe\">\n",
       "  <thead>\n",
       "    <tr style=\"text-align: right;\">\n",
       "      <th></th>\n",
       "      <th>sepal_length</th>\n",
       "      <th>sepal_width</th>\n",
       "      <th>petal_length</th>\n",
       "      <th>petal_width</th>\n",
       "      <th>species</th>\n",
       "    </tr>\n",
       "  </thead>\n",
       "  <tbody>\n",
       "    <tr>\n",
       "      <th>0</th>\n",
       "      <td>5.1</td>\n",
       "      <td>3.5</td>\n",
       "      <td>1.4</td>\n",
       "      <td>0.2</td>\n",
       "      <td>setosa</td>\n",
       "    </tr>\n",
       "    <tr>\n",
       "      <th>1</th>\n",
       "      <td>4.9</td>\n",
       "      <td>3.0</td>\n",
       "      <td>1.4</td>\n",
       "      <td>0.2</td>\n",
       "      <td>setosa</td>\n",
       "    </tr>\n",
       "    <tr>\n",
       "      <th>2</th>\n",
       "      <td>4.7</td>\n",
       "      <td>3.2</td>\n",
       "      <td>1.3</td>\n",
       "      <td>0.2</td>\n",
       "      <td>setosa</td>\n",
       "    </tr>\n",
       "  </tbody>\n",
       "</table>\n",
       "</div>"
      ],
      "text/plain": [
       "   sepal_length  sepal_width  petal_length  petal_width species\n",
       "0           5.1          3.5           1.4          0.2  setosa\n",
       "1           4.9          3.0           1.4          0.2  setosa\n",
       "2           4.7          3.2           1.3          0.2  setosa"
      ]
     },
     "execution_count": 66,
     "metadata": {},
     "output_type": "execute_result"
    }
   ],
   "source": [
    "df1.head(3)"
   ]
  },
  {
   "cell_type": "code",
   "execution_count": null,
   "id": "0ddef43f",
   "metadata": {},
   "outputs": [],
   "source": []
  },
  {
   "cell_type": "code",
   "execution_count": 68,
   "id": "7e5ce028",
   "metadata": {},
   "outputs": [
    {
     "name": "stdout",
     "output_type": "stream",
     "text": [
      "\n",
      " MEAN \n",
      "\n",
      "sepal_length mean =  5.843333333333335\n",
      "sepal_width mean  =  3.057333333333334\n",
      "\n",
      "\n",
      "petal_length mean =  3.7580000000000027\n",
      "petal_width mean  =  1.199333333333334\n",
      "\n",
      " MEDIAN \n",
      "\n",
      "sepal_length median =  5.8\n",
      "sepal_width median  =  3.0\n",
      "\n",
      "\n",
      "petal_length median =  4.35\n",
      "petal_width median  =  1.3\n",
      "\n",
      " MODE with 'statistics'  \n",
      "\n",
      "sepal_length mode =  5.0\n",
      "sepal_width mode  =  3.0\n",
      "\n",
      "\n",
      "petal_length mode =  1.4\n",
      "petal_width mode  =  0.2\n",
      "species mode      =  setosa\n"
     ]
    }
   ],
   "source": [
    "print(\"\\n MEAN \\n\")\n",
    "print(\"sepal_length mean = \",np.mean(df1['sepal_length']))\n",
    "print(\"sepal_width mean  = \",np.mean(df1['sepal_width']))\n",
    "print(\"\\n\")\n",
    "print(\"petal_length mean = \",np.mean(df1['petal_length']))\n",
    "print(\"petal_width mean  = \",np.mean(df1['petal_width']))\n",
    "\n",
    "print(\"\\n MEDIAN \\n\")\n",
    "print(\"sepal_length median = \",np.median(df1['sepal_length']))\n",
    "print(\"sepal_width median  = \",np.median(df1['sepal_width']))\n",
    "print(\"\\n\")\n",
    "print(\"petal_length median = \",np.median(df1['petal_length']))\n",
    "print(\"petal_width median  = \",np.median(df1['petal_width']))\n",
    "\n",
    "print(\"\\n MODE with 'statistics'  \\n\")\n",
    "print(\"sepal_length mode = \",statistics.mode(df1['sepal_length']))\n",
    "print(\"sepal_width mode  = \",statistics.mode(df1['sepal_width']))\n",
    "print(\"\\n\")\n",
    "print(\"petal_length mode = \",statistics.mode(df1['petal_length']))\n",
    "print(\"petal_width mode  = \",statistics.mode(df1['petal_width']))\n",
    "\n",
    "\n",
    "print(\"species mode      = \",statistics.mode(df1['species']))\n",
    "\n",
    "\n",
    "\n",
    "\n",
    "\n"
   ]
  },
  {
   "cell_type": "code",
   "execution_count": 70,
   "id": "9deaee60",
   "metadata": {},
   "outputs": [
    {
     "data": {
      "text/html": [
       "<div>\n",
       "<style scoped>\n",
       "    .dataframe tbody tr th:only-of-type {\n",
       "        vertical-align: middle;\n",
       "    }\n",
       "\n",
       "    .dataframe tbody tr th {\n",
       "        vertical-align: top;\n",
       "    }\n",
       "\n",
       "    .dataframe thead th {\n",
       "        text-align: right;\n",
       "    }\n",
       "</style>\n",
       "<table border=\"1\" class=\"dataframe\">\n",
       "  <thead>\n",
       "    <tr style=\"text-align: right;\">\n",
       "      <th></th>\n",
       "      <th>sepal_length</th>\n",
       "      <th>sepal_width</th>\n",
       "      <th>petal_length</th>\n",
       "      <th>petal_width</th>\n",
       "      <th>species</th>\n",
       "    </tr>\n",
       "  </thead>\n",
       "  <tbody>\n",
       "    <tr>\n",
       "      <th>0</th>\n",
       "      <td>5.1</td>\n",
       "      <td>3.5</td>\n",
       "      <td>1.4</td>\n",
       "      <td>0.2</td>\n",
       "      <td>setosa</td>\n",
       "    </tr>\n",
       "    <tr>\n",
       "      <th>1</th>\n",
       "      <td>4.9</td>\n",
       "      <td>3.0</td>\n",
       "      <td>1.4</td>\n",
       "      <td>0.2</td>\n",
       "      <td>setosa</td>\n",
       "    </tr>\n",
       "    <tr>\n",
       "      <th>2</th>\n",
       "      <td>4.7</td>\n",
       "      <td>3.2</td>\n",
       "      <td>1.3</td>\n",
       "      <td>0.2</td>\n",
       "      <td>setosa</td>\n",
       "    </tr>\n",
       "    <tr>\n",
       "      <th>3</th>\n",
       "      <td>4.6</td>\n",
       "      <td>3.1</td>\n",
       "      <td>1.5</td>\n",
       "      <td>0.2</td>\n",
       "      <td>setosa</td>\n",
       "    </tr>\n",
       "    <tr>\n",
       "      <th>4</th>\n",
       "      <td>5.0</td>\n",
       "      <td>3.6</td>\n",
       "      <td>1.4</td>\n",
       "      <td>0.2</td>\n",
       "      <td>setosa</td>\n",
       "    </tr>\n",
       "    <tr>\n",
       "      <th>...</th>\n",
       "      <td>...</td>\n",
       "      <td>...</td>\n",
       "      <td>...</td>\n",
       "      <td>...</td>\n",
       "      <td>...</td>\n",
       "    </tr>\n",
       "    <tr>\n",
       "      <th>145</th>\n",
       "      <td>6.7</td>\n",
       "      <td>3.0</td>\n",
       "      <td>5.2</td>\n",
       "      <td>2.3</td>\n",
       "      <td>virginica</td>\n",
       "    </tr>\n",
       "    <tr>\n",
       "      <th>146</th>\n",
       "      <td>6.3</td>\n",
       "      <td>2.5</td>\n",
       "      <td>5.0</td>\n",
       "      <td>1.9</td>\n",
       "      <td>virginica</td>\n",
       "    </tr>\n",
       "    <tr>\n",
       "      <th>147</th>\n",
       "      <td>6.5</td>\n",
       "      <td>3.0</td>\n",
       "      <td>5.2</td>\n",
       "      <td>2.0</td>\n",
       "      <td>virginica</td>\n",
       "    </tr>\n",
       "    <tr>\n",
       "      <th>148</th>\n",
       "      <td>6.2</td>\n",
       "      <td>3.4</td>\n",
       "      <td>5.4</td>\n",
       "      <td>2.3</td>\n",
       "      <td>virginica</td>\n",
       "    </tr>\n",
       "    <tr>\n",
       "      <th>149</th>\n",
       "      <td>5.9</td>\n",
       "      <td>3.0</td>\n",
       "      <td>5.1</td>\n",
       "      <td>1.8</td>\n",
       "      <td>virginica</td>\n",
       "    </tr>\n",
       "  </tbody>\n",
       "</table>\n",
       "<p>150 rows × 5 columns</p>\n",
       "</div>"
      ],
      "text/plain": [
       "     sepal_length  sepal_width  petal_length  petal_width    species\n",
       "0             5.1          3.5           1.4          0.2     setosa\n",
       "1             4.9          3.0           1.4          0.2     setosa\n",
       "2             4.7          3.2           1.3          0.2     setosa\n",
       "3             4.6          3.1           1.5          0.2     setosa\n",
       "4             5.0          3.6           1.4          0.2     setosa\n",
       "..            ...          ...           ...          ...        ...\n",
       "145           6.7          3.0           5.2          2.3  virginica\n",
       "146           6.3          2.5           5.0          1.9  virginica\n",
       "147           6.5          3.0           5.2          2.0  virginica\n",
       "148           6.2          3.4           5.4          2.3  virginica\n",
       "149           5.9          3.0           5.1          1.8  virginica\n",
       "\n",
       "[150 rows x 5 columns]"
      ]
     },
     "execution_count": 70,
     "metadata": {},
     "output_type": "execute_result"
    }
   ],
   "source": [
    "df1"
   ]
  },
  {
   "cell_type": "code",
   "execution_count": 68,
   "id": "c8aef270",
   "metadata": {},
   "outputs": [
    {
     "ename": "TypeError",
     "evalue": "Could not convert setosasetosasetosasetosasetosasetosasetosasetosasetosasetosasetosasetosasetosasetosasetosasetosasetosasetosasetosasetosasetosasetosasetosasetosasetosasetosasetosasetosasetosasetosasetosasetosasetosasetosasetosasetosasetosasetosasetosasetosasetosasetosasetosasetosasetosasetosasetosasetosasetosasetosaversicolorversicolorversicolorversicolorversicolorversicolorversicolorversicolorversicolorversicolorversicolorversicolorversicolorversicolorversicolorversicolorversicolorversicolorversicolorversicolorversicolorversicolorversicolorversicolorversicolorversicolorversicolorversicolorversicolorversicolorversicolorversicolorversicolorversicolorversicolorversicolorversicolorversicolorversicolorversicolorversicolorversicolorversicolorversicolorversicolorversicolorversicolorversicolorversicolorversicolorvirginicavirginicavirginicavirginicavirginicavirginicavirginicavirginicavirginicavirginicavirginicavirginicavirginicavirginicavirginicavirginicavirginicavirginicavirginicavirginicavirginicavirginicavirginicavirginicavirginicavirginicavirginicavirginicavirginicavirginicavirginicavirginicavirginicavirginicavirginicavirginicavirginicavirginicavirginicavirginicavirginicavirginicavirginicavirginicavirginicavirginicavirginicavirginicavirginicavirginica to numeric",
     "output_type": "error",
     "traceback": [
      "\u001b[1;31m---------------------------------------------------------------------------\u001b[0m",
      "\u001b[1;31mValueError\u001b[0m                                Traceback (most recent call last)",
      "\u001b[1;32m~\\anaconda3\\lib\\site-packages\\pandas\\core\\nanops.py\u001b[0m in \u001b[0;36m_ensure_numeric\u001b[1;34m(x)\u001b[0m\n\u001b[0;32m   1601\u001b[0m         \u001b[1;32mtry\u001b[0m\u001b[1;33m:\u001b[0m\u001b[1;33m\u001b[0m\u001b[1;33m\u001b[0m\u001b[0m\n\u001b[1;32m-> 1602\u001b[1;33m             \u001b[0mx\u001b[0m \u001b[1;33m=\u001b[0m \u001b[0mfloat\u001b[0m\u001b[1;33m(\u001b[0m\u001b[0mx\u001b[0m\u001b[1;33m)\u001b[0m\u001b[1;33m\u001b[0m\u001b[1;33m\u001b[0m\u001b[0m\n\u001b[0m\u001b[0;32m   1603\u001b[0m         \u001b[1;32mexcept\u001b[0m \u001b[1;33m(\u001b[0m\u001b[0mTypeError\u001b[0m\u001b[1;33m,\u001b[0m \u001b[0mValueError\u001b[0m\u001b[1;33m)\u001b[0m\u001b[1;33m:\u001b[0m\u001b[1;33m\u001b[0m\u001b[1;33m\u001b[0m\u001b[0m\n",
      "\u001b[1;31mValueError\u001b[0m: could not convert string to float: 'setosasetosasetosasetosasetosasetosasetosasetosasetosasetosasetosasetosasetosasetosasetosasetosasetosasetosasetosasetosasetosasetosasetosasetosasetosasetosasetosasetosasetosasetosasetosasetosasetosasetosasetosasetosasetosasetosasetosasetosasetosasetosasetosasetosasetosasetosasetosasetosasetosasetosaversicolorversicolorversicolorversicolorversicolorversicolorversicolorversicolorversicolorversicolorversicolorversicolorversicolorversicolorversicolorversicolorversicolorversicolorversicolorversicolorversicolorversicolorversicolorversicolorversicolorversicolorversicolorversicolorversicolorversicolorversicolorversicolorversicolorversicolorversicolorversicolorversicolorversicolorversicolorversicolorversicolorversicolorversicolorversicolorversicolorversicolorversicolorversicolorversicolorversicolorvirginicavirginicavirginicavirginicavirginicavirginicavirginicavirginicavirginicavirginicavirginicavirginicavirginicavirginicavirginicavirginicavirginicavirginicavirginicavirginicavirginicavirginicavirginicavirginicavirginicavirginicavirginicavirginicavirginicavirginicavirginicavirginicavirginicavirginicavirginicavirginicavirginicavirginicavirginicavirginicavirginicavirginicavirginicavirginicavirginicavirginicavirginicavirginicavirginicavirginica'",
      "\nDuring handling of the above exception, another exception occurred:\n",
      "\u001b[1;31mValueError\u001b[0m                                Traceback (most recent call last)",
      "\u001b[1;32m~\\anaconda3\\lib\\site-packages\\pandas\\core\\nanops.py\u001b[0m in \u001b[0;36m_ensure_numeric\u001b[1;34m(x)\u001b[0m\n\u001b[0;32m   1605\u001b[0m             \u001b[1;32mtry\u001b[0m\u001b[1;33m:\u001b[0m\u001b[1;33m\u001b[0m\u001b[1;33m\u001b[0m\u001b[0m\n\u001b[1;32m-> 1606\u001b[1;33m                 \u001b[0mx\u001b[0m \u001b[1;33m=\u001b[0m \u001b[0mcomplex\u001b[0m\u001b[1;33m(\u001b[0m\u001b[0mx\u001b[0m\u001b[1;33m)\u001b[0m\u001b[1;33m\u001b[0m\u001b[1;33m\u001b[0m\u001b[0m\n\u001b[0m\u001b[0;32m   1607\u001b[0m             \u001b[1;32mexcept\u001b[0m \u001b[0mValueError\u001b[0m \u001b[1;32mas\u001b[0m \u001b[0merr\u001b[0m\u001b[1;33m:\u001b[0m\u001b[1;33m\u001b[0m\u001b[1;33m\u001b[0m\u001b[0m\n",
      "\u001b[1;31mValueError\u001b[0m: complex() arg is a malformed string",
      "\nThe above exception was the direct cause of the following exception:\n",
      "\u001b[1;31mTypeError\u001b[0m                                 Traceback (most recent call last)",
      "\u001b[1;32mC:\\conda_tmp/ipykernel_22648/1663657657.py\u001b[0m in \u001b[0;36m<cell line: 1>\u001b[1;34m()\u001b[0m\n\u001b[1;32m----> 1\u001b[1;33m \u001b[0mnp\u001b[0m\u001b[1;33m.\u001b[0m\u001b[0mmean\u001b[0m\u001b[1;33m(\u001b[0m\u001b[0mdf1\u001b[0m\u001b[1;33m[\u001b[0m\u001b[1;34m'species'\u001b[0m\u001b[1;33m]\u001b[0m\u001b[1;33m)\u001b[0m\u001b[1;33m\u001b[0m\u001b[1;33m\u001b[0m\u001b[0m\n\u001b[0m",
      "\u001b[1;32m<__array_function__ internals>\u001b[0m in \u001b[0;36mmean\u001b[1;34m(*args, **kwargs)\u001b[0m\n",
      "\u001b[1;32m~\\anaconda3\\lib\\site-packages\\numpy\\core\\fromnumeric.py\u001b[0m in \u001b[0;36mmean\u001b[1;34m(a, axis, dtype, out, keepdims, where)\u001b[0m\n\u001b[0;32m   3415\u001b[0m             \u001b[1;32mpass\u001b[0m\u001b[1;33m\u001b[0m\u001b[1;33m\u001b[0m\u001b[0m\n\u001b[0;32m   3416\u001b[0m         \u001b[1;32melse\u001b[0m\u001b[1;33m:\u001b[0m\u001b[1;33m\u001b[0m\u001b[1;33m\u001b[0m\u001b[0m\n\u001b[1;32m-> 3417\u001b[1;33m             \u001b[1;32mreturn\u001b[0m \u001b[0mmean\u001b[0m\u001b[1;33m(\u001b[0m\u001b[0maxis\u001b[0m\u001b[1;33m=\u001b[0m\u001b[0maxis\u001b[0m\u001b[1;33m,\u001b[0m \u001b[0mdtype\u001b[0m\u001b[1;33m=\u001b[0m\u001b[0mdtype\u001b[0m\u001b[1;33m,\u001b[0m \u001b[0mout\u001b[0m\u001b[1;33m=\u001b[0m\u001b[0mout\u001b[0m\u001b[1;33m,\u001b[0m \u001b[1;33m**\u001b[0m\u001b[0mkwargs\u001b[0m\u001b[1;33m)\u001b[0m\u001b[1;33m\u001b[0m\u001b[1;33m\u001b[0m\u001b[0m\n\u001b[0m\u001b[0;32m   3418\u001b[0m \u001b[1;33m\u001b[0m\u001b[0m\n\u001b[0;32m   3419\u001b[0m     return _methods._mean(a, axis=axis, dtype=dtype,\n",
      "\u001b[1;32m~\\anaconda3\\lib\\site-packages\\pandas\\core\\generic.py\u001b[0m in \u001b[0;36mmean\u001b[1;34m(self, axis, skipna, level, numeric_only, **kwargs)\u001b[0m\n\u001b[0;32m  10749\u001b[0m         )\n\u001b[0;32m  10750\u001b[0m         \u001b[1;32mdef\u001b[0m \u001b[0mmean\u001b[0m\u001b[1;33m(\u001b[0m\u001b[0mself\u001b[0m\u001b[1;33m,\u001b[0m \u001b[0maxis\u001b[0m\u001b[1;33m=\u001b[0m\u001b[1;32mNone\u001b[0m\u001b[1;33m,\u001b[0m \u001b[0mskipna\u001b[0m\u001b[1;33m=\u001b[0m\u001b[1;32mNone\u001b[0m\u001b[1;33m,\u001b[0m \u001b[0mlevel\u001b[0m\u001b[1;33m=\u001b[0m\u001b[1;32mNone\u001b[0m\u001b[1;33m,\u001b[0m \u001b[0mnumeric_only\u001b[0m\u001b[1;33m=\u001b[0m\u001b[1;32mNone\u001b[0m\u001b[1;33m,\u001b[0m \u001b[1;33m**\u001b[0m\u001b[0mkwargs\u001b[0m\u001b[1;33m)\u001b[0m\u001b[1;33m:\u001b[0m\u001b[1;33m\u001b[0m\u001b[1;33m\u001b[0m\u001b[0m\n\u001b[1;32m> 10751\u001b[1;33m             \u001b[1;32mreturn\u001b[0m \u001b[0mNDFrame\u001b[0m\u001b[1;33m.\u001b[0m\u001b[0mmean\u001b[0m\u001b[1;33m(\u001b[0m\u001b[0mself\u001b[0m\u001b[1;33m,\u001b[0m \u001b[0maxis\u001b[0m\u001b[1;33m,\u001b[0m \u001b[0mskipna\u001b[0m\u001b[1;33m,\u001b[0m \u001b[0mlevel\u001b[0m\u001b[1;33m,\u001b[0m \u001b[0mnumeric_only\u001b[0m\u001b[1;33m,\u001b[0m \u001b[1;33m**\u001b[0m\u001b[0mkwargs\u001b[0m\u001b[1;33m)\u001b[0m\u001b[1;33m\u001b[0m\u001b[1;33m\u001b[0m\u001b[0m\n\u001b[0m\u001b[0;32m  10752\u001b[0m \u001b[1;33m\u001b[0m\u001b[0m\n\u001b[0;32m  10753\u001b[0m         \u001b[0msetattr\u001b[0m\u001b[1;33m(\u001b[0m\u001b[0mcls\u001b[0m\u001b[1;33m,\u001b[0m \u001b[1;34m\"mean\"\u001b[0m\u001b[1;33m,\u001b[0m \u001b[0mmean\u001b[0m\u001b[1;33m)\u001b[0m\u001b[1;33m\u001b[0m\u001b[1;33m\u001b[0m\u001b[0m\n",
      "\u001b[1;32m~\\anaconda3\\lib\\site-packages\\pandas\\core\\generic.py\u001b[0m in \u001b[0;36mmean\u001b[1;34m(self, axis, skipna, level, numeric_only, **kwargs)\u001b[0m\n\u001b[0;32m  10367\u001b[0m \u001b[1;33m\u001b[0m\u001b[0m\n\u001b[0;32m  10368\u001b[0m     \u001b[1;32mdef\u001b[0m \u001b[0mmean\u001b[0m\u001b[1;33m(\u001b[0m\u001b[0mself\u001b[0m\u001b[1;33m,\u001b[0m \u001b[0maxis\u001b[0m\u001b[1;33m=\u001b[0m\u001b[1;32mNone\u001b[0m\u001b[1;33m,\u001b[0m \u001b[0mskipna\u001b[0m\u001b[1;33m=\u001b[0m\u001b[1;32mNone\u001b[0m\u001b[1;33m,\u001b[0m \u001b[0mlevel\u001b[0m\u001b[1;33m=\u001b[0m\u001b[1;32mNone\u001b[0m\u001b[1;33m,\u001b[0m \u001b[0mnumeric_only\u001b[0m\u001b[1;33m=\u001b[0m\u001b[1;32mNone\u001b[0m\u001b[1;33m,\u001b[0m \u001b[1;33m**\u001b[0m\u001b[0mkwargs\u001b[0m\u001b[1;33m)\u001b[0m\u001b[1;33m:\u001b[0m\u001b[1;33m\u001b[0m\u001b[1;33m\u001b[0m\u001b[0m\n\u001b[1;32m> 10369\u001b[1;33m         return self._stat_function(\n\u001b[0m\u001b[0;32m  10370\u001b[0m             \u001b[1;34m\"mean\"\u001b[0m\u001b[1;33m,\u001b[0m \u001b[0mnanops\u001b[0m\u001b[1;33m.\u001b[0m\u001b[0mnanmean\u001b[0m\u001b[1;33m,\u001b[0m \u001b[0maxis\u001b[0m\u001b[1;33m,\u001b[0m \u001b[0mskipna\u001b[0m\u001b[1;33m,\u001b[0m \u001b[0mlevel\u001b[0m\u001b[1;33m,\u001b[0m \u001b[0mnumeric_only\u001b[0m\u001b[1;33m,\u001b[0m \u001b[1;33m**\u001b[0m\u001b[0mkwargs\u001b[0m\u001b[1;33m\u001b[0m\u001b[1;33m\u001b[0m\u001b[0m\n\u001b[0;32m  10371\u001b[0m         )\n",
      "\u001b[1;32m~\\anaconda3\\lib\\site-packages\\pandas\\core\\generic.py\u001b[0m in \u001b[0;36m_stat_function\u001b[1;34m(self, name, func, axis, skipna, level, numeric_only, **kwargs)\u001b[0m\n\u001b[0;32m  10352\u001b[0m                 \u001b[0mname\u001b[0m\u001b[1;33m,\u001b[0m \u001b[0maxis\u001b[0m\u001b[1;33m=\u001b[0m\u001b[0maxis\u001b[0m\u001b[1;33m,\u001b[0m \u001b[0mlevel\u001b[0m\u001b[1;33m=\u001b[0m\u001b[0mlevel\u001b[0m\u001b[1;33m,\u001b[0m \u001b[0mskipna\u001b[0m\u001b[1;33m=\u001b[0m\u001b[0mskipna\u001b[0m\u001b[1;33m,\u001b[0m \u001b[0mnumeric_only\u001b[0m\u001b[1;33m=\u001b[0m\u001b[0mnumeric_only\u001b[0m\u001b[1;33m\u001b[0m\u001b[1;33m\u001b[0m\u001b[0m\n\u001b[0;32m  10353\u001b[0m             )\n\u001b[1;32m> 10354\u001b[1;33m         return self._reduce(\n\u001b[0m\u001b[0;32m  10355\u001b[0m             \u001b[0mfunc\u001b[0m\u001b[1;33m,\u001b[0m \u001b[0mname\u001b[0m\u001b[1;33m=\u001b[0m\u001b[0mname\u001b[0m\u001b[1;33m,\u001b[0m \u001b[0maxis\u001b[0m\u001b[1;33m=\u001b[0m\u001b[0maxis\u001b[0m\u001b[1;33m,\u001b[0m \u001b[0mskipna\u001b[0m\u001b[1;33m=\u001b[0m\u001b[0mskipna\u001b[0m\u001b[1;33m,\u001b[0m \u001b[0mnumeric_only\u001b[0m\u001b[1;33m=\u001b[0m\u001b[0mnumeric_only\u001b[0m\u001b[1;33m\u001b[0m\u001b[1;33m\u001b[0m\u001b[0m\n\u001b[0;32m  10356\u001b[0m         )\n",
      "\u001b[1;32m~\\anaconda3\\lib\\site-packages\\pandas\\core\\series.py\u001b[0m in \u001b[0;36m_reduce\u001b[1;34m(self, op, name, axis, skipna, numeric_only, filter_type, **kwds)\u001b[0m\n\u001b[0;32m   4390\u001b[0m                 )\n\u001b[0;32m   4391\u001b[0m             \u001b[1;32mwith\u001b[0m \u001b[0mnp\u001b[0m\u001b[1;33m.\u001b[0m\u001b[0merrstate\u001b[0m\u001b[1;33m(\u001b[0m\u001b[0mall\u001b[0m\u001b[1;33m=\u001b[0m\u001b[1;34m\"ignore\"\u001b[0m\u001b[1;33m)\u001b[0m\u001b[1;33m:\u001b[0m\u001b[1;33m\u001b[0m\u001b[1;33m\u001b[0m\u001b[0m\n\u001b[1;32m-> 4392\u001b[1;33m                 \u001b[1;32mreturn\u001b[0m \u001b[0mop\u001b[0m\u001b[1;33m(\u001b[0m\u001b[0mdelegate\u001b[0m\u001b[1;33m,\u001b[0m \u001b[0mskipna\u001b[0m\u001b[1;33m=\u001b[0m\u001b[0mskipna\u001b[0m\u001b[1;33m,\u001b[0m \u001b[1;33m**\u001b[0m\u001b[0mkwds\u001b[0m\u001b[1;33m)\u001b[0m\u001b[1;33m\u001b[0m\u001b[1;33m\u001b[0m\u001b[0m\n\u001b[0m\u001b[0;32m   4393\u001b[0m \u001b[1;33m\u001b[0m\u001b[0m\n\u001b[0;32m   4394\u001b[0m     def _reindex_indexer(\n",
      "\u001b[1;32m~\\anaconda3\\lib\\site-packages\\pandas\\core\\nanops.py\u001b[0m in \u001b[0;36m_f\u001b[1;34m(*args, **kwargs)\u001b[0m\n\u001b[0;32m     91\u001b[0m             \u001b[1;32mtry\u001b[0m\u001b[1;33m:\u001b[0m\u001b[1;33m\u001b[0m\u001b[1;33m\u001b[0m\u001b[0m\n\u001b[0;32m     92\u001b[0m                 \u001b[1;32mwith\u001b[0m \u001b[0mnp\u001b[0m\u001b[1;33m.\u001b[0m\u001b[0merrstate\u001b[0m\u001b[1;33m(\u001b[0m\u001b[0minvalid\u001b[0m\u001b[1;33m=\u001b[0m\u001b[1;34m\"ignore\"\u001b[0m\u001b[1;33m)\u001b[0m\u001b[1;33m:\u001b[0m\u001b[1;33m\u001b[0m\u001b[1;33m\u001b[0m\u001b[0m\n\u001b[1;32m---> 93\u001b[1;33m                     \u001b[1;32mreturn\u001b[0m \u001b[0mf\u001b[0m\u001b[1;33m(\u001b[0m\u001b[1;33m*\u001b[0m\u001b[0margs\u001b[0m\u001b[1;33m,\u001b[0m \u001b[1;33m**\u001b[0m\u001b[0mkwargs\u001b[0m\u001b[1;33m)\u001b[0m\u001b[1;33m\u001b[0m\u001b[1;33m\u001b[0m\u001b[0m\n\u001b[0m\u001b[0;32m     94\u001b[0m             \u001b[1;32mexcept\u001b[0m \u001b[0mValueError\u001b[0m \u001b[1;32mas\u001b[0m \u001b[0me\u001b[0m\u001b[1;33m:\u001b[0m\u001b[1;33m\u001b[0m\u001b[1;33m\u001b[0m\u001b[0m\n\u001b[0;32m     95\u001b[0m                 \u001b[1;31m# we want to transform an object array\u001b[0m\u001b[1;33m\u001b[0m\u001b[1;33m\u001b[0m\u001b[0m\n",
      "\u001b[1;32m~\\anaconda3\\lib\\site-packages\\pandas\\core\\nanops.py\u001b[0m in \u001b[0;36mf\u001b[1;34m(values, axis, skipna, **kwds)\u001b[0m\n\u001b[0;32m    153\u001b[0m                     \u001b[0mresult\u001b[0m \u001b[1;33m=\u001b[0m \u001b[0malt\u001b[0m\u001b[1;33m(\u001b[0m\u001b[0mvalues\u001b[0m\u001b[1;33m,\u001b[0m \u001b[0maxis\u001b[0m\u001b[1;33m=\u001b[0m\u001b[0maxis\u001b[0m\u001b[1;33m,\u001b[0m \u001b[0mskipna\u001b[0m\u001b[1;33m=\u001b[0m\u001b[0mskipna\u001b[0m\u001b[1;33m,\u001b[0m \u001b[1;33m**\u001b[0m\u001b[0mkwds\u001b[0m\u001b[1;33m)\u001b[0m\u001b[1;33m\u001b[0m\u001b[1;33m\u001b[0m\u001b[0m\n\u001b[0;32m    154\u001b[0m             \u001b[1;32melse\u001b[0m\u001b[1;33m:\u001b[0m\u001b[1;33m\u001b[0m\u001b[1;33m\u001b[0m\u001b[0m\n\u001b[1;32m--> 155\u001b[1;33m                 \u001b[0mresult\u001b[0m \u001b[1;33m=\u001b[0m \u001b[0malt\u001b[0m\u001b[1;33m(\u001b[0m\u001b[0mvalues\u001b[0m\u001b[1;33m,\u001b[0m \u001b[0maxis\u001b[0m\u001b[1;33m=\u001b[0m\u001b[0maxis\u001b[0m\u001b[1;33m,\u001b[0m \u001b[0mskipna\u001b[0m\u001b[1;33m=\u001b[0m\u001b[0mskipna\u001b[0m\u001b[1;33m,\u001b[0m \u001b[1;33m**\u001b[0m\u001b[0mkwds\u001b[0m\u001b[1;33m)\u001b[0m\u001b[1;33m\u001b[0m\u001b[1;33m\u001b[0m\u001b[0m\n\u001b[0m\u001b[0;32m    156\u001b[0m \u001b[1;33m\u001b[0m\u001b[0m\n\u001b[0;32m    157\u001b[0m             \u001b[1;32mreturn\u001b[0m \u001b[0mresult\u001b[0m\u001b[1;33m\u001b[0m\u001b[1;33m\u001b[0m\u001b[0m\n",
      "\u001b[1;32m~\\anaconda3\\lib\\site-packages\\pandas\\core\\nanops.py\u001b[0m in \u001b[0;36mnew_func\u001b[1;34m(values, axis, skipna, mask, **kwargs)\u001b[0m\n\u001b[0;32m    408\u001b[0m             \u001b[0mmask\u001b[0m \u001b[1;33m=\u001b[0m \u001b[0misna\u001b[0m\u001b[1;33m(\u001b[0m\u001b[0mvalues\u001b[0m\u001b[1;33m)\u001b[0m\u001b[1;33m\u001b[0m\u001b[1;33m\u001b[0m\u001b[0m\n\u001b[0;32m    409\u001b[0m \u001b[1;33m\u001b[0m\u001b[0m\n\u001b[1;32m--> 410\u001b[1;33m         \u001b[0mresult\u001b[0m \u001b[1;33m=\u001b[0m \u001b[0mfunc\u001b[0m\u001b[1;33m(\u001b[0m\u001b[0mvalues\u001b[0m\u001b[1;33m,\u001b[0m \u001b[0maxis\u001b[0m\u001b[1;33m=\u001b[0m\u001b[0maxis\u001b[0m\u001b[1;33m,\u001b[0m \u001b[0mskipna\u001b[0m\u001b[1;33m=\u001b[0m\u001b[0mskipna\u001b[0m\u001b[1;33m,\u001b[0m \u001b[0mmask\u001b[0m\u001b[1;33m=\u001b[0m\u001b[0mmask\u001b[0m\u001b[1;33m,\u001b[0m \u001b[1;33m**\u001b[0m\u001b[0mkwargs\u001b[0m\u001b[1;33m)\u001b[0m\u001b[1;33m\u001b[0m\u001b[1;33m\u001b[0m\u001b[0m\n\u001b[0m\u001b[0;32m    411\u001b[0m \u001b[1;33m\u001b[0m\u001b[0m\n\u001b[0;32m    412\u001b[0m         \u001b[1;32mif\u001b[0m \u001b[0mdatetimelike\u001b[0m\u001b[1;33m:\u001b[0m\u001b[1;33m\u001b[0m\u001b[1;33m\u001b[0m\u001b[0m\n",
      "\u001b[1;32m~\\anaconda3\\lib\\site-packages\\pandas\\core\\nanops.py\u001b[0m in \u001b[0;36mnanmean\u001b[1;34m(values, axis, skipna, mask)\u001b[0m\n\u001b[0;32m    663\u001b[0m \u001b[1;33m\u001b[0m\u001b[0m\n\u001b[0;32m    664\u001b[0m     \u001b[0mcount\u001b[0m \u001b[1;33m=\u001b[0m \u001b[0m_get_counts\u001b[0m\u001b[1;33m(\u001b[0m\u001b[0mvalues\u001b[0m\u001b[1;33m.\u001b[0m\u001b[0mshape\u001b[0m\u001b[1;33m,\u001b[0m \u001b[0mmask\u001b[0m\u001b[1;33m,\u001b[0m \u001b[0maxis\u001b[0m\u001b[1;33m,\u001b[0m \u001b[0mdtype\u001b[0m\u001b[1;33m=\u001b[0m\u001b[0mdtype_count\u001b[0m\u001b[1;33m)\u001b[0m\u001b[1;33m\u001b[0m\u001b[1;33m\u001b[0m\u001b[0m\n\u001b[1;32m--> 665\u001b[1;33m     \u001b[0mthe_sum\u001b[0m \u001b[1;33m=\u001b[0m \u001b[0m_ensure_numeric\u001b[0m\u001b[1;33m(\u001b[0m\u001b[0mvalues\u001b[0m\u001b[1;33m.\u001b[0m\u001b[0msum\u001b[0m\u001b[1;33m(\u001b[0m\u001b[0maxis\u001b[0m\u001b[1;33m,\u001b[0m \u001b[0mdtype\u001b[0m\u001b[1;33m=\u001b[0m\u001b[0mdtype_sum\u001b[0m\u001b[1;33m)\u001b[0m\u001b[1;33m)\u001b[0m\u001b[1;33m\u001b[0m\u001b[1;33m\u001b[0m\u001b[0m\n\u001b[0m\u001b[0;32m    666\u001b[0m \u001b[1;33m\u001b[0m\u001b[0m\n\u001b[0;32m    667\u001b[0m     \u001b[1;32mif\u001b[0m \u001b[0maxis\u001b[0m \u001b[1;32mis\u001b[0m \u001b[1;32mnot\u001b[0m \u001b[1;32mNone\u001b[0m \u001b[1;32mand\u001b[0m \u001b[0mgetattr\u001b[0m\u001b[1;33m(\u001b[0m\u001b[0mthe_sum\u001b[0m\u001b[1;33m,\u001b[0m \u001b[1;34m\"ndim\"\u001b[0m\u001b[1;33m,\u001b[0m \u001b[1;32mFalse\u001b[0m\u001b[1;33m)\u001b[0m\u001b[1;33m:\u001b[0m\u001b[1;33m\u001b[0m\u001b[1;33m\u001b[0m\u001b[0m\n",
      "\u001b[1;32m~\\anaconda3\\lib\\site-packages\\pandas\\core\\nanops.py\u001b[0m in \u001b[0;36m_ensure_numeric\u001b[1;34m(x)\u001b[0m\n\u001b[0;32m   1607\u001b[0m             \u001b[1;32mexcept\u001b[0m \u001b[0mValueError\u001b[0m \u001b[1;32mas\u001b[0m \u001b[0merr\u001b[0m\u001b[1;33m:\u001b[0m\u001b[1;33m\u001b[0m\u001b[1;33m\u001b[0m\u001b[0m\n\u001b[0;32m   1608\u001b[0m                 \u001b[1;31m# e.g. \"foo\"\u001b[0m\u001b[1;33m\u001b[0m\u001b[1;33m\u001b[0m\u001b[0m\n\u001b[1;32m-> 1609\u001b[1;33m                 \u001b[1;32mraise\u001b[0m \u001b[0mTypeError\u001b[0m\u001b[1;33m(\u001b[0m\u001b[1;34mf\"Could not convert {x} to numeric\"\u001b[0m\u001b[1;33m)\u001b[0m \u001b[1;32mfrom\u001b[0m \u001b[0merr\u001b[0m\u001b[1;33m\u001b[0m\u001b[1;33m\u001b[0m\u001b[0m\n\u001b[0m\u001b[0;32m   1610\u001b[0m     \u001b[1;32mreturn\u001b[0m \u001b[0mx\u001b[0m\u001b[1;33m\u001b[0m\u001b[1;33m\u001b[0m\u001b[0m\n\u001b[0;32m   1611\u001b[0m \u001b[1;33m\u001b[0m\u001b[0m\n",
      "\u001b[1;31mTypeError\u001b[0m: Could not convert setosasetosasetosasetosasetosasetosasetosasetosasetosasetosasetosasetosasetosasetosasetosasetosasetosasetosasetosasetosasetosasetosasetosasetosasetosasetosasetosasetosasetosasetosasetosasetosasetosasetosasetosasetosasetosasetosasetosasetosasetosasetosasetosasetosasetosasetosasetosasetosasetosasetosaversicolorversicolorversicolorversicolorversicolorversicolorversicolorversicolorversicolorversicolorversicolorversicolorversicolorversicolorversicolorversicolorversicolorversicolorversicolorversicolorversicolorversicolorversicolorversicolorversicolorversicolorversicolorversicolorversicolorversicolorversicolorversicolorversicolorversicolorversicolorversicolorversicolorversicolorversicolorversicolorversicolorversicolorversicolorversicolorversicolorversicolorversicolorversicolorversicolorversicolorvirginicavirginicavirginicavirginicavirginicavirginicavirginicavirginicavirginicavirginicavirginicavirginicavirginicavirginicavirginicavirginicavirginicavirginicavirginicavirginicavirginicavirginicavirginicavirginicavirginicavirginicavirginicavirginicavirginicavirginicavirginicavirginicavirginicavirginicavirginicavirginicavirginicavirginicavirginicavirginicavirginicavirginicavirginicavirginicavirginicavirginicavirginicavirginicavirginicavirginica to numeric"
     ]
    }
   ],
   "source": [
    "np.mean(df1['species'])"
   ]
  },
  {
   "cell_type": "markdown",
   "id": "688abbe9",
   "metadata": {},
   "source": [
    "# finding the goussian distribution with iris data"
   ]
  },
  {
   "cell_type": "code",
   "execution_count": 72,
   "id": "4c394bcd",
   "metadata": {},
   "outputs": [
    {
     "data": {
      "text/plain": [
       "Index(['sepal_length', 'sepal_width', 'petal_length', 'petal_width',\n",
       "       'species'],\n",
       "      dtype='object')"
      ]
     },
     "execution_count": 72,
     "metadata": {},
     "output_type": "execute_result"
    }
   ],
   "source": []
  },
  {
   "cell_type": "code",
   "execution_count": null,
   "id": "9adb4913",
   "metadata": {},
   "outputs": [],
   "source": []
  },
  {
   "cell_type": "code",
   "execution_count": 73,
   "id": "e5083020",
   "metadata": {},
   "outputs": [],
   "source": [
    "columns=['sepal_length', 'sepal_width', 'petal_length', 'petal_width']"
   ]
  },
  {
   "cell_type": "code",
   "execution_count": 75,
   "id": "1034db9b",
   "metadata": {},
   "outputs": [
    {
     "data": {
      "image/png": "[encoded data removed]",
      "text/plain": [
       "<Figure size 432x288 with 1 Axes>"
      ]
     },
     "metadata": {
      "needs_background": "light"
     },
     "output_type": "display_data"
    },
    {
     "data": {
      "image/png": "[encoded data removed]",
      "text/plain": [
       "<Figure size 432x288 with 1 Axes>"
      ]
     },
     "metadata": {
      "needs_background": "light"
     },
     "output_type": "display_data"
    },
    {
     "data": {
      "image/png": "[encoded data removed]",
      "text/plain": [
       "<Figure size 432x288 with 1 Axes>"
      ]
     },
     "metadata": {
      "needs_background": "light"
     },
     "output_type": "display_data"
    },
    {
     "data": {
      "image/png": "[encoded data removed]",
      "text/plain": [
       "<Figure size 432x288 with 1 Axes>"
      ]
     },
     "metadata": {
      "needs_background": "light"
     },
     "output_type": "display_data"
    }
   ],
   "source": [
    "for i in columns:\n",
    "    sns.histplot(x=i,data=df1,kde=True)\n",
    "    plt.title(i)\n",
    "    plt.xlabel(i)\n",
    "    plt.show()"
   ]
  },
  {
   "cell_type": "code",
   "execution_count": null,
   "id": "55738869",
   "metadata": {},
   "outputs": [],
   "source": []
  },
  {
   "cell_type": "code",
   "execution_count": 49,
   "id": "c9bfc012",
   "metadata": {},
   "outputs": [
    {
     "data": {
      "text/plain": [
       "<AxesSubplot:xlabel='sepal_length', ylabel='Count'>"
      ]
     },
     "execution_count": 49,
     "metadata": {},
     "output_type": "execute_result"
    },
    {
     "data": {
      "image/png": "[encoded data removed]",
      "text/plain": [
       "<Figure size 432x288 with 1 Axes>"
      ]
     },
     "metadata": {
      "needs_background": "light"
     },
     "output_type": "display_data"
    }
   ],
   "source": [
    "sns.histplot(df1['sepal_length'])"
   ]
  },
  {
   "cell_type": "code",
   "execution_count": 50,
   "id": "44bef7dd",
   "metadata": {},
   "outputs": [
    {
     "data": {
      "text/plain": [
       "<AxesSubplot:xlabel='sepal_length', ylabel='Count'>"
      ]
     },
     "execution_count": 50,
     "metadata": {},
     "output_type": "execute_result"
    },
    {
     "data": {
      "image/png": "[encoded data removed]",
      "text/plain": [
       "<Figure size 432x288 with 1 Axes>"
      ]
     },
     "metadata": {
      "needs_background": "light"
     },
     "output_type": "display_data"
    }
   ],
   "source": [
    "sns.histplot(df1['sepal_length'],kde=True)"
   ]
  },
  {
   "cell_type": "code",
   "execution_count": 51,
   "id": "9bc5d44b",
   "metadata": {},
   "outputs": [
    {
     "name": "stderr",
     "output_type": "stream",
     "text": [
      "C:\\Users\\gajula Amar\\anaconda3\\lib\\site-packages\\seaborn\\distributions.py:2619: FutureWarning: `distplot` is a deprecated function and will be removed in a future version. Please adapt your code to use either `displot` (a figure-level function with similar flexibility) or `histplot` (an axes-level function for histograms).\n",
      "  warnings.warn(msg, FutureWarning)\n"
     ]
    },
    {
     "data": {
      "text/plain": [
       "<AxesSubplot:xlabel='sepal_length', ylabel='Density'>"
      ]
     },
     "execution_count": 51,
     "metadata": {},
     "output_type": "execute_result"
    },
    {
     "data": {
      "image/png": "[encoded data removed]",
      "text/plain": [
       "<Figure size 432x288 with 1 Axes>"
      ]
     },
     "metadata": {
      "needs_background": "light"
     },
     "output_type": "display_data"
    }
   ],
   "source": [
    "sns.distplot(df1['sepal_length'])"
   ]
  },
  {
   "cell_type": "code",
   "execution_count": 52,
   "id": "9385a5d9",
   "metadata": {},
   "outputs": [
    {
     "data": {
      "text/plain": [
       "<AxesSubplot:xlabel='sepal_width', ylabel='Count'>"
      ]
     },
     "execution_count": 52,
     "metadata": {},
     "output_type": "execute_result"
    },
    {
     "data": {
      "image/png": "[encoded data removed]",
      "text/plain": [
       "<Figure size 432x288 with 1 Axes>"
      ]
     },
     "metadata": {
      "needs_background": "light"
     },
     "output_type": "display_data"
    }
   ],
   "source": [
    "sns.histplot(df1['sepal_width'],kde=True)"
   ]
  },
  {
   "cell_type": "code",
   "execution_count": 54,
   "id": "0c85a717",
   "metadata": {},
   "outputs": [
    {
     "name": "stderr",
     "output_type": "stream",
     "text": [
      "C:\\Users\\gajula Amar\\anaconda3\\lib\\site-packages\\seaborn\\_decorators.py:36: FutureWarning: Pass the following variable as a keyword arg: x. From version 0.12, the only valid positional argument will be `data`, and passing other arguments without an explicit keyword will result in an error or misinterpretation.\n",
      "  warnings.warn(\n"
     ]
    },
    {
     "data": {
      "text/plain": [
       "<AxesSubplot:xlabel='species', ylabel='count'>"
      ]
     },
     "execution_count": 54,
     "metadata": {},
     "output_type": "execute_result"
    },
    {
     "data": {
      "image/png": "[encoded data removed]",
      "text/plain": [
       "<Figure size 432x288 with 1 Axes>"
      ]
     },
     "metadata": {
      "needs_background": "light"
     },
     "output_type": "display_data"
    }
   ],
   "source": [
    "sns.countplot(df1['species'])"
   ]
  },
  {
   "cell_type": "code",
   "execution_count": 83,
   "id": "469ea094",
   "metadata": {},
   "outputs": [
    {
     "data": {
      "text/html": [
       "<div>\n",
       "<style scoped>\n",
       "    .dataframe tbody tr th:only-of-type {\n",
       "        vertical-align: middle;\n",
       "    }\n",
       "\n",
       "    .dataframe tbody tr th {\n",
       "        vertical-align: top;\n",
       "    }\n",
       "\n",
       "    .dataframe thead th {\n",
       "        text-align: right;\n",
       "    }\n",
       "</style>\n",
       "<table border=\"1\" class=\"dataframe\">\n",
       "  <thead>\n",
       "    <tr style=\"text-align: right;\">\n",
       "      <th></th>\n",
       "      <th>sepal_length</th>\n",
       "      <th>sepal_width</th>\n",
       "      <th>petal_length</th>\n",
       "      <th>petal_width</th>\n",
       "    </tr>\n",
       "  </thead>\n",
       "  <tbody>\n",
       "    <tr>\n",
       "      <th>count</th>\n",
       "      <td>150.000000</td>\n",
       "      <td>150.000000</td>\n",
       "      <td>150.000000</td>\n",
       "      <td>150.000000</td>\n",
       "    </tr>\n",
       "    <tr>\n",
       "      <th>mean</th>\n",
       "      <td>5.843333</td>\n",
       "      <td>3.057333</td>\n",
       "      <td>3.758000</td>\n",
       "      <td>1.199333</td>\n",
       "    </tr>\n",
       "    <tr>\n",
       "      <th>std</th>\n",
       "      <td>0.828066</td>\n",
       "      <td>0.435866</td>\n",
       "      <td>1.765298</td>\n",
       "      <td>0.762238</td>\n",
       "    </tr>\n",
       "    <tr>\n",
       "      <th>min</th>\n",
       "      <td>4.300000</td>\n",
       "      <td>2.000000</td>\n",
       "      <td>1.000000</td>\n",
       "      <td>0.100000</td>\n",
       "    </tr>\n",
       "    <tr>\n",
       "      <th>25%</th>\n",
       "      <td>5.100000</td>\n",
       "      <td>2.800000</td>\n",
       "      <td>1.600000</td>\n",
       "      <td>0.300000</td>\n",
       "    </tr>\n",
       "    <tr>\n",
       "      <th>50%</th>\n",
       "      <td>5.800000</td>\n",
       "      <td>3.000000</td>\n",
       "      <td>4.350000</td>\n",
       "      <td>1.300000</td>\n",
       "    </tr>\n",
       "    <tr>\n",
       "      <th>75%</th>\n",
       "      <td>6.400000</td>\n",
       "      <td>3.300000</td>\n",
       "      <td>5.100000</td>\n",
       "      <td>1.800000</td>\n",
       "    </tr>\n",
       "    <tr>\n",
       "      <th>max</th>\n",
       "      <td>7.900000</td>\n",
       "      <td>4.400000</td>\n",
       "      <td>6.900000</td>\n",
       "      <td>2.500000</td>\n",
       "    </tr>\n",
       "  </tbody>\n",
       "</table>\n",
       "</div>"
      ],
      "text/plain": [
       "       sepal_length  sepal_width  petal_length  petal_width\n",
       "count    150.000000   150.000000    150.000000   150.000000\n",
       "mean       5.843333     3.057333      3.758000     1.199333\n",
       "std        0.828066     0.435866      1.765298     0.762238\n",
       "min        4.300000     2.000000      1.000000     0.100000\n",
       "25%        5.100000     2.800000      1.600000     0.300000\n",
       "50%        5.800000     3.000000      4.350000     1.300000\n",
       "75%        6.400000     3.300000      5.100000     1.800000\n",
       "max        7.900000     4.400000      6.900000     2.500000"
      ]
     },
     "execution_count": 83,
     "metadata": {},
     "output_type": "execute_result"
    }
   ],
   "source": [
    "df1.describe()"
   ]
  },
  {
   "cell_type": "markdown",
   "id": "9f8c0e33",
   "metadata": {},
   "source": [
    "# outliers findout"
   ]
  },
  {
   "cell_type": "code",
   "execution_count": 85,
   "id": "eb546a78",
   "metadata": {},
   "outputs": [
    {
     "data": {
      "text/plain": [
       "array([5.1, 6.4])"
      ]
     },
     "execution_count": 85,
     "metadata": {},
     "output_type": "execute_result"
    }
   ],
   "source": [
    "np.percentile(df1[\"sepal_length\"],[25,75])"
   ]
  },
  {
   "cell_type": "code",
   "execution_count": null,
   "id": "3ec1ee6f",
   "metadata": {},
   "outputs": [],
   "source": []
  },
  {
   "cell_type": "code",
   "execution_count": null,
   "id": "45edcc1d",
   "metadata": {},
   "outputs": [],
   "source": []
  },
  {
   "cell_type": "code",
   "execution_count": null,
   "id": "6164e906",
   "metadata": {},
   "outputs": [],
   "source": []
  },
  {
   "cell_type": "markdown",
   "id": "e0a28574",
   "metadata": {},
   "source": [
    "# find IQR q3-q1"
   ]
  },
  {
   "cell_type": "code",
   "execution_count": 86,
   "id": "07c4d0d4",
   "metadata": {},
   "outputs": [
    {
     "data": {
      "text/plain": [
       "1.3000000000000007"
      ]
     },
     "execution_count": 86,
     "metadata": {},
     "output_type": "execute_result"
    }
   ],
   "source": [
    "IQR=6.4-5.1 # Q3 - Q1\n",
    "IQR"
   ]
  },
  {
   "cell_type": "code",
   "execution_count": 87,
   "id": "a2930e17",
   "metadata": {},
   "outputs": [
    {
     "name": "stdout",
     "output_type": "stream",
     "text": [
      " Lower_Fence : 3.1499999999999986 \n",
      " Higher_Fence : 8.350000000000001\n"
     ]
    }
   ],
   "source": [
    "Lower_Fence  = 5.1 - 1.5*(IQR)\n",
    "Higher_Fence = 6.4 + 1.5*(IQR)\n",
    "print(\" Lower_Fence :\",Lower_Fence    ,\"\\n\",\"Higher_Fence :\",Higher_Fence)"
   ]
  },
  {
   "cell_type": "code",
   "execution_count": 89,
   "id": "5d5d142d",
   "metadata": {},
   "outputs": [
    {
     "data": {
      "text/plain": [
       "array([1.6, 5.1])"
      ]
     },
     "execution_count": 89,
     "metadata": {},
     "output_type": "execute_result"
    }
   ],
   "source": [
    "np.percentile(df1[\"petal_length\"],[25,75])"
   ]
  },
  {
   "cell_type": "code",
   "execution_count": 90,
   "id": "41bbead4",
   "metadata": {},
   "outputs": [
    {
     "data": {
      "text/plain": [
       "3.4999999999999996"
      ]
     },
     "execution_count": 90,
     "metadata": {},
     "output_type": "execute_result"
    }
   ],
   "source": [
    "IQR= 5.1-1.6\n",
    "IQR"
   ]
  },
  {
   "cell_type": "code",
   "execution_count": 91,
   "id": "08ca6cba",
   "metadata": {},
   "outputs": [
    {
     "name": "stdout",
     "output_type": "stream",
     "text": [
      " Lower_Fence : -0.14999999999999947 \n",
      " Higher_Fence : 6.85\n"
     ]
    }
   ],
   "source": [
    "IQR=5.1-1.6\n",
    "IQR\n",
    "Lower_Fence  = 5.1 - 1.5*IQR\n",
    "Higher_Fence = 1.6 + 1.5*IQR\n",
    "print(\" Lower_Fence :\",Lower_Fence    ,\"\\n\",\"Higher_Fence :\",Higher_Fence)"
   ]
  },
  {
   "cell_type": "code",
   "execution_count": 92,
   "id": "ca251b0f",
   "metadata": {},
   "outputs": [
    {
     "data": {
      "text/plain": [
       "array([0.3, 1.8])"
      ]
     },
     "execution_count": 92,
     "metadata": {},
     "output_type": "execute_result"
    }
   ],
   "source": [
    "np.percentile(df1[\"petal_width\"],[25,75])"
   ]
  },
  {
   "cell_type": "code",
   "execution_count": 93,
   "id": "01c20e6a",
   "metadata": {},
   "outputs": [
    {
     "data": {
      "text/plain": [
       "1.5"
      ]
     },
     "execution_count": 93,
     "metadata": {},
     "output_type": "execute_result"
    }
   ],
   "source": [
    "IQR=1.8-0.3\n",
    "IQR"
   ]
  },
  {
   "cell_type": "code",
   "execution_count": 94,
   "id": "c7c2e0d1",
   "metadata": {},
   "outputs": [
    {
     "name": "stdout",
     "output_type": "stream",
     "text": [
      " Lower_Fence : -1.95 \n",
      " Higher_Fence : 4.05\n"
     ]
    }
   ],
   "source": [
    "IQR=1.8-0.3\n",
    "IQR\n",
    "Lower_Fence  = 0.3 - 1.5*IQR\n",
    "Higher_Fence = 1.8 + 1.5*IQR\n",
    "print(\" Lower_Fence :\",Lower_Fence    ,\"\\n\",\"Higher_Fence :\",Higher_Fence)"
   ]
  },
  {
   "cell_type": "code",
   "execution_count": 95,
   "id": "8b57ad2d",
   "metadata": {},
   "outputs": [
    {
     "data": {
      "text/plain": [
       "array([2.8, 3.3])"
      ]
     },
     "execution_count": 95,
     "metadata": {},
     "output_type": "execute_result"
    }
   ],
   "source": [
    "np.percentile(df1[\"sepal_width\"],[25,75])"
   ]
  },
  {
   "cell_type": "code",
   "execution_count": 96,
   "id": "edf42d0d",
   "metadata": {},
   "outputs": [
    {
     "data": {
      "text/plain": [
       "0.5"
      ]
     },
     "execution_count": 96,
     "metadata": {},
     "output_type": "execute_result"
    }
   ],
   "source": [
    "IQR=3.3-2.8\n",
    "IQR"
   ]
  },
  {
   "cell_type": "code",
   "execution_count": 97,
   "id": "369276e0",
   "metadata": {},
   "outputs": [
    {
     "name": "stdout",
     "output_type": "stream",
     "text": [
      " Lower_Fence : 2.05 \n",
      " Higher_Fence : 4.05\n"
     ]
    }
   ],
   "source": [
    "IQR=3.3-2.8\n",
    "IQR\n",
    "Lower_Fence  = 2.8 - 1.5*IQR\n",
    "Higher_Fence = 3.3 + 1.5*IQR\n",
    "print(\" Lower_Fence :\",Lower_Fence    ,\"\\n\",\"Higher_Fence :\",Higher_Fence)"
   ]
  },
  {
   "cell_type": "code",
   "execution_count": 103,
   "id": "788e3783",
   "metadata": {},
   "outputs": [
    {
     "data": {
      "text/plain": [
       "array([5.1, 6.4])"
      ]
     },
     "execution_count": 103,
     "metadata": {},
     "output_type": "execute_result"
    }
   ],
   "source": [
    "np.percentile(df1['sepal_length'],[25,75])"
   ]
  },
  {
   "cell_type": "code",
   "execution_count": 110,
   "id": "62644746",
   "metadata": {},
   "outputs": [
    {
     "data": {
      "text/html": [
       "<div>\n",
       "<style scoped>\n",
       "    .dataframe tbody tr th:only-of-type {\n",
       "        vertical-align: middle;\n",
       "    }\n",
       "\n",
       "    .dataframe tbody tr th {\n",
       "        vertical-align: top;\n",
       "    }\n",
       "\n",
       "    .dataframe thead th {\n",
       "        text-align: right;\n",
       "    }\n",
       "</style>\n",
       "<table border=\"1\" class=\"dataframe\">\n",
       "  <thead>\n",
       "    <tr style=\"text-align: right;\">\n",
       "      <th></th>\n",
       "      <th>sepal_length</th>\n",
       "      <th>sepal_width</th>\n",
       "      <th>petal_length</th>\n",
       "      <th>petal_width</th>\n",
       "    </tr>\n",
       "  </thead>\n",
       "  <tbody>\n",
       "    <tr>\n",
       "      <th>25%</th>\n",
       "      <td>5.1</td>\n",
       "      <td>2.8</td>\n",
       "      <td>1.6</td>\n",
       "      <td>0.3</td>\n",
       "    </tr>\n",
       "    <tr>\n",
       "      <th>75%</th>\n",
       "      <td>6.4</td>\n",
       "      <td>3.3</td>\n",
       "      <td>5.1</td>\n",
       "      <td>1.8</td>\n",
       "    </tr>\n",
       "  </tbody>\n",
       "</table>\n",
       "</div>"
      ],
      "text/plain": [
       "     sepal_length  sepal_width  petal_length  petal_width\n",
       "25%           5.1          2.8           1.6          0.3\n",
       "75%           6.4          3.3           5.1          1.8"
      ]
     },
     "execution_count": 110,
     "metadata": {},
     "output_type": "execute_result"
    }
   ],
   "source": [
    "dff = df1.describe()[4:7:2] #all sepal_length sepal_width petal_length\n",
    "dff                  # petal_width 25th and 75th percentiles"
   ]
  },
  {
   "cell_type": "code",
   "execution_count": 118,
   "id": "febda9e0",
   "metadata": {},
   "outputs": [
    {
     "name": "stdout",
     "output_type": "stream",
     "text": [
      "25%    5.1\n",
      "75%    6.4\n",
      "Name: sepal_length, dtype: float64\n",
      "25%    2.8\n",
      "75%    3.3\n",
      "Name: sepal_width, dtype: float64\n",
      "25%    1.6\n",
      "75%    5.1\n",
      "Name: petal_length, dtype: float64\n",
      "25%    0.3\n",
      "75%    1.8\n",
      "Name: petal_width, dtype: float64\n"
     ]
    }
   ],
   "source": [
    "for i in dff:\n",
    "    print(dff[i])\n",
    "    \n",
    "    "
   ]
  },
  {
   "cell_type": "code",
   "execution_count": null,
   "id": "48051d4e",
   "metadata": {},
   "outputs": [],
   "source": []
  },
  {
   "cell_type": "code",
   "execution_count": 81,
   "id": "0704ddfc",
   "metadata": {},
   "outputs": [
    {
     "name": "stdout",
     "output_type": "stream",
     "text": [
      "Lowerfence of sepal_length =  5.1\n",
      "Higherfence of sepal_length =  24.127499999999998\n",
      "\n",
      "\n",
      "Lowerfence of sepal_width =  2.8\n",
      "Higherfence of sepal_width =  24.127499999999998\n",
      "\n",
      "\n",
      "Lowerfence of petal_length =  1.6\n",
      "Higherfence of petal_length =  24.127499999999998\n",
      "\n",
      "\n",
      "Lowerfence of petal_width =  0.3\n",
      "Higherfence of petal_width =  24.127499999999998\n",
      "\n",
      "\n"
     ]
    }
   ],
   "source": [
    "for i in columns:\n",
    "    q1,q2=np.percentile(df1[i],[25,75])\n",
    "    IQR=q1-q1\n",
    "    Lowerfence=q1-1.5*IQR\n",
    "    Higherfence=q3+1.5*IQR\n",
    "    print(f\"Lowerfence of {i} = \",Lowerfence)\n",
    "    print(f\"Higherfence of {i} = \",Higherfence)\n",
    "    print('\\n')\n",
    "    "
   ]
  },
  {
   "cell_type": "code",
   "execution_count": null,
   "id": "dfbb51b8",
   "metadata": {},
   "outputs": [],
   "source": []
  },
  {
   "cell_type": "markdown",
   "id": "f8750e9f",
   "metadata": {},
   "source": [
    "# find out outliers"
   ]
  },
  {
   "cell_type": "code",
   "execution_count": 84,
   "id": "91325eb4",
   "metadata": {},
   "outputs": [],
   "source": [
    "dataset= [11,10,12,14,12,15,14,13,15,102,12,14,17,19,107, 10,13,12,14,12,108,12,11,14,13,15,10,15,12,10,14,13,15,10]"
   ]
  },
  {
   "cell_type": "code",
   "execution_count": 106,
   "id": "5ec0f718",
   "metadata": {},
   "outputs": [
    {
     "data": {
      "text/html": [
       "<div>\n",
       "<style scoped>\n",
       "    .dataframe tbody tr th:only-of-type {\n",
       "        vertical-align: middle;\n",
       "    }\n",
       "\n",
       "    .dataframe tbody tr th {\n",
       "        vertical-align: top;\n",
       "    }\n",
       "\n",
       "    .dataframe thead th {\n",
       "        text-align: right;\n",
       "    }\n",
       "</style>\n",
       "<table border=\"1\" class=\"dataframe\">\n",
       "  <thead>\n",
       "    <tr style=\"text-align: right;\">\n",
       "      <th></th>\n",
       "      <th>0</th>\n",
       "    </tr>\n",
       "  </thead>\n",
       "  <tbody>\n",
       "    <tr>\n",
       "      <th>count</th>\n",
       "      <td>34.000000</td>\n",
       "    </tr>\n",
       "    <tr>\n",
       "      <th>mean</th>\n",
       "      <td>21.176471</td>\n",
       "    </tr>\n",
       "    <tr>\n",
       "      <th>std</th>\n",
       "      <td>26.768899</td>\n",
       "    </tr>\n",
       "    <tr>\n",
       "      <th>min</th>\n",
       "      <td>10.000000</td>\n",
       "    </tr>\n",
       "    <tr>\n",
       "      <th>25%</th>\n",
       "      <td>12.000000</td>\n",
       "    </tr>\n",
       "    <tr>\n",
       "      <th>50%</th>\n",
       "      <td>13.000000</td>\n",
       "    </tr>\n",
       "    <tr>\n",
       "      <th>75%</th>\n",
       "      <td>15.000000</td>\n",
       "    </tr>\n",
       "    <tr>\n",
       "      <th>max</th>\n",
       "      <td>108.000000</td>\n",
       "    </tr>\n",
       "  </tbody>\n",
       "</table>\n",
       "</div>"
      ],
      "text/plain": [
       "                0\n",
       "count   34.000000\n",
       "mean    21.176471\n",
       "std     26.768899\n",
       "min     10.000000\n",
       "25%     12.000000\n",
       "50%     13.000000\n",
       "75%     15.000000\n",
       "max    108.000000"
      ]
     },
     "execution_count": 106,
     "metadata": {},
     "output_type": "execute_result"
    }
   ],
   "source": [
    "import pandas as pd\n",
    "d=pd.DataFrame(dataset).describe()\n",
    "d"
   ]
  },
  {
   "cell_type": "code",
   "execution_count": 116,
   "id": "30ef67f2",
   "metadata": {},
   "outputs": [
    {
     "data": {
      "text/plain": [
       "array([[<AxesSubplot:title={'center':'0'}>]], dtype=object)"
      ]
     },
     "execution_count": 116,
     "metadata": {},
     "output_type": "execute_result"
    },
    {
     "data": {
      "image/png": "[encoded data removed]",
      "text/plain": [
       "<Figure size 432x288 with 1 Axes>"
      ]
     },
     "metadata": {
      "needs_background": "light"
     },
     "output_type": "display_data"
    }
   ],
   "source": [
    "d.hist()"
   ]
  },
  {
   "cell_type": "code",
   "execution_count": 117,
   "id": "7f01252c",
   "metadata": {},
   "outputs": [
    {
     "data": {
      "text/plain": [
       "f1    2.880972\n",
       "dtype: float64"
      ]
     },
     "execution_count": 117,
     "metadata": {},
     "output_type": "execute_result"
    }
   ],
   "source": [
    "f1.std()"
   ]
  },
  {
   "cell_type": "code",
   "execution_count": 139,
   "id": "b168f640",
   "metadata": {},
   "outputs": [
    {
     "data": {
      "text/plain": [
       "26.37230118696876"
      ]
     },
     "execution_count": 139,
     "metadata": {},
     "output_type": "execute_result"
    }
   ],
   "source": [
    "np.std(dataset)"
   ]
  },
  {
   "cell_type": "code",
   "execution_count": 119,
   "id": "4a9a3710",
   "metadata": {},
   "outputs": [
    {
     "data": {
      "text/plain": [
       "<AxesSubplot:ylabel='Count'>"
      ]
     },
     "execution_count": 119,
     "metadata": {},
     "output_type": "execute_result"
    },
    {
     "data": {
      "image/png": "[encoded data removed]",
      "text/plain": [
       "<Figure size 432x288 with 1 Axes>"
      ]
     },
     "metadata": {
      "needs_background": "light"
     },
     "output_type": "display_data"
    }
   ],
   "source": [
    "sns.histplot(dataset)"
   ]
  },
  {
   "cell_type": "code",
   "execution_count": 141,
   "id": "7c10b361",
   "metadata": {},
   "outputs": [
    {
     "data": {
      "text/plain": [
       "<AxesSubplot:ylabel='Count'>"
      ]
     },
     "execution_count": 141,
     "metadata": {},
     "output_type": "execute_result"
    },
    {
     "data": {
      "image/png": "[encoded data removed]",
      "text/plain": [
       "<Figure size 432x288 with 1 Axes>"
      ]
     },
     "metadata": {
      "needs_background": "light"
     },
     "output_type": "display_data"
    }
   ],
   "source": [
    "sns.histplot(dataset,kde=True)"
   ]
  },
  {
   "cell_type": "code",
   "execution_count": 142,
   "id": "3492c398",
   "metadata": {
    "scrolled": true
   },
   "outputs": [
    {
     "data": {
      "text/plain": [
       "[11,\n",
       " 10,\n",
       " 12,\n",
       " 14,\n",
       " 12,\n",
       " 15,\n",
       " 14,\n",
       " 13,\n",
       " 15,\n",
       " 102,\n",
       " 12,\n",
       " 14,\n",
       " 17,\n",
       " 19,\n",
       " 107,\n",
       " 10,\n",
       " 13,\n",
       " 12,\n",
       " 14,\n",
       " 12,\n",
       " 108,\n",
       " 12,\n",
       " 11,\n",
       " 14,\n",
       " 13,\n",
       " 15,\n",
       " 10,\n",
       " 15,\n",
       " 12,\n",
       " 10,\n",
       " 14,\n",
       " 13,\n",
       " 15,\n",
       " 10]"
      ]
     },
     "execution_count": 142,
     "metadata": {},
     "output_type": "execute_result"
    }
   ],
   "source": [
    "dataset"
   ]
  },
  {
   "cell_type": "code",
   "execution_count": 149,
   "id": "c32d7b4e",
   "metadata": {},
   "outputs": [
    {
     "data": {
      "text/plain": [
       "10.197018476389193"
      ]
     },
     "execution_count": 149,
     "metadata": {},
     "output_type": "execute_result"
    }
   ],
   "source": [
    "x = np.mean(dataset)\n",
    "m = np.std(dataset)\n",
    "\n",
    "z_score = dataset[0]-x/m\n",
    "\n",
    "z_score"
   ]
  },
  {
   "cell_type": "code",
   "execution_count": 150,
   "id": "1cdebdd2",
   "metadata": {},
   "outputs": [
    {
     "data": {
      "text/plain": [
       "11.197018476389193"
      ]
     },
     "execution_count": 150,
     "metadata": {},
     "output_type": "execute_result"
    }
   ],
   "source": [
    "x = np.mean(dataset)\n",
    "m = np.std(dataset)\n",
    "\n",
    "z_score = dataset[2]-x/m\n",
    "\n",
    "z_score"
   ]
  },
  {
   "cell_type": "code",
   "execution_count": 120,
   "id": "67522c55",
   "metadata": {
    "scrolled": true
   },
   "outputs": [
    {
     "data": {
      "text/plain": [
       "[-0.38587723217963826,\n",
       " -0.4237958041279264,\n",
       " -0.3479586602313501,\n",
       " -0.27212151633477377,\n",
       " -0.3479586602313501,\n",
       " -0.23420294438648565,\n",
       " -0.27212151633477377,\n",
       " -0.31004008828306195,\n",
       " -0.23420294438648565,\n",
       " 3.064712815114584,\n",
       " -0.3479586602313501,\n",
       " -0.27212151633477377,\n",
       " -0.15836580048990934,\n",
       " -0.08252865659333301,\n",
       " 3.254305674856025,\n",
       " -0.4237958041279264,\n",
       " -0.31004008828306195,\n",
       " -0.3479586602313501,\n",
       " -0.27212151633477377,\n",
       " -0.3479586602313501,\n",
       " 3.292224246804313,\n",
       " -0.3479586602313501,\n",
       " -0.38587723217963826,\n",
       " -0.27212151633477377,\n",
       " -0.31004008828306195,\n",
       " -0.23420294438648565,\n",
       " -0.4237958041279264,\n",
       " -0.23420294438648565,\n",
       " -0.3479586602313501,\n",
       " -0.4237958041279264,\n",
       " -0.27212151633477377,\n",
       " -0.31004008828306195,\n",
       " -0.23420294438648565,\n",
       " -0.4237958041279264]"
      ]
     },
     "execution_count": 120,
     "metadata": {},
     "output_type": "execute_result"
    }
   ],
   "source": [
    "outliers=[]\n",
    "for i in range(len(dataset)):\n",
    "    mean = np.mean(dataset)\n",
    "    std = np.std(dataset)\n",
    "    \n",
    "    #Z-score formula for findng outliers\n",
    "    z_score = (dataset[i]-mean)/std\n",
    "    \n",
    "    outliers.append(z_score)\n",
    "    \n",
    "outliers   "
   ]
  },
  {
   "cell_type": "code",
   "execution_count": 139,
   "id": "6f66a1fa",
   "metadata": {},
   "outputs": [
    {
     "name": "stdout",
     "output_type": "stream",
     "text": [
      "3.064712815114584\n",
      "3.254305674856025\n",
      "3.292224246804313\n"
     ]
    },
    {
     "data": {
      "text/plain": [
       "[102, 107, 108]"
      ]
     },
     "execution_count": 139,
     "metadata": {},
     "output_type": "execute_result"
    }
   ],
   "source": [
    "outliers=[]\n",
    "for i in range(len(dataset)):\n",
    "    #standard divation theshhold =3 out of 3rd we not concider\n",
    "    threshold=3\n",
    "    mean = np.mean(dataset)\n",
    "    std = np.std(dataset)\n",
    "    \n",
    "    z_score = (dataset[i]-mean)/std\n",
    "    if np.abs(z_score)>threshold:\n",
    "        outliers.append(dataset[i])\n",
    "        print(z_score)\n",
    "        \n",
    "outliers"
   ]
  },
  {
   "cell_type": "code",
   "execution_count": 189,
   "id": "a97f6b4d",
   "metadata": {},
   "outputs": [
    {
     "name": "stdout",
     "output_type": "stream",
     "text": [
      "LOWER_fence = 7.5\n",
      "HIGHER_fence = 19.5\n"
     ]
    }
   ],
   "source": [
    "dataset= [11,10,12,14,12,15,14,13,15,102,12,14,17,19,107, 10,13,12,14,12,108,12,11,14,13,15,10,15,12,10,14,13,15,10]\n",
    "dataset.sort()\n",
    "df=pd.DataFrame(dataset)\n",
    "q1,q3=np.percentile(df,[25,73])\n",
    "IQR=q3-q1\n",
    "L_f=q1-1.5*(IQR)\n",
    "H_f=q3+1.5*(IQR)\n",
    "print(\"LOWER_fence =\",L_f)\n",
    "print(\"HIGHER_fence =\",H_f)\n"
   ]
  },
  {
   "cell_type": "code",
   "execution_count": 137,
   "id": "1020abf9",
   "metadata": {},
   "outputs": [
    {
     "data": {
      "text/plain": [
       "<AxesSubplot:>"
      ]
     },
     "execution_count": 137,
     "metadata": {},
     "output_type": "execute_result"
    },
    {
     "data": {
      "image/png": "[encoded data removed]",
      "text/plain": [
       "<Figure size 432x288 with 1 Axes>"
      ]
     },
     "metadata": {
      "needs_background": "light"
     },
     "output_type": "display_data"
    }
   ],
   "source": [
    "sns.boxplot(data=df)"
   ]
  },
  {
   "cell_type": "code",
   "execution_count": null,
   "id": "553631d5",
   "metadata": {},
   "outputs": [],
   "source": []
  },
  {
   "cell_type": "code",
   "execution_count": null,
   "id": "344a666f",
   "metadata": {},
   "outputs": [],
   "source": []
  },
  {
   "cell_type": "code",
   "execution_count": 141,
   "id": "b41839b2",
   "metadata": {
    "scrolled": true
   },
   "outputs": [
    {
     "data": {
      "text/plain": [
       "[102, 107, 108]"
      ]
     },
     "execution_count": 141,
     "metadata": {},
     "output_type": "execute_result"
    }
   ],
   "source": [
    "data = []\n",
    "for i in outliers:\n",
    "    data.append(np.abs(i))\n",
    "    \n",
    "data"
   ]
  },
  {
   "cell_type": "code",
   "execution_count": 189,
   "id": "e5871dd6",
   "metadata": {},
   "outputs": [
    {
     "name": "stdout",
     "output_type": "stream",
     "text": [
      "3.064712815114584\n",
      "3.254305674856025\n",
      "3.292224246804313\n"
     ]
    }
   ],
   "source": [
    "for i in data:\n",
    "    if i>3:\n",
    "        print(i)      "
   ]
  },
  {
   "cell_type": "code",
   "execution_count": null,
   "id": "35a2ead0",
   "metadata": {},
   "outputs": [],
   "source": []
  },
  {
   "cell_type": "markdown",
   "id": "c510eab4",
   "metadata": {},
   "source": [
    "## find out Outliers by z score, IQR"
   ]
  },
  {
   "cell_type": "code",
   "execution_count": 172,
   "id": "bf1c05c1",
   "metadata": {},
   "outputs": [
    {
     "data": {
      "text/plain": [
       "21.176470588235293"
      ]
     },
     "execution_count": 172,
     "metadata": {},
     "output_type": "execute_result"
    }
   ],
   "source": [
    "mean = np.mean(dataset)\n",
    "mean"
   ]
  },
  {
   "cell_type": "code",
   "execution_count": 174,
   "id": "f50a2ed7",
   "metadata": {},
   "outputs": [
    {
     "data": {
      "text/plain": [
       "26.37230118696876"
      ]
     },
     "execution_count": 174,
     "metadata": {},
     "output_type": "execute_result"
    }
   ],
   "source": [
    "std = np.std(dataset)\n",
    "std"
   ]
  },
  {
   "cell_type": "code",
   "execution_count": 166,
   "id": "5ae1e3ca",
   "metadata": {},
   "outputs": [
    {
     "data": {
      "text/plain": [
       "11"
      ]
     },
     "execution_count": 166,
     "metadata": {},
     "output_type": "execute_result"
    }
   ],
   "source": [
    "dataset[0]"
   ]
  },
  {
   "cell_type": "code",
   "execution_count": 175,
   "id": "eeb91fb8",
   "metadata": {},
   "outputs": [
    {
     "data": {
      "text/plain": [
       "-0.38587723217963826"
      ]
     },
     "execution_count": 175,
     "metadata": {},
     "output_type": "execute_result"
    }
   ],
   "source": [
    "z_score = (11-mean)/std\n",
    "z_score"
   ]
  },
  {
   "cell_type": "code",
   "execution_count": 150,
   "id": "c9d083db",
   "metadata": {
    "scrolled": true
   },
   "outputs": [
    {
     "name": "stdout",
     "output_type": "stream",
     "text": [
      "-0.38587723217963826\n",
      "-0.4237958041279264\n",
      "-0.3479586602313501\n",
      "-0.27212151633477377\n",
      "-0.3479586602313501\n",
      "-0.23420294438648565\n",
      "-0.27212151633477377\n",
      "-0.31004008828306195\n",
      "-0.23420294438648565\n",
      "3.064712815114584\n",
      "-0.3479586602313501\n",
      "-0.27212151633477377\n",
      "-0.15836580048990934\n",
      "-0.08252865659333301\n",
      "3.254305674856025\n",
      "-0.4237958041279264\n",
      "-0.31004008828306195\n",
      "-0.3479586602313501\n",
      "-0.27212151633477377\n",
      "-0.3479586602313501\n",
      "3.292224246804313\n",
      "-0.3479586602313501\n",
      "-0.38587723217963826\n",
      "-0.27212151633477377\n",
      "-0.31004008828306195\n",
      "-0.23420294438648565\n",
      "-0.4237958041279264\n",
      "-0.23420294438648565\n",
      "-0.3479586602313501\n",
      "-0.4237958041279264\n",
      "-0.27212151633477377\n",
      "-0.31004008828306195\n",
      "-0.23420294438648565\n",
      "-0.4237958041279264\n"
     ]
    }
   ],
   "source": [
    "outliers = []\n",
    "\n",
    "def detect_outliers(data):\n",
    "    threshold = 3 # standard diviation \n",
    "    mean = np.mean(data)\n",
    "    std = np.std(data)\n",
    "    \n",
    "    \n",
    "    for i in data:\n",
    "        z_score = (i-mean)/std\n",
    "        print((z_score))\n",
    "detect_outliers(dataset) "
   ]
  },
  {
   "cell_type": "code",
   "execution_count": 143,
   "id": "96854fa4",
   "metadata": {},
   "outputs": [
    {
     "name": "stdout",
     "output_type": "stream",
     "text": [
      "3.064712815114584\n",
      "3.254305674856025\n",
      "3.292224246804313\n"
     ]
    },
    {
     "data": {
      "text/plain": [
       "[102, 107, 108]"
      ]
     },
     "execution_count": 143,
     "metadata": {},
     "output_type": "execute_result"
    }
   ],
   "source": [
    "outliers = []\n",
    "\n",
    "def detect_outliers(data):\n",
    "    threshold = 3 # standard diviation \n",
    "    mean = np.mean(data)\n",
    "    std = np.std(data)\n",
    "    \n",
    "    \n",
    "    for i in data:\n",
    "        z_score = (i-mean)/std\n",
    "        if np.abs(z_score)>threshold:\n",
    "            outliers.append(i)\n",
    "            print(z_score)\n",
    "            \n",
    "    return outliers\n",
    "\n",
    "detect_outliers(dataset)   #  dataset giving "
   ]
  },
  {
   "cell_type": "code",
   "execution_count": null,
   "id": "bc42eedc",
   "metadata": {},
   "outputs": [],
   "source": []
  },
  {
   "cell_type": "code",
   "execution_count": 151,
   "id": "a23e4f6c",
   "metadata": {},
   "outputs": [
    {
     "data": {
      "text/plain": [
       "(array([31.,  0.,  0.,  0.,  0.,  0.,  0.,  0.,  0.,  3.]),\n",
       " array([ 10. ,  19.8,  29.6,  39.4,  49.2,  59. ,  68.8,  78.6,  88.4,\n",
       "         98.2, 108. ]),\n",
       " <BarContainer object of 10 artists>)"
      ]
     },
     "execution_count": 151,
     "metadata": {},
     "output_type": "execute_result"
    },
    {
     "data": {
      "image/png": "[encoded data removed]",
      "text/plain": [
       "<Figure size 432x288 with 1 Axes>"
      ]
     },
     "metadata": {
      "needs_background": "light"
     },
     "output_type": "display_data"
    }
   ],
   "source": [
    "plt.hist(dataset)"
   ]
  },
  {
   "cell_type": "code",
   "execution_count": 152,
   "id": "3aa0a8bd",
   "metadata": {},
   "outputs": [
    {
     "data": {
      "text/plain": [
       "<seaborn.axisgrid.FacetGrid at 0x2545b220f70>"
      ]
     },
     "execution_count": 152,
     "metadata": {},
     "output_type": "execute_result"
    },
    {
     "data": {
      "image/png": "[encoded data removed]",
      "text/plain": [
       "<Figure size 360x360 with 1 Axes>"
      ]
     },
     "metadata": {
      "needs_background": "light"
     },
     "output_type": "display_data"
    }
   ],
   "source": [
    "sns.displot(dataset)"
   ]
  },
  {
   "cell_type": "code",
   "execution_count": 214,
   "id": "24f4d907",
   "metadata": {},
   "outputs": [
    {
     "data": {
      "text/plain": [
       "<seaborn.axisgrid.FacetGrid at 0x2a7b0f9d310>"
      ]
     },
     "execution_count": 214,
     "metadata": {},
     "output_type": "execute_result"
    },
    {
     "data": {
      "image/png": "[encoded data removed]",
      "text/plain": [
       "<Figure size 360x360 with 1 Axes>"
      ]
     },
     "metadata": {
      "needs_background": "light"
     },
     "output_type": "display_data"
    }
   ],
   "source": [
    "sns.displot(dataset,kde=True)"
   ]
  },
  {
   "cell_type": "code",
   "execution_count": 218,
   "id": "23df13f8",
   "metadata": {},
   "outputs": [
    {
     "data": {
      "text/plain": [
       "(array([31.,  0.,  0.,  0.,  0.,  0.,  0.,  0.,  0.,  3.]),\n",
       " array([ 10. ,  19.8,  29.6,  39.4,  49.2,  59. ,  68.8,  78.6,  88.4,\n",
       "         98.2, 108. ]),\n",
       " <BarContainer object of 10 artists>)"
      ]
     },
     "execution_count": 218,
     "metadata": {},
     "output_type": "execute_result"
    },
    {
     "data": {
      "image/png": "[encoded data removed]",
      "text/plain": [
       "<Figure size 432x288 with 1 Axes>"
      ]
     },
     "metadata": {
      "needs_background": "light"
     },
     "output_type": "display_data"
    }
   ],
   "source": [
    "import pandas as pd\n",
    "plt.hist(pd.DataFrame(dataset))"
   ]
  },
  {
   "cell_type": "code",
   "execution_count": null,
   "id": "bce6f6c1",
   "metadata": {},
   "outputs": [],
   "source": []
  },
  {
   "cell_type": "code",
   "execution_count": 55,
   "id": "3dd489a6",
   "metadata": {
    "scrolled": true
   },
   "outputs": [
    {
     "data": {
      "text/plain": [
       "<AxesSubplot:ylabel='Count'>"
      ]
     },
     "execution_count": 55,
     "metadata": {},
     "output_type": "execute_result"
    },
    {
     "data": {
      "image/png": "[encoded data removed]",
      "text/plain": [
       "<Figure size 432x288 with 1 Axes>"
      ]
     },
     "metadata": {
      "needs_background": "light"
     },
     "output_type": "display_data"
    }
   ],
   "source": [
    "sns.histplot(dataset,kde=True)"
   ]
  },
  {
   "cell_type": "code",
   "execution_count": 75,
   "id": "a21968a5",
   "metadata": {},
   "outputs": [
    {
     "data": {
      "text/plain": [
       "26.37230118696876"
      ]
     },
     "execution_count": 75,
     "metadata": {},
     "output_type": "execute_result"
    }
   ],
   "source": [
    "np.std(dataset)"
   ]
  },
  {
   "cell_type": "code",
   "execution_count": 76,
   "id": "b7e99dd8",
   "metadata": {},
   "outputs": [
    {
     "data": {
      "text/plain": [
       "21.176470588235293"
      ]
     },
     "execution_count": 76,
     "metadata": {},
     "output_type": "execute_result"
    }
   ],
   "source": [
    "np.mean(dataset)"
   ]
  },
  {
   "cell_type": "code",
   "execution_count": 81,
   "id": "3861e85c",
   "metadata": {},
   "outputs": [
    {
     "name": "stdout",
     "output_type": "stream",
     "text": [
      "0.38587723217963826\n",
      "0.4237958041279264\n",
      "0.3479586602313501\n",
      "0.27212151633477377\n",
      "0.3479586602313501\n",
      "0.23420294438648565\n",
      "0.27212151633477377\n",
      "0.31004008828306195\n",
      "0.23420294438648565\n",
      "3.064712815114584\n",
      "0.3479586602313501\n",
      "0.27212151633477377\n",
      "0.15836580048990934\n",
      "0.08252865659333301\n",
      "3.254305674856025\n",
      "0.4237958041279264\n",
      "0.31004008828306195\n",
      "0.3479586602313501\n",
      "0.27212151633477377\n",
      "0.3479586602313501\n",
      "3.292224246804313\n",
      "0.3479586602313501\n",
      "0.38587723217963826\n",
      "0.27212151633477377\n",
      "0.31004008828306195\n",
      "0.23420294438648565\n",
      "0.4237958041279264\n",
      "0.23420294438648565\n",
      "0.3479586602313501\n",
      "0.4237958041279264\n",
      "0.27212151633477377\n",
      "0.31004008828306195\n",
      "0.23420294438648565\n",
      "0.4237958041279264\n"
     ]
    }
   ],
   "source": [
    "for i in dataset:\n",
    "    mean=np.mean(dataset)\n",
    "    std=np.std(dataset)\n",
    "    Z_score=(i-mean)/std\n",
    "    #print(Z_score)  it give negative values \n",
    "    print(np.abs(Z_score)) #np.abs function changes the negative values to positive \n",
    "    "
   ]
  },
  {
   "cell_type": "markdown",
   "id": "de5d40fe",
   "metadata": {},
   "source": [
    "# Z-score and IQR"
   ]
  },
  {
   "cell_type": "code",
   "execution_count": 134,
   "id": "d1b30c28",
   "metadata": {},
   "outputs": [],
   "source": [
    "outliers=[]\n",
    "\n",
    "def detect_outliers(data):\n",
    "    threshold=3   # this define our 3rd standar diviation\n",
    "    mean=np.mean(data)\n",
    "    std=np.std(data)\n",
    "    \n",
    "    for i in data:\n",
    "        Z_score=(i-mean)/std\n",
    "        #print(Z_score)\n",
    "        #break\n",
    "        if np.abs(Z_score)>threshold:# abs is threshold can be posiive side and nagative side so we used abs here\n",
    "            #print(Z_score)\n",
    "            #break\n",
    "            outliers.append(i)\n",
    "            #outliers.append(np.abs(Z_score))\n",
    "    return outliers"
   ]
  },
  {
   "cell_type": "code",
   "execution_count": 135,
   "id": "d790602e",
   "metadata": {},
   "outputs": [
    {
     "data": {
      "text/plain": [
       "[102, 107, 108]"
      ]
     },
     "execution_count": 135,
     "metadata": {},
     "output_type": "execute_result"
    }
   ],
   "source": [
    "dataset= [11,10,12,14,12,15,14,13,15,102,12,14,17,19,107, 10,13,12,14,12,108,12,11,14,13,15,10,15,12,10,14,13,15,10]\n",
    "detect_outliers(dataset)"
   ]
  },
  {
   "cell_type": "code",
   "execution_count": 90,
   "id": "1d1680ba",
   "metadata": {},
   "outputs": [],
   "source": [
    "a=-123.12"
   ]
  },
  {
   "cell_type": "code",
   "execution_count": 91,
   "id": "84fb092a",
   "metadata": {},
   "outputs": [
    {
     "data": {
      "text/plain": [
       "123.12"
      ]
     },
     "execution_count": 91,
     "metadata": {},
     "output_type": "execute_result"
    }
   ],
   "source": [
    "np.abs(a)"
   ]
  },
  {
   "cell_type": "code",
   "execution_count": 60,
   "id": "e0e53b9a",
   "metadata": {},
   "outputs": [
    {
     "data": {
      "text/plain": [
       "26.37230118696876"
      ]
     },
     "execution_count": 60,
     "metadata": {},
     "output_type": "execute_result"
    }
   ],
   "source": [
    "SD=np.std(dataset)\n",
    "SD"
   ]
  },
  {
   "cell_type": "code",
   "execution_count": 61,
   "id": "ab5fce79",
   "metadata": {},
   "outputs": [
    {
     "data": {
      "text/plain": [
       "21.176470588235293"
      ]
     },
     "execution_count": 61,
     "metadata": {},
     "output_type": "execute_result"
    }
   ],
   "source": [
    "m=np.mean(dataset)\n",
    "m"
   ]
  },
  {
   "cell_type": "markdown",
   "id": "d09c702d",
   "metadata": {},
   "source": []
  },
  {
   "cell_type": "markdown",
   "id": "44a9fed2",
   "metadata": {},
   "source": [
    "# finding outliers using IQR\n",
    "1.sort the data.\n",
    "\n",
    "2.calauclate the Q1 and Q3\n",
    "\n",
    "3.IQR =  (Q1-Q3)\n",
    "\n",
    "4.find the lower fance(q1-1.5(iqr))\n",
    "\n",
    "\n",
    "5.find the upper fance(q1-1.5(iqr))"
   ]
  },
  {
   "cell_type": "code",
   "execution_count": 219,
   "id": "b313b966",
   "metadata": {},
   "outputs": [
    {
     "data": {
      "text/plain": [
       "[11,\n",
       " 10,\n",
       " 12,\n",
       " 14,\n",
       " 12,\n",
       " 15,\n",
       " 14,\n",
       " 13,\n",
       " 15,\n",
       " 102,\n",
       " 12,\n",
       " 14,\n",
       " 17,\n",
       " 19,\n",
       " 107,\n",
       " 10,\n",
       " 13,\n",
       " 12,\n",
       " 14,\n",
       " 12,\n",
       " 108,\n",
       " 12,\n",
       " 11,\n",
       " 14,\n",
       " 13,\n",
       " 15,\n",
       " 10,\n",
       " 15,\n",
       " 12,\n",
       " 10,\n",
       " 14,\n",
       " 13,\n",
       " 15,\n",
       " 10]"
      ]
     },
     "execution_count": 219,
     "metadata": {},
     "output_type": "execute_result"
    }
   ],
   "source": [
    "dataset"
   ]
  },
  {
   "cell_type": "code",
   "execution_count": 220,
   "id": "9b617e38",
   "metadata": {},
   "outputs": [],
   "source": [
    "dataset=sorted(dataset)"
   ]
  },
  {
   "cell_type": "code",
   "execution_count": 221,
   "id": "b77f6474",
   "metadata": {},
   "outputs": [
    {
     "data": {
      "text/plain": [
       "[10,\n",
       " 10,\n",
       " 10,\n",
       " 10,\n",
       " 10,\n",
       " 11,\n",
       " 11,\n",
       " 12,\n",
       " 12,\n",
       " 12,\n",
       " 12,\n",
       " 12,\n",
       " 12,\n",
       " 12,\n",
       " 13,\n",
       " 13,\n",
       " 13,\n",
       " 13,\n",
       " 14,\n",
       " 14,\n",
       " 14,\n",
       " 14,\n",
       " 14,\n",
       " 14,\n",
       " 15,\n",
       " 15,\n",
       " 15,\n",
       " 15,\n",
       " 15,\n",
       " 17,\n",
       " 19,\n",
       " 102,\n",
       " 107,\n",
       " 108]"
      ]
     },
     "execution_count": 221,
     "metadata": {},
     "output_type": "execute_result"
    }
   ],
   "source": [
    "dataset"
   ]
  },
  {
   "cell_type": "code",
   "execution_count": 153,
   "id": "58fa2402",
   "metadata": {},
   "outputs": [
    {
     "data": {
      "text/plain": [
       "[10,\n",
       " 10,\n",
       " 10,\n",
       " 10,\n",
       " 10,\n",
       " 11,\n",
       " 11,\n",
       " 12,\n",
       " 12,\n",
       " 12,\n",
       " 12,\n",
       " 12,\n",
       " 12,\n",
       " 12,\n",
       " 13,\n",
       " 13,\n",
       " 13,\n",
       " 13,\n",
       " 14,\n",
       " 14,\n",
       " 14,\n",
       " 14,\n",
       " 14,\n",
       " 14,\n",
       " 15,\n",
       " 15,\n",
       " 15,\n",
       " 15,\n",
       " 15,\n",
       " 17,\n",
       " 19,\n",
       " 102,\n",
       " 107,\n",
       " 108]"
      ]
     },
     "execution_count": 153,
     "metadata": {},
     "output_type": "execute_result"
    }
   ],
   "source": [
    "dataset= [11,10,12,14,12,15,14,13,15,102,12,14,17,19,107, 10,13,12,14,12,108,12,11,14,13,15,10,15,12,10,14,13,15,10]\n",
    "dataset.sort()\n",
    "dataset"
   ]
  },
  {
   "cell_type": "code",
   "execution_count": 154,
   "id": "b069bcfc",
   "metadata": {},
   "outputs": [
    {
     "data": {
      "text/html": [
       "<div>\n",
       "<style scoped>\n",
       "    .dataframe tbody tr th:only-of-type {\n",
       "        vertical-align: middle;\n",
       "    }\n",
       "\n",
       "    .dataframe tbody tr th {\n",
       "        vertical-align: top;\n",
       "    }\n",
       "\n",
       "    .dataframe thead th {\n",
       "        text-align: right;\n",
       "    }\n",
       "</style>\n",
       "<table border=\"1\" class=\"dataframe\">\n",
       "  <thead>\n",
       "    <tr style=\"text-align: right;\">\n",
       "      <th></th>\n",
       "      <th>0</th>\n",
       "    </tr>\n",
       "  </thead>\n",
       "  <tbody>\n",
       "    <tr>\n",
       "      <th>count</th>\n",
       "      <td>34.000000</td>\n",
       "    </tr>\n",
       "    <tr>\n",
       "      <th>mean</th>\n",
       "      <td>21.176471</td>\n",
       "    </tr>\n",
       "    <tr>\n",
       "      <th>std</th>\n",
       "      <td>26.768899</td>\n",
       "    </tr>\n",
       "    <tr>\n",
       "      <th>min</th>\n",
       "      <td>10.000000</td>\n",
       "    </tr>\n",
       "    <tr>\n",
       "      <th>25%</th>\n",
       "      <td>12.000000</td>\n",
       "    </tr>\n",
       "    <tr>\n",
       "      <th>50%</th>\n",
       "      <td>13.000000</td>\n",
       "    </tr>\n",
       "    <tr>\n",
       "      <th>75%</th>\n",
       "      <td>15.000000</td>\n",
       "    </tr>\n",
       "    <tr>\n",
       "      <th>max</th>\n",
       "      <td>108.000000</td>\n",
       "    </tr>\n",
       "  </tbody>\n",
       "</table>\n",
       "</div>"
      ],
      "text/plain": [
       "                0\n",
       "count   34.000000\n",
       "mean    21.176471\n",
       "std     26.768899\n",
       "min     10.000000\n",
       "25%     12.000000\n",
       "50%     13.000000\n",
       "75%     15.000000\n",
       "max    108.000000"
      ]
     },
     "execution_count": 154,
     "metadata": {},
     "output_type": "execute_result"
    }
   ],
   "source": [
    "df.describe()"
   ]
  },
  {
   "cell_type": "code",
   "execution_count": 187,
   "id": "1523912a",
   "metadata": {},
   "outputs": [
    {
     "name": "stdout",
     "output_type": "stream",
     "text": [
      "12.0 15.0\n",
      "LOWER_fence = 7.5\n",
      "HIGHER_fence = 19.5\n"
     ]
    }
   ],
   "source": [
    "q1,q3=np.percentile(df,[25,75])\n",
    "print(q1,q3)\n",
    "IQR= q3 - q1\n",
    "L_f=q1-((1.5)*(IQR))\n",
    "H_f=q3+((1.5)*(IQR))\n",
    "print(\"LOWER_fence =\",L_f)\n",
    "print(\"HIGHER_fence =\",H_f)"
   ]
  },
  {
   "cell_type": "code",
   "execution_count": null,
   "id": "648dab75",
   "metadata": {},
   "outputs": [],
   "source": []
  },
  {
   "cell_type": "code",
   "execution_count": 186,
   "id": "68e8421b",
   "metadata": {},
   "outputs": [
    {
     "name": "stdout",
     "output_type": "stream",
     "text": [
      " Lower_fence :7.5 \n",
      " Upper_fence :19.5  \n"
     ]
    }
   ],
   "source": [
    "Q1 = 12.000000 \n",
    "Q3 = 15.000000\n",
    "\n",
    "IQR = Q3 - Q1\n",
    "\n",
    "Lower_fence = Q1 - 1.5*(IQR)\n",
    "Upper_fence = Q3 + 1.5*(IQR)\n",
    "print(f\" Lower_fence :{Lower_fence} \\n Upper_fence :{Upper_fence}  \")"
   ]
  },
  {
   "cell_type": "code",
   "execution_count": 264,
   "id": "172d2085",
   "metadata": {},
   "outputs": [],
   "source": [
    "need_ele = []\n",
    "for i in dataset:\n",
    "    if i<7.5 and i>19.5:\n",
    "        need_ele.append(i)"
   ]
  },
  {
   "cell_type": "code",
   "execution_count": 265,
   "id": "47a456b7",
   "metadata": {},
   "outputs": [
    {
     "data": {
      "text/plain": [
       "[]"
      ]
     },
     "execution_count": 265,
     "metadata": {},
     "output_type": "execute_result"
    }
   ],
   "source": [
    "need_ele"
   ]
  },
  {
   "cell_type": "code",
   "execution_count": null,
   "id": "70e9f7be",
   "metadata": {},
   "outputs": [],
   "source": []
  },
  {
   "cell_type": "code",
   "execution_count": null,
   "id": "90c4b779",
   "metadata": {},
   "outputs": [],
   "source": []
  },
  {
   "cell_type": "code",
   "execution_count": 245,
   "id": "96b8a1fd",
   "metadata": {},
   "outputs": [
    {
     "data": {
      "text/plain": [
       "(12.0, 15.0)"
      ]
     },
     "execution_count": 245,
     "metadata": {},
     "output_type": "execute_result"
    }
   ],
   "source": [
    "q1,q3 = np.percentile(dataset,[25,75])\n",
    "q1,q3"
   ]
  },
  {
   "cell_type": "markdown",
   "id": "933a12f0",
   "metadata": {},
   "source": [
    "# finding IQR"
   ]
  },
  {
   "cell_type": "code",
   "execution_count": 247,
   "id": "b7850c33",
   "metadata": {},
   "outputs": [
    {
     "name": "stdout",
     "output_type": "stream",
     "text": [
      "3.0\n"
     ]
    }
   ],
   "source": [
    "iqr = q3-q1\n",
    "print(iqr)"
   ]
  },
  {
   "cell_type": "markdown",
   "id": "6bfc6a3b",
   "metadata": {},
   "source": [
    "# finding lower_fence,higher_fence "
   ]
  },
  {
   "cell_type": "code",
   "execution_count": 248,
   "id": "90a69524",
   "metadata": {},
   "outputs": [],
   "source": [
    "lower_fence  = q1-(1.5*iqr)\n",
    "higher_fence = q3+(1.5*iqr)"
   ]
  },
  {
   "cell_type": "code",
   "execution_count": 249,
   "id": "f1deecd4",
   "metadata": {},
   "outputs": [
    {
     "name": "stdout",
     "output_type": "stream",
     "text": [
      "lower_fence  : 7.5\n",
      "higher_fence : 19.5\n"
     ]
    }
   ],
   "source": [
    "print(\"lower_fence  :\",lower_fence )\n",
    "print(\"higher_fence :\",higher_fence)"
   ]
  },
  {
   "cell_type": "code",
   "execution_count": 250,
   "id": "57a52749",
   "metadata": {},
   "outputs": [
    {
     "data": {
      "text/plain": [
       "(7.5, 19.5)"
      ]
     },
     "execution_count": 250,
     "metadata": {},
     "output_type": "execute_result"
    }
   ],
   "source": [
    "lower_fence  = q1-1.5*iqr\n",
    "higher_fence = q3+1.5*iqr\n",
    "lower_fence,higher_fence"
   ]
  },
  {
   "cell_type": "code",
   "execution_count": 295,
   "id": "8386ee3d",
   "metadata": {},
   "outputs": [],
   "source": [
    "for i in dataset:\n",
    "    #print(i)\n",
    "    if i < 7.5 and i > 19.5:\n",
    "        print(i)\n",
    "        "
   ]
  },
  {
   "cell_type": "code",
   "execution_count": 296,
   "id": "d4cbea37",
   "metadata": {},
   "outputs": [
    {
     "name": "stdout",
     "output_type": "stream",
     "text": [
      "108\n"
     ]
    }
   ],
   "source": [
    "print(i)"
   ]
  },
  {
   "cell_type": "code",
   "execution_count": 293,
   "id": "31fa8e4d",
   "metadata": {},
   "outputs": [],
   "source": [
    "dataset= [11,10,12,14,12,15,14,13,15,102,12,14,17,19,107, 10,13,12,14,12,108,12,11,14,13,15,10,15,12,10,14,13,15,10]\n",
    "dataset.sort()\n",
    "for k in dataset:\n",
    "    if i < 7.5 and i > 19.5:\n",
    "        print(k)"
   ]
  },
  {
   "cell_type": "code",
   "execution_count": 294,
   "id": "12c930db",
   "metadata": {},
   "outputs": [
    {
     "name": "stdout",
     "output_type": "stream",
     "text": [
      "108\n"
     ]
    }
   ],
   "source": [
    "print(k)"
   ]
  },
  {
   "cell_type": "code",
   "execution_count": null,
   "id": "59411af3",
   "metadata": {},
   "outputs": [],
   "source": [
    "P- Value , Hypothesis_Tessting ,Confidence In"
   ]
  },
  {
   "cell_type": "markdown",
   "id": "7d4f7675",
   "metadata": {},
   "source": [
    "# Again finding IQR with iris"
   ]
  },
  {
   "cell_type": "code",
   "execution_count": 83,
   "id": "fe338a4e",
   "metadata": {},
   "outputs": [
    {
     "name": "stdout",
     "output_type": "stream",
     "text": [
      "1.6 5.1\n"
     ]
    }
   ],
   "source": [
    "q1,q3=np.percentile(df1['petal_length'],[25,75])\n",
    "print(q1,q3)"
   ]
  },
  {
   "cell_type": "code",
   "execution_count": 85,
   "id": "ffeb7ba4",
   "metadata": {},
   "outputs": [
    {
     "name": "stdout",
     "output_type": "stream",
     "text": [
      "3.4999999999999996\n"
     ]
    }
   ],
   "source": [
    "iqr = q3-q1\n",
    "print(iqr)"
   ]
  },
  {
   "cell_type": "code",
   "execution_count": 87,
   "id": "81e214e6",
   "metadata": {},
   "outputs": [
    {
     "name": "stdout",
     "output_type": "stream",
     "text": [
      "lower_fence   : -3.649999999999999\n",
      "higher_fence  : 10.349999999999998\n"
     ]
    }
   ],
   "source": [
    "lower_fence=q1-1.5*iqr\n",
    "higher_fence=q3+1.5*iqr\n",
    "print(\"lower_fence   :\",lower_fence)\n",
    "print(\"higher_fence  :\",higher_fence)"
   ]
  },
  {
   "cell_type": "code",
   "execution_count": 190,
   "id": "651040ef",
   "metadata": {
    "scrolled": true
   },
   "outputs": [
    {
     "data": {
      "text/html": [
       "<div>\n",
       "<style scoped>\n",
       "    .dataframe tbody tr th:only-of-type {\n",
       "        vertical-align: middle;\n",
       "    }\n",
       "\n",
       "    .dataframe tbody tr th {\n",
       "        vertical-align: top;\n",
       "    }\n",
       "\n",
       "    .dataframe thead th {\n",
       "        text-align: right;\n",
       "    }\n",
       "</style>\n",
       "<table border=\"1\" class=\"dataframe\">\n",
       "  <thead>\n",
       "    <tr style=\"text-align: right;\">\n",
       "      <th></th>\n",
       "      <th>amar</th>\n",
       "    </tr>\n",
       "  </thead>\n",
       "  <tbody>\n",
       "    <tr>\n",
       "      <th>0</th>\n",
       "      <td>10</td>\n",
       "    </tr>\n",
       "    <tr>\n",
       "      <th>1</th>\n",
       "      <td>10</td>\n",
       "    </tr>\n",
       "    <tr>\n",
       "      <th>2</th>\n",
       "      <td>10</td>\n",
       "    </tr>\n",
       "    <tr>\n",
       "      <th>3</th>\n",
       "      <td>10</td>\n",
       "    </tr>\n",
       "    <tr>\n",
       "      <th>4</th>\n",
       "      <td>10</td>\n",
       "    </tr>\n",
       "    <tr>\n",
       "      <th>5</th>\n",
       "      <td>11</td>\n",
       "    </tr>\n",
       "    <tr>\n",
       "      <th>6</th>\n",
       "      <td>11</td>\n",
       "    </tr>\n",
       "    <tr>\n",
       "      <th>7</th>\n",
       "      <td>12</td>\n",
       "    </tr>\n",
       "    <tr>\n",
       "      <th>8</th>\n",
       "      <td>12</td>\n",
       "    </tr>\n",
       "    <tr>\n",
       "      <th>9</th>\n",
       "      <td>12</td>\n",
       "    </tr>\n",
       "    <tr>\n",
       "      <th>10</th>\n",
       "      <td>12</td>\n",
       "    </tr>\n",
       "    <tr>\n",
       "      <th>11</th>\n",
       "      <td>12</td>\n",
       "    </tr>\n",
       "    <tr>\n",
       "      <th>12</th>\n",
       "      <td>12</td>\n",
       "    </tr>\n",
       "    <tr>\n",
       "      <th>13</th>\n",
       "      <td>12</td>\n",
       "    </tr>\n",
       "    <tr>\n",
       "      <th>14</th>\n",
       "      <td>13</td>\n",
       "    </tr>\n",
       "    <tr>\n",
       "      <th>15</th>\n",
       "      <td>13</td>\n",
       "    </tr>\n",
       "    <tr>\n",
       "      <th>16</th>\n",
       "      <td>13</td>\n",
       "    </tr>\n",
       "    <tr>\n",
       "      <th>17</th>\n",
       "      <td>13</td>\n",
       "    </tr>\n",
       "    <tr>\n",
       "      <th>18</th>\n",
       "      <td>14</td>\n",
       "    </tr>\n",
       "    <tr>\n",
       "      <th>19</th>\n",
       "      <td>14</td>\n",
       "    </tr>\n",
       "    <tr>\n",
       "      <th>20</th>\n",
       "      <td>14</td>\n",
       "    </tr>\n",
       "    <tr>\n",
       "      <th>21</th>\n",
       "      <td>14</td>\n",
       "    </tr>\n",
       "    <tr>\n",
       "      <th>22</th>\n",
       "      <td>14</td>\n",
       "    </tr>\n",
       "    <tr>\n",
       "      <th>23</th>\n",
       "      <td>14</td>\n",
       "    </tr>\n",
       "    <tr>\n",
       "      <th>24</th>\n",
       "      <td>15</td>\n",
       "    </tr>\n",
       "    <tr>\n",
       "      <th>25</th>\n",
       "      <td>15</td>\n",
       "    </tr>\n",
       "    <tr>\n",
       "      <th>26</th>\n",
       "      <td>15</td>\n",
       "    </tr>\n",
       "    <tr>\n",
       "      <th>27</th>\n",
       "      <td>15</td>\n",
       "    </tr>\n",
       "    <tr>\n",
       "      <th>28</th>\n",
       "      <td>15</td>\n",
       "    </tr>\n",
       "    <tr>\n",
       "      <th>29</th>\n",
       "      <td>17</td>\n",
       "    </tr>\n",
       "    <tr>\n",
       "      <th>30</th>\n",
       "      <td>19</td>\n",
       "    </tr>\n",
       "    <tr>\n",
       "      <th>31</th>\n",
       "      <td>102</td>\n",
       "    </tr>\n",
       "    <tr>\n",
       "      <th>32</th>\n",
       "      <td>107</td>\n",
       "    </tr>\n",
       "    <tr>\n",
       "      <th>33</th>\n",
       "      <td>108</td>\n",
       "    </tr>\n",
       "  </tbody>\n",
       "</table>\n",
       "</div>"
      ],
      "text/plain": [
       "    amar\n",
       "0     10\n",
       "1     10\n",
       "2     10\n",
       "3     10\n",
       "4     10\n",
       "5     11\n",
       "6     11\n",
       "7     12\n",
       "8     12\n",
       "9     12\n",
       "10    12\n",
       "11    12\n",
       "12    12\n",
       "13    12\n",
       "14    13\n",
       "15    13\n",
       "16    13\n",
       "17    13\n",
       "18    14\n",
       "19    14\n",
       "20    14\n",
       "21    14\n",
       "22    14\n",
       "23    14\n",
       "24    15\n",
       "25    15\n",
       "26    15\n",
       "27    15\n",
       "28    15\n",
       "29    17\n",
       "30    19\n",
       "31   102\n",
       "32   107\n",
       "33   108"
      ]
     },
     "execution_count": 190,
     "metadata": {},
     "output_type": "execute_result"
    }
   ],
   "source": [
    "df = pd.DataFrame(dataset,columns=['amar'])\n",
    "df"
   ]
  },
  {
   "cell_type": "code",
   "execution_count": 315,
   "id": "d00dd600",
   "metadata": {},
   "outputs": [
    {
     "data": {
      "text/plain": [
       "0      10\n",
       "1      10\n",
       "2      10\n",
       "3      10\n",
       "4      10\n",
       "5      11\n",
       "6      11\n",
       "7      12\n",
       "8      12\n",
       "9      12\n",
       "10     12\n",
       "11     12\n",
       "12     12\n",
       "13     12\n",
       "14     13\n",
       "15     13\n",
       "16     13\n",
       "17     13\n",
       "18     14\n",
       "19     14\n",
       "20     14\n",
       "21     14\n",
       "22     14\n",
       "23     14\n",
       "24     15\n",
       "25     15\n",
       "26     15\n",
       "27     15\n",
       "28     15\n",
       "29     17\n",
       "30     19\n",
       "31    102\n",
       "32    107\n",
       "33    108\n",
       "Name: amar, dtype: int64"
      ]
     },
     "execution_count": 315,
     "metadata": {},
     "output_type": "execute_result"
    }
   ],
   "source": [
    "df['amar']"
   ]
  },
  {
   "cell_type": "code",
   "execution_count": 319,
   "id": "7856a4bf",
   "metadata": {},
   "outputs": [
    {
     "name": "stderr",
     "output_type": "stream",
     "text": [
      "C:\\Users\\gajula Amar\\anaconda3\\lib\\site-packages\\seaborn\\_decorators.py:36: FutureWarning: Pass the following variable as a keyword arg: x. From version 0.12, the only valid positional argument will be `data`, and passing other arguments without an explicit keyword will result in an error or misinterpretation.\n",
      "  warnings.warn(\n"
     ]
    },
    {
     "data": {
      "text/plain": [
       "<AxesSubplot:xlabel='amar'>"
      ]
     },
     "execution_count": 319,
     "metadata": {},
     "output_type": "execute_result"
    },
    {
     "data": {
      "image/png": "[encoded data removed]",
      "text/plain": [
       "<Figure size 432x288 with 1 Axes>"
      ]
     },
     "metadata": {
      "needs_background": "light"
     },
     "output_type": "display_data"
    }
   ],
   "source": [
    "sns.boxplot(df['amar'])"
   ]
  },
  {
   "cell_type": "code",
   "execution_count": 258,
   "id": "03e23ae9",
   "metadata": {
    "scrolled": true
   },
   "outputs": [
    {
     "name": "stderr",
     "output_type": "stream",
     "text": [
      "C:\\Users\\gajula Amar\\anaconda3\\lib\\site-packages\\seaborn\\_decorators.py:36: FutureWarning: Pass the following variable as a keyword arg: x. From version 0.12, the only valid positional argument will be `data`, and passing other arguments without an explicit keyword will result in an error or misinterpretation.\n",
      "  warnings.warn(\n"
     ]
    },
    {
     "data": {
      "text/plain": [
       "<AxesSubplot:>"
      ]
     },
     "execution_count": 258,
     "metadata": {},
     "output_type": "execute_result"
    },
    {
     "data": {
      "image/png": "[encoded data removed]",
      "text/plain": [
       "<Figure size 432x288 with 1 Axes>"
      ]
     },
     "metadata": {
      "needs_background": "light"
     },
     "output_type": "display_data"
    }
   ],
   "source": [
    "sns.boxenplot(dataset)"
   ]
  },
  {
   "cell_type": "code",
   "execution_count": 320,
   "id": "2dcd41d0",
   "metadata": {},
   "outputs": [
    {
     "data": {
      "text/plain": [
       "{'whiskers': [<matplotlib.lines.Line2D at 0x2a7b376e1c0>,\n",
       "  <matplotlib.lines.Line2D at 0x2a7b367a970>],\n",
       " 'caps': [<matplotlib.lines.Line2D at 0x2a7b367af40>,\n",
       "  <matplotlib.lines.Line2D at 0x2a7b3656a00>],\n",
       " 'boxes': [<matplotlib.lines.Line2D at 0x2a7b376eee0>],\n",
       " 'medians': [<matplotlib.lines.Line2D at 0x2a7b3647370>],\n",
       " 'fliers': [<matplotlib.lines.Line2D at 0x2a7b34cfdf0>],\n",
       " 'means': []}"
      ]
     },
     "execution_count": 320,
     "metadata": {},
     "output_type": "execute_result"
    },
    {
     "data": {
      "image/png": "[encoded data removed]",
      "text/plain": [
       "<Figure size 432x288 with 1 Axes>"
      ]
     },
     "metadata": {
      "needs_background": "light"
     },
     "output_type": "display_data"
    }
   ],
   "source": [
    "plt.boxplot(df['amar'])"
   ]
  },
  {
   "cell_type": "code",
   "execution_count": 257,
   "id": "0ab95f03",
   "metadata": {},
   "outputs": [
    {
     "data": {
      "text/plain": [
       "{'whiskers': [<matplotlib.lines.Line2D at 0x1d3a1027610>,\n",
       "  <matplotlib.lines.Line2D at 0x1d3a10279a0>],\n",
       " 'caps': [<matplotlib.lines.Line2D at 0x1d3a1027d30>,\n",
       "  <matplotlib.lines.Line2D at 0x1d3a1036100>],\n",
       " 'boxes': [<matplotlib.lines.Line2D at 0x1d3a1027250>],\n",
       " 'medians': [<matplotlib.lines.Line2D at 0x1d3a1036490>],\n",
       " 'fliers': [<matplotlib.lines.Line2D at 0x1d3a1036820>],\n",
       " 'means': []}"
      ]
     },
     "execution_count": 257,
     "metadata": {},
     "output_type": "execute_result"
    },
    {
     "data": {
      "image/png": "[encoded data removed]",
      "text/plain": [
       "<Figure size 432x288 with 1 Axes>"
      ]
     },
     "metadata": {
      "needs_background": "light"
     },
     "output_type": "display_data"
    }
   ],
   "source": [
    "plt.boxplot(dataset)"
   ]
  },
  {
   "cell_type": "code",
   "execution_count": null,
   "id": "1c6a9042",
   "metadata": {},
   "outputs": [],
   "source": []
  },
  {
   "cell_type": "code",
   "execution_count": 322,
   "id": "48ec65ec",
   "metadata": {},
   "outputs": [
    {
     "data": {
      "text/plain": [
       "<AxesSubplot:xlabel='amar', ylabel='Count'>"
      ]
     },
     "execution_count": 322,
     "metadata": {},
     "output_type": "execute_result"
    },
    {
     "data": {
      "image/png": "[encoded data removed]",
      "text/plain": [
       "<Figure size 432x288 with 1 Axes>"
      ]
     },
     "metadata": {
      "needs_background": "light"
     },
     "output_type": "display_data"
    }
   ],
   "source": [
    "sns.histplot(df[\"amar\"],kde=True)"
   ]
  },
  {
   "cell_type": "code",
   "execution_count": 324,
   "id": "5d9b6a80",
   "metadata": {},
   "outputs": [
    {
     "name": "stderr",
     "output_type": "stream",
     "text": [
      "C:\\Users\\gajula Amar\\anaconda3\\lib\\site-packages\\seaborn\\_decorators.py:36: FutureWarning: Pass the following variable as a keyword arg: x. From version 0.12, the only valid positional argument will be `data`, and passing other arguments without an explicit keyword will result in an error or misinterpretation.\n",
      "  warnings.warn(\n",
      "C:\\Users\\gajula Amar\\anaconda3\\lib\\site-packages\\numpy\\lib\\nanfunctions.py:1368: RuntimeWarning: All-NaN slice encountered\n",
      "  r, k = function_base._ureduce(\n"
     ]
    },
    {
     "data": {
      "text/plain": [
       "<AxesSubplot:xlabel='amar'>"
      ]
     },
     "execution_count": 324,
     "metadata": {},
     "output_type": "execute_result"
    },
    {
     "data": {
      "image/png": "[encoded data removed]",
      "text/plain": [
       "<Figure size 432x288 with 1 Axes>"
      ]
     },
     "metadata": {
      "needs_background": "light"
     },
     "output_type": "display_data"
    }
   ],
   "source": [
    "sns.lineplot(df['amar'])"
   ]
  },
  {
   "cell_type": "code",
   "execution_count": 347,
   "id": "66c1761a",
   "metadata": {},
   "outputs": [
    {
     "data": {
      "text/plain": [
       "<AxesSubplot:>"
      ]
     },
     "execution_count": 347,
     "metadata": {},
     "output_type": "execute_result"
    },
    {
     "data": {
      "image/png": "[encoded data removed]",
      "text/plain": [
       "<Figure size 432x288 with 1 Axes>"
      ]
     },
     "metadata": {
      "needs_background": "light"
     },
     "output_type": "display_data"
    }
   ],
   "source": [
    "df.plot()"
   ]
  },
  {
   "cell_type": "code",
   "execution_count": null,
   "id": "8abe3dd6",
   "metadata": {},
   "outputs": [],
   "source": []
  },
  {
   "cell_type": "code",
   "execution_count": 345,
   "id": "6e3b0f66",
   "metadata": {},
   "outputs": [
    {
     "data": {
      "text/plain": [
       "<AxesSubplot:>"
      ]
     },
     "execution_count": 345,
     "metadata": {},
     "output_type": "execute_result"
    },
    {
     "data": {
      "image/png": "[encoded data removed]",
      "text/plain": [
       "<Figure size 1440x720 with 1 Axes>"
      ]
     },
     "metadata": {
      "needs_background": "light"
     },
     "output_type": "display_data"
    }
   ],
   "source": [
    "df.plot(figsize=(20,10))"
   ]
  },
  {
   "cell_type": "code",
   "execution_count": 331,
   "id": "c003e3b3",
   "metadata": {},
   "outputs": [
    {
     "data": {
      "text/plain": [
       "<AxesSubplot:>"
      ]
     },
     "execution_count": 331,
     "metadata": {},
     "output_type": "execute_result"
    },
    {
     "data": {
      "image/png": "[encoded data removed]",
      "text/plain": [
       "<Figure size 432x288 with 1 Axes>"
      ]
     },
     "metadata": {
      "needs_background": "light"
     },
     "output_type": "display_data"
    }
   ],
   "source": [
    "df.plot(kind='bar')"
   ]
  },
  {
   "cell_type": "code",
   "execution_count": 332,
   "id": "5ec9f1ff",
   "metadata": {},
   "outputs": [
    {
     "data": {
      "text/plain": [
       "<AxesSubplot:>"
      ]
     },
     "execution_count": 332,
     "metadata": {},
     "output_type": "execute_result"
    },
    {
     "data": {
      "image/png": "[encoded data removed]",
      "text/plain": [
       "<Figure size 432x288 with 1 Axes>"
      ]
     },
     "metadata": {
      "needs_background": "light"
     },
     "output_type": "display_data"
    }
   ],
   "source": [
    "df.plot(kind='box')"
   ]
  },
  {
   "cell_type": "code",
   "execution_count": 337,
   "id": "89192d5f",
   "metadata": {},
   "outputs": [
    {
     "data": {
      "text/plain": [
       "<AxesSubplot:xlabel='amar', ylabel='amar'>"
      ]
     },
     "execution_count": 337,
     "metadata": {},
     "output_type": "execute_result"
    },
    {
     "data": {
      "image/png": "[encoded data removed]",
      "text/plain": [
       "<Figure size 432x288 with 1 Axes>"
      ]
     },
     "metadata": {
      "needs_background": "light"
     },
     "output_type": "display_data"
    }
   ],
   "source": [
    "df.plot.scatter(x='amar',y='amar')"
   ]
  },
  {
   "cell_type": "code",
   "execution_count": 338,
   "id": "fd9c4c94",
   "metadata": {},
   "outputs": [
    {
     "data": {
      "text/plain": [
       "<AxesSubplot:>"
      ]
     },
     "execution_count": 338,
     "metadata": {},
     "output_type": "execute_result"
    },
    {
     "data": {
      "image/png": "[encoded data removed]",
      "text/plain": [
       "<Figure size 432x288 with 1 Axes>"
      ]
     },
     "metadata": {
      "needs_background": "light"
     },
     "output_type": "display_data"
    }
   ],
   "source": [
    "df.plot(kind='area')"
   ]
  },
  {
   "cell_type": "code",
   "execution_count": 344,
   "id": "6b71ff22",
   "metadata": {},
   "outputs": [
    {
     "data": {
      "text/plain": [
       "<AxesSubplot:xlabel='amar', ylabel='amar'>"
      ]
     },
     "execution_count": 344,
     "metadata": {},
     "output_type": "execute_result"
    },
    {
     "data": {
      "image/png": "[encoded data removed]",
      "text/plain": [
       "<Figure size 432x288 with 1 Axes>"
      ]
     },
     "metadata": {
      "needs_background": "light"
     },
     "output_type": "display_data"
    }
   ],
   "source": [
    "df.plot.scatter(x='amar',y='amar')"
   ]
  },
  {
   "cell_type": "code",
   "execution_count": null,
   "id": "11fc9772",
   "metadata": {},
   "outputs": [],
   "source": []
  },
  {
   "cell_type": "code",
   "execution_count": null,
   "id": "21391ac3",
   "metadata": {},
   "outputs": [],
   "source": []
  },
  {
   "cell_type": "code",
   "execution_count": null,
   "id": "6f28fb9e",
   "metadata": {},
   "outputs": [],
   "source": []
  },
  {
   "cell_type": "code",
   "execution_count": null,
   "id": "966dfa49",
   "metadata": {},
   "outputs": [],
   "source": [
    "Hypothesis Testing \n",
    " 1. Null Hypothesis --coin is fair(HO)\n",
    " 2.Alternative Hypothesis --coin is not Fair (HS)\n",
    " 3.Experiment\n",
    " 4. Reject or Accept the Null Hypothesis\n",
    "\n",
    "real world project \n",
    "\n",
    "Bank A                           location A atm aria\n",
    "             \n",
    "               \n",
    "                "
   ]
  },
  {
   "cell_type": "code",
   "execution_count": null,
   "id": "299e4f5a",
   "metadata": {},
   "outputs": [],
   "source": [
    "after 100 tosses 50 times head }|---\n",
    "                 50 times tail }|---"
   ]
  },
  {
   "cell_type": "code",
   "execution_count": null,
   "id": "e93b61f5",
   "metadata": {},
   "outputs": [],
   "source": [
    "Power law Distribution "
   ]
  },
  {
   "cell_type": "code",
   "execution_count": 1,
   "id": "b0d9379e",
   "metadata": {},
   "outputs": [
    {
     "data": {
      "text/plain": [
       "0.08226"
      ]
     },
     "execution_count": 1,
     "metadata": {},
     "output_type": "execute_result"
    }
   ],
   "source": [
    "1-0.91774"
   ]
  },
  {
   "cell_type": "code",
   "execution_count": 2,
   "id": "d380d7e9",
   "metadata": {},
   "outputs": [
    {
     "data": {
      "text/plain": [
       "0.83548"
      ]
     },
     "execution_count": 2,
     "metadata": {},
     "output_type": "execute_result"
    }
   ],
   "source": [
    "1-0.08226-0.08226"
   ]
  },
  {
   "cell_type": "code",
   "execution_count": 1,
   "id": "1c038d9d",
   "metadata": {},
   "outputs": [
    {
     "data": {
      "text/plain": [
       "0.83548"
      ]
     },
     "execution_count": 1,
     "metadata": {},
     "output_type": "execute_result"
    }
   ],
   "source": [
    "1-0.08226-0.08226"
   ]
  },
  {
   "cell_type": "code",
   "execution_count": null,
   "id": "6a8c6b0d",
   "metadata": {},
   "outputs": [],
   "source": []
  }
 ],
 "metadata": {
  "kernelspec": {
   "display_name": "Python 3 (ipykernel)",
   "language": "python",
   "name": "python3"
  },
  "language_info": {
   "codemirror_mode": {
    "name": "ipython",
    "version": 3
   },
   "file_extension": ".py",
   "mimetype": "text/x-python",
   "name": "python",
   "nbconvert_exporter": "python",
   "pygments_lexer": "ipython3",
   "version": "3.9.7"
  }
 },
 "nbformat": 4,
 "nbformat_minor": 5
}
