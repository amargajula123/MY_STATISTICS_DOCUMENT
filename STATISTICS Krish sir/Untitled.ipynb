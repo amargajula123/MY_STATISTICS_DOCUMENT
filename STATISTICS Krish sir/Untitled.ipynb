{
 "cells": [
  {
   "cell_type": "code",
   "execution_count": null,
   "id": "04969f1d",
   "metadata": {},
   "outputs": [],
   "source": [
    "Sample_mean(x̄) \n",
    "Population_mean(µ)\n",
    "\n",
    "########################################################\n",
    "\n",
    "@Variance formula\n",
    "\n",
    "\n",
    "Population_Variance (σ²)           Sample_Variance(s²)\n",
    "--------------------------   |   --------------------------\n",
    "                             |\n",
    "Formula for Population       |       Formula for Sample  \n",
    "Variance is                  |        Variance is\n",
    "                             |\n",
    "      N   (xi-µ)²            |            n   (xi-x̄)²\n",
    "σ² =  ∑   ------             |      s² =  ∑   ------\n",
    "     i=1     N               |           i=1    n-1    \n",
    "                             |         \n",
    "Here \"µ\" is \"Population mean\"|      Here \"x̄\" is the \"Sample mean\"\n",
    "\n",
    "######################################################################\n",
    "\n",
    "\"Variance\"(x)  to \"Covariance\"(x,x)  \n",
    "\n",
    "           n    (xi-x̄)²          n   (x-x̄)*(x-x̄)\n",
    " Var(x) =  ∑  ----------   ==>   ∑ ------------- = covariance(x,x) \n",
    "          i=1    n-1            i=1      n-1\n",
    "    \n",
    "#####################################################################\n",
    "\n",
    "@Pearson_Correlation_Coefficent :=\n",
    "    \n",
    "    The more towords +1 more positively correlation\n",
    "    The more towords -1 more negatively correlated\n",
    "    [:. ρ = row sign]\n",
    "    \n",
    "    \n",
    "             Cov[x,y]\n",
    "    ρ x,y = ------------  B-coz of this [\"σx  σy\"] it will \n",
    "              σx   σy     try to get \"restricted\" B/w\"-1 to 1\" \n",
    "                          The more the value towords 1 more \n",
    "                          +ve it is 'Correlated' \n",
    "                \n",
    "#######################################################\n",
    "\n",
    "@Spearman_Rank_Corelation :=\n",
    "   \n",
    "    in Spearman Rank Corelation we bassically createts \"Rank\"\n",
    "\n",
    "according to 'spearmans rank correlation' we are able to get \n",
    "1, but \"pearson correlation\" when we find out that value\n",
    "its  0.88\n",
    "\n",
    "          Cov(R(x),R(y))\n",
    "    rs = -----------------\n",
    "          σR(x)   σR(y)\n",
    "        \n",
    "##############################################################\n",
    "\n",
    "Chi-square test formula : =\n",
    "    \n",
    "    \n",
    "              (f0 - fe)²      (obsered - expected)²\n",
    "    X² =   ∑ ------------- = ----------------------\n",
    "                 fe                expected\n",
    "        \n",
    "#############################################################\n",
    "\n",
    "why Z-score need ?\n",
    "\n",
    "    with the help of Z-score we will be understand \n",
    "    how many SD that particuler number folls away or\n",
    "    bellow from the mean\n",
    "    \n",
    "                           xi - µ\n",
    "                Z-score = --------\n",
    "                              σ\n",
    "                \n",
    "#############################################################\n",
    "\n",
    "                           xi - µ\n",
    "                Z-score = -------- \n",
    "                             s/√n \n",
    "\n",
    "                           xi - µ\n",
    "                Z-score = -------- \n",
    "                             σ/√n \n",
    "                    \n",
    "##########################################################\n",
    "\n",
    "respect to this 2 value(n,x) we can caluculate \n",
    " the \"propotion\"\n",
    "    \n",
    "   \"propotion\" formula\n",
    "\n",
    "             ^     x̄        \n",
    "             P = -----  \n",
    "                   n   \n",
    "            \n",
    "            \n",
    "        x = 130  , n = 200\n",
    "ex : = \n",
    "    ^     x̄       130 \n",
    "    P = -----  = ----- = 0.65 = 65%\n",
    "          n       200   \n",
    "        \n",
    " \"Z-test with Propotion\"\n",
    "\n",
    "now in order to aplly Z-test there will be a seperate\n",
    "formula   \n",
    "\n",
    "                 P^ - P0\n",
    "       Z-test = ---------- [:. q0 is nothing but 1-P0]\n",
    "                √(P0)(q0)/n\n",
    "            \n",
    "#############################################################\n",
    "\n",
    " @Covariance_Formula :=\n",
    "        \n",
    "                     n   (Xi - x̄)(Yi - ȳ)\n",
    "         Cov( x,y) = ∑ --------------------\n",
    "                    i=1      N - 1\n",
    "\n",
    "##################################################################\n",
    "@Log Normal Distribution\n",
    "X = skuwed curv\n",
    "\"X=exp(y) or Y =log(x)\"\n",
    "\n",
    "\n",
    "#############################################################\n",
    "\n",
    "\"Significance Value\"(α)\n",
    "\"Confidence Interwell\" (CI)\n",
    "\n",
    "Formula_of_to_find_out_Confidence_interwell  with \"Z_TEST\":= \n",
    "        \n",
    "        Point Estimate ± Margin of Error\n",
    "                \n",
    "                [:. Point Estiamte = x̄]\n",
    "                [:.Margin of Error = Zα/2]\n",
    "                \n",
    "                           σ  \n",
    "             := x̄ ± Zα/2 ----  \n",
    "                          √n \n",
    "                     σ \n",
    "         ---->     ----    this turm/formula will define our \n",
    "                    √n    'Standard Error'\n",
    "            \n",
    "######################################################################            \n",
    "here Population SD is not given so we use \"T_test\"\n",
    "\n",
    "         Point Estimate ± Margin of Error\n",
    "    \n",
    "                [:. Point Estiamte = x̄   ]\n",
    "                [:.Margin of Error = Tα/2]\n",
    "                                         \n",
    "                        S \n",
    "       C.I  = x̄ ± Tα/2 ----  --> this will be my standerd error\n",
    "                        √n \n",
    "####################################################################\n",
    "\n",
    "ANOVA TEST \n",
    "\n",
    "1.first formula := Some_of \"square_bitween\"\n",
    "-------------------------------------------\n",
    "\n",
    "              ∑ (∑ai)²     T²\n",
    "Ss between = --------- -  --- \n",
    "                 n         N  \n",
    "    \n",
    "2.second formula := Some_of \"square_within\"\n",
    "------------------------------------------- \n",
    "\n",
    "                     ∑ (∑ai)²    \n",
    "Ss within = ∑ Y² -  ---------  \n",
    "                        n    \n",
    " meanSquare formula :=\n",
    "    \n",
    "    \n",
    "                           Someofsqre         \n",
    "\"meanSquare\" will find = ---------------- \n",
    "                          degrreofreedom      \n",
    "    \n",
    "    \n",
    "@last final F_test is :=\n",
    "    \n",
    "     \n",
    "                  MsBetween     \n",
    "Finally F-test =  ---------- \n",
    "                  Mswithin  \n",
    "    \n",
    "    MsBetween \"meanSquare_B/W\"\n",
    "    Mswithin  \"meanSquare_Within\""
   ]
  },
  {
   "cell_type": "code",
   "execution_count": 31,
   "id": "cbc220f4",
   "metadata": {},
   "outputs": [],
   "source": [
    "import scipy.stats as stats"
   ]
  },
  {
   "cell_type": "code",
   "execution_count": 32,
   "id": "fb013e8e",
   "metadata": {},
   "outputs": [],
   "source": [
    "import seaborn as sns\n",
    "import pandas as pd\n",
    "import numpy as np\n",
    "dataset=sns.load_dataset('tips')"
   ]
  },
  {
   "cell_type": "code",
   "execution_count": 33,
   "id": "16320bc1",
   "metadata": {},
   "outputs": [
    {
     "data": {
      "text/html": [
       "<div>\n",
       "<style scoped>\n",
       "    .dataframe tbody tr th:only-of-type {\n",
       "        vertical-align: middle;\n",
       "    }\n",
       "\n",
       "    .dataframe tbody tr th {\n",
       "        vertical-align: top;\n",
       "    }\n",
       "\n",
       "    .dataframe thead th {\n",
       "        text-align: right;\n",
       "    }\n",
       "</style>\n",
       "<table border=\"1\" class=\"dataframe\">\n",
       "  <thead>\n",
       "    <tr style=\"text-align: right;\">\n",
       "      <th></th>\n",
       "      <th>total_bill</th>\n",
       "      <th>tip</th>\n",
       "      <th>sex</th>\n",
       "      <th>smoker</th>\n",
       "      <th>day</th>\n",
       "      <th>time</th>\n",
       "      <th>size</th>\n",
       "    </tr>\n",
       "  </thead>\n",
       "  <tbody>\n",
       "    <tr>\n",
       "      <th>0</th>\n",
       "      <td>16.99</td>\n",
       "      <td>1.01</td>\n",
       "      <td>Female</td>\n",
       "      <td>No</td>\n",
       "      <td>Sun</td>\n",
       "      <td>Dinner</td>\n",
       "      <td>2</td>\n",
       "    </tr>\n",
       "    <tr>\n",
       "      <th>1</th>\n",
       "      <td>10.34</td>\n",
       "      <td>1.66</td>\n",
       "      <td>Male</td>\n",
       "      <td>No</td>\n",
       "      <td>Sun</td>\n",
       "      <td>Dinner</td>\n",
       "      <td>3</td>\n",
       "    </tr>\n",
       "    <tr>\n",
       "      <th>2</th>\n",
       "      <td>21.01</td>\n",
       "      <td>3.50</td>\n",
       "      <td>Male</td>\n",
       "      <td>No</td>\n",
       "      <td>Sun</td>\n",
       "      <td>Dinner</td>\n",
       "      <td>3</td>\n",
       "    </tr>\n",
       "    <tr>\n",
       "      <th>3</th>\n",
       "      <td>23.68</td>\n",
       "      <td>3.31</td>\n",
       "      <td>Male</td>\n",
       "      <td>No</td>\n",
       "      <td>Sun</td>\n",
       "      <td>Dinner</td>\n",
       "      <td>2</td>\n",
       "    </tr>\n",
       "    <tr>\n",
       "      <th>4</th>\n",
       "      <td>24.59</td>\n",
       "      <td>3.61</td>\n",
       "      <td>Female</td>\n",
       "      <td>No</td>\n",
       "      <td>Sun</td>\n",
       "      <td>Dinner</td>\n",
       "      <td>4</td>\n",
       "    </tr>\n",
       "  </tbody>\n",
       "</table>\n",
       "</div>"
      ],
      "text/plain": [
       "   total_bill   tip     sex smoker  day    time  size\n",
       "0       16.99  1.01  Female     No  Sun  Dinner     2\n",
       "1       10.34  1.66    Male     No  Sun  Dinner     3\n",
       "2       21.01  3.50    Male     No  Sun  Dinner     3\n",
       "3       23.68  3.31    Male     No  Sun  Dinner     2\n",
       "4       24.59  3.61  Female     No  Sun  Dinner     4"
      ]
     },
     "execution_count": 33,
     "metadata": {},
     "output_type": "execute_result"
    }
   ],
   "source": [
    "dataset.head()"
   ]
  },
  {
   "cell_type": "code",
   "execution_count": 34,
   "id": "33373fec",
   "metadata": {},
   "outputs": [
    {
     "data": {
      "text/html": [
       "<div>\n",
       "<style scoped>\n",
       "    .dataframe tbody tr th:only-of-type {\n",
       "        vertical-align: middle;\n",
       "    }\n",
       "\n",
       "    .dataframe tbody tr th {\n",
       "        vertical-align: top;\n",
       "    }\n",
       "\n",
       "    .dataframe thead th {\n",
       "        text-align: right;\n",
       "    }\n",
       "</style>\n",
       "<table border=\"1\" class=\"dataframe\">\n",
       "  <thead>\n",
       "    <tr style=\"text-align: right;\">\n",
       "      <th>smoker</th>\n",
       "      <th>Yes</th>\n",
       "      <th>No</th>\n",
       "    </tr>\n",
       "    <tr>\n",
       "      <th>sex</th>\n",
       "      <th></th>\n",
       "      <th></th>\n",
       "    </tr>\n",
       "  </thead>\n",
       "  <tbody>\n",
       "    <tr>\n",
       "      <th>Male</th>\n",
       "      <td>60</td>\n",
       "      <td>97</td>\n",
       "    </tr>\n",
       "    <tr>\n",
       "      <th>Female</th>\n",
       "      <td>33</td>\n",
       "      <td>54</td>\n",
       "    </tr>\n",
       "  </tbody>\n",
       "</table>\n",
       "</div>"
      ],
      "text/plain": [
       "smoker  Yes  No\n",
       "sex            \n",
       "Male     60  97\n",
       "Female   33  54"
      ]
     },
     "execution_count": 34,
     "metadata": {},
     "output_type": "execute_result"
    }
   ],
   "source": [
    "pd.crosstab(dataset['sex'],dataset['smoker'])\n",
    "#crosstab used for cotegorical data youll get 2X2 matrix"
   ]
  },
  {
   "cell_type": "code",
   "execution_count": 39,
   "id": "db037483",
   "metadata": {},
   "outputs": [
    {
     "data": {
      "text/html": [
       "<div>\n",
       "<style scoped>\n",
       "    .dataframe tbody tr th:only-of-type {\n",
       "        vertical-align: middle;\n",
       "    }\n",
       "\n",
       "    .dataframe tbody tr th {\n",
       "        vertical-align: top;\n",
       "    }\n",
       "\n",
       "    .dataframe thead th {\n",
       "        text-align: right;\n",
       "    }\n",
       "</style>\n",
       "<table border=\"1\" class=\"dataframe\">\n",
       "  <thead>\n",
       "    <tr style=\"text-align: right;\">\n",
       "      <th>smoker</th>\n",
       "      <th>Yes</th>\n",
       "      <th>No</th>\n",
       "    </tr>\n",
       "    <tr>\n",
       "      <th>sex</th>\n",
       "      <th></th>\n",
       "      <th></th>\n",
       "    </tr>\n",
       "  </thead>\n",
       "  <tbody>\n",
       "    <tr>\n",
       "      <th>Male</th>\n",
       "      <td>60</td>\n",
       "      <td>97</td>\n",
       "    </tr>\n",
       "    <tr>\n",
       "      <th>Female</th>\n",
       "      <td>33</td>\n",
       "      <td>54</td>\n",
       "    </tr>\n",
       "  </tbody>\n",
       "</table>\n",
       "</div>"
      ],
      "text/plain": [
       "smoker  Yes  No\n",
       "sex            \n",
       "Male     60  97\n",
       "Female   33  54"
      ]
     },
     "execution_count": 39,
     "metadata": {},
     "output_type": "execute_result"
    }
   ],
   "source": [
    "dataset_table = pd.crosstab(dataset['sex'],dataset['smoker'])\n",
    "dataset_table"
   ]
  },
  {
   "cell_type": "code",
   "execution_count": 40,
   "id": "d85ad254",
   "metadata": {},
   "outputs": [
    {
     "name": "stdout",
     "output_type": "stream",
     "text": [
      "smoker  Yes  No\n",
      "sex            \n",
      "Male     60  97\n",
      "Female   33  54\n"
     ]
    }
   ],
   "source": [
    "print(dataset_table)"
   ]
  },
  {
   "cell_type": "code",
   "execution_count": 42,
   "id": "8e1f95bb",
   "metadata": {},
   "outputs": [
    {
     "data": {
      "text/plain": [
       "array([[60, 97],\n",
       "       [33, 54]], dtype=int64)"
      ]
     },
     "execution_count": 42,
     "metadata": {},
     "output_type": "execute_result"
    }
   ],
   "source": [
    "dataset_table.values # it converts into numpy values as array"
   ]
  },
  {
   "cell_type": "code",
   "execution_count": 44,
   "id": "49d7be5c",
   "metadata": {},
   "outputs": [
    {
     "data": {
      "text/plain": [
       "array([[60, 97],\n",
       "       [33, 54]], dtype=int64)"
      ]
     },
     "execution_count": 44,
     "metadata": {},
     "output_type": "execute_result"
    }
   ],
   "source": [
    "obeserver_values = dataset_table.values \n",
    "obeserver_values"
   ]
  },
  {
   "cell_type": "code",
   "execution_count": 54,
   "id": "2db238bf",
   "metadata": {},
   "outputs": [
    {
     "data": {
      "text/plain": [
       "(0.0,\n",
       " 1.0,\n",
       " 1,\n",
       " array([[59.84016393, 97.15983607],\n",
       "        [33.15983607, 53.84016393]]))"
      ]
     },
     "execution_count": 54,
     "metadata": {},
     "output_type": "execute_result"
    }
   ],
   "source": [
    "val = stats.chi2_contingency(obeserver_values)\n",
    "val"
   ]
  },
  {
   "cell_type": "code",
   "execution_count": 58,
   "id": "c281bbfd",
   "metadata": {},
   "outputs": [
    {
     "data": {
      "text/plain": [
       "(0.0,\n",
       " 1.0,\n",
       " 1,\n",
       " array([[59.84016393, 97.15983607],\n",
       "        [33.15983607, 53.84016393]]))"
      ]
     },
     "execution_count": 58,
     "metadata": {},
     "output_type": "execute_result"
    }
   ],
   "source": [
    "val = stats.chi2_contingency(dataset_table)\n",
    "val"
   ]
  },
  {
   "cell_type": "code",
   "execution_count": 67,
   "id": "6e824522",
   "metadata": {},
   "outputs": [],
   "source": [
    "expected_values=val[3]"
   ]
  },
  {
   "cell_type": "code",
   "execution_count": 68,
   "id": "5df2f040",
   "metadata": {},
   "outputs": [
    {
     "data": {
      "text/plain": [
       "array([[59.84016393, 97.15983607],\n",
       "       [33.15983607, 53.84016393]])"
      ]
     },
     "execution_count": 68,
     "metadata": {},
     "output_type": "execute_result"
    }
   ],
   "source": [
    "expected_values"
   ]
  },
  {
   "cell_type": "code",
   "execution_count": null,
   "id": "277be725",
   "metadata": {},
   "outputs": [],
   "source": []
  }
 ],
 "metadata": {
  "kernelspec": {
   "display_name": "Python 3 (ipykernel)",
   "language": "python",
   "name": "python3"
  },
  "language_info": {
   "codemirror_mode": {
    "name": "ipython",
    "version": 3
   },
   "file_extension": ".py",
   "mimetype": "text/x-python",
   "name": "python",
   "nbconvert_exporter": "python",
   "pygments_lexer": "ipython3",
   "version": "3.9.7"
  }
 },
 "nbformat": 4,
 "nbformat_minor": 5
}
